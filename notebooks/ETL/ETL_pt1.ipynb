{
  "cells": [
    {
      "cell_type": "markdown",
      "metadata": {
        "id": "GqfEcyHPkF3S"
      },
      "source": [
        "**IMPORTAÇÃO DAS BIBLIOTECAS**"
      ]
    },
    {
      "cell_type": "code",
      "execution_count": 22,
      "metadata": {
        "id": "Xi5_l3K8M1Y5"
      },
      "outputs": [],
      "source": [
        "import pandas as pd\n",
        "import numpy as np\n",
        "import csv"
      ]
    },
    {
      "cell_type": "markdown",
      "metadata": {
        "id": "hGWzXnUPj_pM"
      },
      "source": [
        "**LEITURA DOS DADOS**"
      ]
    },
    {
      "cell_type": "code",
      "execution_count": 51,
      "metadata": {
        "id": "9_VndmNNM19I"
      },
      "outputs": [],
      "source": [
        "# Ler o arquivo CSV e tratar os dados\n",
        "dados = pd.read_csv('/dados/merged/dados_completos.csv',\n",
        "                    engine='python',\n",
        "                    sep=\";\"\n",
        "                    )"
      ]
    },
    {
      "cell_type": "markdown",
      "metadata": {
        "id": "O0T8nFN1MXzP"
      },
      "source": [
        "**VISUALIZAÇÃO PREVIA DOS DADOS**"
      ]
    },
    {
      "cell_type": "code",
      "execution_count": 53,
      "metadata": {
        "colab": {
          "base_uri": "https://localhost:8080/",
          "height": 424
        },
        "id": "GHWb_aMce9m3",
        "outputId": "9a866c0a-27d0-499e-dcec-dddf3eebba6a"
      },
      "outputs": [
        {
          "data": {
            "text/html": [
              "\n",
              "  <div id=\"df-8c27effd-0763-4864-9994-5e3687e075c7\">\n",
              "    <div class=\"colab-df-container\">\n",
              "      <div>\n",
              "<style scoped>\n",
              "    .dataframe tbody tr th:only-of-type {\n",
              "        vertical-align: middle;\n",
              "    }\n",
              "\n",
              "    .dataframe tbody tr th {\n",
              "        vertical-align: top;\n",
              "    }\n",
              "\n",
              "    .dataframe thead th {\n",
              "        text-align: right;\n",
              "    }\n",
              "</style>\n",
              "<table border=\"1\" class=\"dataframe\">\n",
              "  <thead>\n",
              "    <tr style=\"text-align: right;\">\n",
              "      <th></th>\n",
              "      <th>codigo</th>\n",
              "      <th>descricao</th>\n",
              "      <th>valor</th>\n",
              "      <th>data</th>\n",
              "    </tr>\n",
              "  </thead>\n",
              "  <tbody>\n",
              "    <tr>\n",
              "      <th>0</th>\n",
              "      <td>414.0</td>\n",
              "      <td>ABRACADEIRA DE NYLON PARA AMARRACAO DE CABOS, ...</td>\n",
              "      <td>0.07</td>\n",
              "      <td>01/2010</td>\n",
              "    </tr>\n",
              "    <tr>\n",
              "      <th>1</th>\n",
              "      <td>410.0</td>\n",
              "      <td>ABRACADEIRA DE NYLON PARA AMARRACAO DE CABOS, ...</td>\n",
              "      <td>0.10</td>\n",
              "      <td>01/2010</td>\n",
              "    </tr>\n",
              "    <tr>\n",
              "      <th>2</th>\n",
              "      <td>411.0</td>\n",
              "      <td>ABRACADEIRA DE NYLON PARA AMARRACAO DE CABOS, ...</td>\n",
              "      <td>0.13</td>\n",
              "      <td>01/2010</td>\n",
              "    </tr>\n",
              "    <tr>\n",
              "      <th>3</th>\n",
              "      <td>409.0</td>\n",
              "      <td>ABRACADEIRA DE NYLON PARA AMARRACAO DE CABOS, ...</td>\n",
              "      <td>0.20</td>\n",
              "      <td>01/2010</td>\n",
              "    </tr>\n",
              "    <tr>\n",
              "      <th>4</th>\n",
              "      <td>412.0</td>\n",
              "      <td>ABRACADEIRA DE NYLON PARA AMARRACAO DE CABOS, ...</td>\n",
              "      <td>0.23</td>\n",
              "      <td>01/2010</td>\n",
              "    </tr>\n",
              "    <tr>\n",
              "      <th>...</th>\n",
              "      <td>...</td>\n",
              "      <td>...</td>\n",
              "      <td>...</td>\n",
              "      <td>...</td>\n",
              "    </tr>\n",
              "    <tr>\n",
              "      <th>339675</th>\n",
              "      <td>13440.0</td>\n",
              "      <td>VOLKSWAGEN GOL 1.6 A GASOLINA**CAIXA**</td>\n",
              "      <td>52278.69</td>\n",
              "      <td>12/2013</td>\n",
              "    </tr>\n",
              "    <tr>\n",
              "      <th>339676</th>\n",
              "      <td>11613.0</td>\n",
              "      <td>VOLKSWAGEN KOMBI STANDARD PICK UP A GASOLINA R...</td>\n",
              "      <td>48814.30</td>\n",
              "      <td>12/2013</td>\n",
              "    </tr>\n",
              "    <tr>\n",
              "      <th>339677</th>\n",
              "      <td></td>\n",
              "      <td>1170KG**CAIXA**</td>\n",
              "      <td>NaN</td>\n",
              "      <td>12/2013</td>\n",
              "    </tr>\n",
              "    <tr>\n",
              "      <th>339678</th>\n",
              "      <td>00011157</td>\n",
              "      <td>WASH PRIMER PARA TINTA AUTOMOTIVA</td>\n",
              "      <td>114.29</td>\n",
              "      <td>12/2013</td>\n",
              "    </tr>\n",
              "    <tr>\n",
              "      <th>339679</th>\n",
              "      <td>00004227</td>\n",
              "      <td>ÓLEO LUBRIFICANTE PARA MOTORES DE EQUIPAMENTOS...</td>\n",
              "      <td>14.00</td>\n",
              "      <td>12/2013</td>\n",
              "    </tr>\n",
              "  </tbody>\n",
              "</table>\n",
              "<p>339680 rows × 4 columns</p>\n",
              "</div>\n",
              "      <button class=\"colab-df-convert\" onclick=\"convertToInteractive('df-8c27effd-0763-4864-9994-5e3687e075c7')\"\n",
              "              title=\"Convert this dataframe to an interactive table.\"\n",
              "              style=\"display:none;\">\n",
              "        \n",
              "  <svg xmlns=\"http://www.w3.org/2000/svg\" height=\"24px\"viewBox=\"0 0 24 24\"\n",
              "       width=\"24px\">\n",
              "    <path d=\"M0 0h24v24H0V0z\" fill=\"none\"/>\n",
              "    <path d=\"M18.56 5.44l.94 2.06.94-2.06 2.06-.94-2.06-.94-.94-2.06-.94 2.06-2.06.94zm-11 1L8.5 8.5l.94-2.06 2.06-.94-2.06-.94L8.5 2.5l-.94 2.06-2.06.94zm10 10l.94 2.06.94-2.06 2.06-.94-2.06-.94-.94-2.06-.94 2.06-2.06.94z\"/><path d=\"M17.41 7.96l-1.37-1.37c-.4-.4-.92-.59-1.43-.59-.52 0-1.04.2-1.43.59L10.3 9.45l-7.72 7.72c-.78.78-.78 2.05 0 2.83L4 21.41c.39.39.9.59 1.41.59.51 0 1.02-.2 1.41-.59l7.78-7.78 2.81-2.81c.8-.78.8-2.07 0-2.86zM5.41 20L4 18.59l7.72-7.72 1.47 1.35L5.41 20z\"/>\n",
              "  </svg>\n",
              "      </button>\n",
              "      \n",
              "  <style>\n",
              "    .colab-df-container {\n",
              "      display:flex;\n",
              "      flex-wrap:wrap;\n",
              "      gap: 12px;\n",
              "    }\n",
              "\n",
              "    .colab-df-convert {\n",
              "      background-color: #E8F0FE;\n",
              "      border: none;\n",
              "      border-radius: 50%;\n",
              "      cursor: pointer;\n",
              "      display: none;\n",
              "      fill: #1967D2;\n",
              "      height: 32px;\n",
              "      padding: 0 0 0 0;\n",
              "      width: 32px;\n",
              "    }\n",
              "\n",
              "    .colab-df-convert:hover {\n",
              "      background-color: #E2EBFA;\n",
              "      box-shadow: 0px 1px 2px rgba(60, 64, 67, 0.3), 0px 1px 3px 1px rgba(60, 64, 67, 0.15);\n",
              "      fill: #174EA6;\n",
              "    }\n",
              "\n",
              "    [theme=dark] .colab-df-convert {\n",
              "      background-color: #3B4455;\n",
              "      fill: #D2E3FC;\n",
              "    }\n",
              "\n",
              "    [theme=dark] .colab-df-convert:hover {\n",
              "      background-color: #434B5C;\n",
              "      box-shadow: 0px 1px 3px 1px rgba(0, 0, 0, 0.15);\n",
              "      filter: drop-shadow(0px 1px 2px rgba(0, 0, 0, 0.3));\n",
              "      fill: #FFFFFF;\n",
              "    }\n",
              "  </style>\n",
              "\n",
              "      <script>\n",
              "        const buttonEl =\n",
              "          document.querySelector('#df-8c27effd-0763-4864-9994-5e3687e075c7 button.colab-df-convert');\n",
              "        buttonEl.style.display =\n",
              "          google.colab.kernel.accessAllowed ? 'block' : 'none';\n",
              "\n",
              "        async function convertToInteractive(key) {\n",
              "          const element = document.querySelector('#df-8c27effd-0763-4864-9994-5e3687e075c7');\n",
              "          const dataTable =\n",
              "            await google.colab.kernel.invokeFunction('convertToInteractive',\n",
              "                                                     [key], {});\n",
              "          if (!dataTable) return;\n",
              "\n",
              "          const docLinkHtml = 'Like what you see? Visit the ' +\n",
              "            '<a target=\"_blank\" href=https://colab.research.google.com/notebooks/data_table.ipynb>data table notebook</a>'\n",
              "            + ' to learn more about interactive tables.';\n",
              "          element.innerHTML = '';\n",
              "          dataTable['output_type'] = 'display_data';\n",
              "          await google.colab.output.renderOutput(dataTable, element);\n",
              "          const docLink = document.createElement('div');\n",
              "          docLink.innerHTML = docLinkHtml;\n",
              "          element.appendChild(docLink);\n",
              "        }\n",
              "      </script>\n",
              "    </div>\n",
              "  </div>\n",
              "  "
            ],
            "text/plain": [
              "          codigo                                          descricao     valor  \\\n",
              "0          414.0  ABRACADEIRA DE NYLON PARA AMARRACAO DE CABOS, ...      0.07   \n",
              "1          410.0  ABRACADEIRA DE NYLON PARA AMARRACAO DE CABOS, ...      0.10   \n",
              "2          411.0  ABRACADEIRA DE NYLON PARA AMARRACAO DE CABOS, ...      0.13   \n",
              "3          409.0  ABRACADEIRA DE NYLON PARA AMARRACAO DE CABOS, ...      0.20   \n",
              "4          412.0  ABRACADEIRA DE NYLON PARA AMARRACAO DE CABOS, ...      0.23   \n",
              "...          ...                                                ...       ...   \n",
              "339675   13440.0             VOLKSWAGEN GOL 1.6 A GASOLINA**CAIXA**  52278.69   \n",
              "339676   11613.0  VOLKSWAGEN KOMBI STANDARD PICK UP A GASOLINA R...  48814.30   \n",
              "339677                                              1170KG**CAIXA**       NaN   \n",
              "339678  00011157                  WASH PRIMER PARA TINTA AUTOMOTIVA    114.29   \n",
              "339679  00004227  ÓLEO LUBRIFICANTE PARA MOTORES DE EQUIPAMENTOS...     14.00   \n",
              "\n",
              "           data  \n",
              "0       01/2010  \n",
              "1       01/2010  \n",
              "2       01/2010  \n",
              "3       01/2010  \n",
              "4       01/2010  \n",
              "...         ...  \n",
              "339675  12/2013  \n",
              "339676  12/2013  \n",
              "339677  12/2013  \n",
              "339678  12/2013  \n",
              "339679  12/2013  \n",
              "\n",
              "[339680 rows x 4 columns]"
            ]
          },
          "execution_count": 53,
          "metadata": {},
          "output_type": "execute_result"
        }
      ],
      "source": [
        "dados"
      ]
    },
    {
      "cell_type": "markdown",
      "metadata": {
        "id": "njsSBSccjwjq"
      },
      "source": [
        "**CONVERSÃO DOS DADOS**"
      ]
    },
    {
      "cell_type": "code",
      "execution_count": 54,
      "metadata": {
        "id": "o2eZgiEcJgUr"
      },
      "outputs": [],
      "source": [
        "dados.replace('\"', '', regex=True, inplace=True)\n",
        "# Converter a coluna de data para o formato mm/yyyy\n",
        "dados['data'] = pd.to_datetime(dados['data'].astype(str).str.zfill(6), format='%m%Y').dt.strftime('%m/%Y')\n",
        "\n",
        "# Converter a coluna 'valor' para float64\n",
        "dados['valor'] = pd.to_numeric(dados['valor'].str.replace('.', '').str.replace(',', '.'))\n",
        "    \n",
        "# Aplicar a expressão regular na coluna e converter para float\n",
        "dados['codigo'] = dados['codigo'].str.replace(r'[^0-9,\\.]', '', regex=True)\n",
        "\n",
        "# Conversão para float\n",
        "dados['codigo'] = pd.to_numeric(dados['codigo'].str.replace(',', '.'), errors='coerce')\n",
        "\n"
      ]
    },
    {
      "cell_type": "markdown",
      "metadata": {
        "id": "bFLn8UdnkSg8"
      },
      "source": [
        "**DADOS FALTANTES**"
      ]
    },
    {
      "cell_type": "code",
      "execution_count": 65,
      "metadata": {
        "colab": {
          "base_uri": "https://localhost:8080/"
        },
        "id": "lZJ6K1UhiGde",
        "outputId": "1337d1f9-8695-4b77-a50d-4d5e102a45f9"
      },
      "outputs": [
        {
          "name": "stdout",
          "output_type": "stream",
          "text": [
            "[nan]\n",
            "[nan]\n"
          ]
        }
      ],
      "source": [
        "# Verificando os dados faltantes\n",
        "\n",
        "dados_faltantes = dados[dados.isna().any(axis=1)]\n",
        "print(dados_faltantes['valor'].unique())\n",
        "print(dados_faltantes['codigo'].unique())"
      ]
    },
    {
      "cell_type": "code",
      "execution_count": 68,
      "metadata": {
        "id": "4TOGPAGuiglF"
      },
      "outputs": [],
      "source": [
        "# Deletar as linha que contem dados faltantes\n",
        "\n",
        "dados.dropna(inplace=True)"
      ]
    },
    {
      "attachments": {},
      "cell_type": "markdown",
      "metadata": {
        "id": "ELX4SlQRkzDc"
      },
      "source": [
        "**VERIFICANDO AS INFORMAÇÕES BASICAS DOS DADOS**"
      ]
    },
    {
      "cell_type": "code",
      "execution_count": 69,
      "metadata": {
        "colab": {
          "base_uri": "https://localhost:8080/"
        },
        "id": "vFUwPl71kwi1",
        "outputId": "15fbdf34-110a-4c99-c010-4bab2247c891"
      },
      "outputs": [
        {
          "name": "stdout",
          "output_type": "stream",
          "text": [
            "<class 'pandas.core.frame.DataFrame'>\n",
            "Int64Index: 297250 entries, 0 to 339679\n",
            "Data columns (total 4 columns):\n",
            " #   Column     Non-Null Count   Dtype  \n",
            "---  ------     --------------   -----  \n",
            " 0   codigo     297250 non-null  float64\n",
            " 1   descricao  297250 non-null  object \n",
            " 2   valor      297250 non-null  float64\n",
            " 3   data       297250 non-null  object \n",
            "dtypes: float64(2), object(2)\n",
            "memory usage: 11.3+ MB\n"
          ]
        }
      ],
      "source": [
        "dados.info()"
      ]
    },
    {
      "cell_type": "code",
      "execution_count": 71,
      "metadata": {
        "id": "rqV2J3mElSdV"
      },
      "outputs": [],
      "source": [
        "# Salvandos os dados\n",
        "\n",
        "dados.to_csv('dados\\clean\\dados_parte1.csv', index=False, sep=';')"
      ]
    },
    {
      "cell_type": "code",
      "execution_count": null,
      "metadata": {},
      "outputs": [],
      "source": []
    }
  ],
  "metadata": {
    "colab": {
      "provenance": []
    },
    "kernelspec": {
      "display_name": "Python 3",
      "name": "python3"
    },
    "language_info": {
      "codemirror_mode": {
        "name": "ipython",
        "version": 3
      },
      "file_extension": ".py",
      "mimetype": "text/x-python",
      "name": "python",
      "nbconvert_exporter": "python",
      "pygments_lexer": "ipython3",
      "version": "3.10.4"
    }
  },
  "nbformat": 4,
  "nbformat_minor": 0
}
