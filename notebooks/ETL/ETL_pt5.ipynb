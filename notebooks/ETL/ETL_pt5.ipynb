{
  "nbformat": 4,
  "nbformat_minor": 0,
  "metadata": {
    "colab": {
      "provenance": []
    },
    "kernelspec": {
      "name": "python3",
      "display_name": "Python 3"
    },
    "language_info": {
      "name": "python"
    }
  },
  "cells": [
    {
      "cell_type": "markdown",
      "source": [
        "**IMPORTANDO AS BIBLIOTECAS**"
      ],
      "metadata": {
        "id": "ZQKye3Du7dCC"
      }
    },
    {
      "cell_type": "code",
      "execution_count": 1,
      "metadata": {
        "id": "n-u-LCeKPO2D"
      },
      "outputs": [],
      "source": [
        "import pandas as pd\n",
        "import numpy as np\n",
        "import matplotlib.pyplot as plt\n",
        "import os\n",
        "import warnings\n",
        "\n",
        "warnings.simplefilter(action='ignore', category=Warning)"
      ]
    },
    {
      "cell_type": "code",
      "source": [
        "#materiais = pd.read_csv('/content/drive/MyDrive/PROJETO APLICADO/MATERIAIS.csv', encoding='ISO-8859-1', error_bad_lines=False, sep = \";\" )"
      ],
      "metadata": {
        "id": "DRLAtfy6PUIb"
      },
      "execution_count": 2,
      "outputs": []
    },
    {
      "cell_type": "markdown",
      "source": [
        "**CARREGANDO OS DADOS E CONCATENANDO**"
      ],
      "metadata": {
        "id": "D89xDhV-6SJa"
      }
    },
    {
      "cell_type": "code",
      "source": [
        "# Caminho dos dados\n",
        "caminho_pasta = '/content/drive/MyDrive/PROJETO APLICADO/'\n",
        "\n",
        "# Lista para armazenar os dataframes\n",
        "dfs=[]\n",
        "\n",
        "# Loop para carregar os arquivos na pasta\n",
        "for nome_arquivo in os.listdir(caminho_pasta):\n",
        "  if nome_arquivo.lower().endswith('.csv'):\n",
        "    df = pd.read_csv(os.path.join(caminho_pasta, nome_arquivo),encoding='ISO-8859-1', error_bad_lines=False, sep = \";\" )\n",
        "    dfs.append(df)\n",
        "\n",
        "# Concatenação dos dados\n",
        "dados = pd.concat(dfs, ignore_index=True);\n"
      ],
      "metadata": {
        "id": "1oU_Cmh8P9OK"
      },
      "execution_count": 9,
      "outputs": []
    },
    {
      "cell_type": "markdown",
      "source": [
        "**ALTERANDO O DTYPE DA COLUNA DATA**"
      ],
      "metadata": {
        "id": "RzZ-KWu56XTy"
      }
    },
    {
      "cell_type": "code",
      "source": [
        "# Tranformação dos dados de object para datetime\n",
        "dados['data'] = pd.to_datetime(dados['data'], format='%m/%Y')\n",
        "dados['data'] = dados['data'].dt.strftime('%m/%y')"
      ],
      "metadata": {
        "id": "9-LsGSc2Q4pS"
      },
      "execution_count": 10,
      "outputs": []
    },
    {
      "cell_type": "markdown",
      "source": [
        "**VERIFICAÇÕES RAPIDAS PARA AJUSTES DOS DADOS**"
      ],
      "metadata": {
        "id": "RTKYt7QZ6L29"
      }
    },
    {
      "cell_type": "code",
      "source": [
        "# Alterando a ordem dos dados pela data\n",
        "dados.sort_values(by=\"data\", inplace=True)\n",
        "\n",
        "# Verificando quantos meses temos de dados\n",
        "len(dados['data'].unique())"
      ],
      "metadata": {
        "colab": {
          "base_uri": "https://localhost:8080/"
        },
        "id": "AQ7aNW8huE9n",
        "outputId": "30fed703-26b8-438d-8f05-2d57d7f902c7"
      },
      "execution_count": 11,
      "outputs": [
        {
          "output_type": "execute_result",
          "data": {
            "text/plain": [
              "157"
            ]
          },
          "metadata": {},
          "execution_count": 11
        }
      ]
    },
    {
      "cell_type": "code",
      "source": [
        "dados['data'].unique()"
      ],
      "metadata": {
        "colab": {
          "base_uri": "https://localhost:8080/"
        },
        "id": "Gu06Di_gf7z_",
        "outputId": "598bf16c-3f10-49a1-b2ed-b413c6124de4"
      },
      "execution_count": 12,
      "outputs": [
        {
          "output_type": "execute_result",
          "data": {
            "text/plain": [
              "array(['01/10', '01/11', '01/12', '01/13', '01/14', '01/15', '01/16',\n",
              "       '01/17', '01/18', '01/19', '01/20', '01/21', '01/22', '01/23',\n",
              "       '02/10', '02/11', '02/12', '02/13', '02/14', '02/15', '02/16',\n",
              "       '02/17', '02/18', '02/19', '02/20', '02/21', '02/22', '03/10',\n",
              "       '03/11', '03/12', '03/13', '03/14', '03/15', '03/16', '03/17',\n",
              "       '03/18', '03/19', '03/20', '03/21', '03/22', '04/10', '04/11',\n",
              "       '04/12', '04/13', '04/14', '04/15', '04/16', '04/17', '04/18',\n",
              "       '04/19', '04/20', '04/21', '04/22', '05/10', '05/11', '05/12',\n",
              "       '05/13', '05/14', '05/15', '05/16', '05/17', '05/18', '05/19',\n",
              "       '05/20', '05/21', '05/22', '06/10', '06/11', '06/12', '06/13',\n",
              "       '06/14', '06/15', '06/16', '06/17', '06/18', '06/19', '06/20',\n",
              "       '06/21', '06/22', '07/10', '07/11', '07/12', '07/13', '07/14',\n",
              "       '07/15', '07/16', '07/17', '07/18', '07/19', '07/20', '07/21',\n",
              "       '07/22', '08/10', '08/11', '08/12', '08/13', '08/14', '08/15',\n",
              "       '08/16', '08/17', '08/18', '08/19', '08/20', '08/21', '08/22',\n",
              "       '09/10', '09/11', '09/12', '09/13', '09/14', '09/15', '09/16',\n",
              "       '09/17', '09/18', '09/19', '09/20', '09/21', '09/22', '10/10',\n",
              "       '10/11', '10/12', '10/13', '10/14', '10/15', '10/16', '10/17',\n",
              "       '10/18', '10/19', '10/20', '10/21', '10/22', '11/10', '11/11',\n",
              "       '11/12', '11/13', '11/14', '11/15', '11/16', '11/17', '11/18',\n",
              "       '11/19', '11/20', '11/21', '11/22', '12/10', '12/11', '12/12',\n",
              "       '12/13', '12/14', '12/15', '12/16', '12/17', '12/18', '12/19',\n",
              "       '12/20', '12/21', '12/22'], dtype=object)"
            ]
          },
          "metadata": {},
          "execution_count": 12
        }
      ]
    },
    {
      "cell_type": "code",
      "source": [
        "# Descrição estatistica dos dados\n",
        "round(dados.describe().T,2)"
      ],
      "metadata": {
        "colab": {
          "base_uri": "https://localhost:8080/",
          "height": 112
        },
        "id": "u3WuU-vJ5iBt",
        "outputId": "a0838342-59a1-4ce4-e51a-8eb45487e5ab"
      },
      "execution_count": 13,
      "outputs": [
        {
          "output_type": "execute_result",
          "data": {
            "text/plain": [
              "           count      mean        std  min      25%      50%       75%  \\\n",
              "codigo  812637.0  14482.53   14019.35  1.0  3463.00  10531.0  21048.00   \n",
              "valor   812637.0  18233.33  174146.13  0.0     8.23     28.9    148.78   \n",
              "\n",
              "               max  \n",
              "codigo    44945.00  \n",
              "valor   8958602.97  "
            ],
            "text/html": [
              "\n",
              "  <div id=\"df-6d7a79dc-e563-4314-80ce-94dbbc82d367\">\n",
              "    <div class=\"colab-df-container\">\n",
              "      <div>\n",
              "<style scoped>\n",
              "    .dataframe tbody tr th:only-of-type {\n",
              "        vertical-align: middle;\n",
              "    }\n",
              "\n",
              "    .dataframe tbody tr th {\n",
              "        vertical-align: top;\n",
              "    }\n",
              "\n",
              "    .dataframe thead th {\n",
              "        text-align: right;\n",
              "    }\n",
              "</style>\n",
              "<table border=\"1\" class=\"dataframe\">\n",
              "  <thead>\n",
              "    <tr style=\"text-align: right;\">\n",
              "      <th></th>\n",
              "      <th>count</th>\n",
              "      <th>mean</th>\n",
              "      <th>std</th>\n",
              "      <th>min</th>\n",
              "      <th>25%</th>\n",
              "      <th>50%</th>\n",
              "      <th>75%</th>\n",
              "      <th>max</th>\n",
              "    </tr>\n",
              "  </thead>\n",
              "  <tbody>\n",
              "    <tr>\n",
              "      <th>codigo</th>\n",
              "      <td>812637.0</td>\n",
              "      <td>14482.53</td>\n",
              "      <td>14019.35</td>\n",
              "      <td>1.0</td>\n",
              "      <td>3463.00</td>\n",
              "      <td>10531.0</td>\n",
              "      <td>21048.00</td>\n",
              "      <td>44945.00</td>\n",
              "    </tr>\n",
              "    <tr>\n",
              "      <th>valor</th>\n",
              "      <td>812637.0</td>\n",
              "      <td>18233.33</td>\n",
              "      <td>174146.13</td>\n",
              "      <td>0.0</td>\n",
              "      <td>8.23</td>\n",
              "      <td>28.9</td>\n",
              "      <td>148.78</td>\n",
              "      <td>8958602.97</td>\n",
              "    </tr>\n",
              "  </tbody>\n",
              "</table>\n",
              "</div>\n",
              "      <button class=\"colab-df-convert\" onclick=\"convertToInteractive('df-6d7a79dc-e563-4314-80ce-94dbbc82d367')\"\n",
              "              title=\"Convert this dataframe to an interactive table.\"\n",
              "              style=\"display:none;\">\n",
              "        \n",
              "  <svg xmlns=\"http://www.w3.org/2000/svg\" height=\"24px\"viewBox=\"0 0 24 24\"\n",
              "       width=\"24px\">\n",
              "    <path d=\"M0 0h24v24H0V0z\" fill=\"none\"/>\n",
              "    <path d=\"M18.56 5.44l.94 2.06.94-2.06 2.06-.94-2.06-.94-.94-2.06-.94 2.06-2.06.94zm-11 1L8.5 8.5l.94-2.06 2.06-.94-2.06-.94L8.5 2.5l-.94 2.06-2.06.94zm10 10l.94 2.06.94-2.06 2.06-.94-2.06-.94-.94-2.06-.94 2.06-2.06.94z\"/><path d=\"M17.41 7.96l-1.37-1.37c-.4-.4-.92-.59-1.43-.59-.52 0-1.04.2-1.43.59L10.3 9.45l-7.72 7.72c-.78.78-.78 2.05 0 2.83L4 21.41c.39.39.9.59 1.41.59.51 0 1.02-.2 1.41-.59l7.78-7.78 2.81-2.81c.8-.78.8-2.07 0-2.86zM5.41 20L4 18.59l7.72-7.72 1.47 1.35L5.41 20z\"/>\n",
              "  </svg>\n",
              "      </button>\n",
              "      \n",
              "  <style>\n",
              "    .colab-df-container {\n",
              "      display:flex;\n",
              "      flex-wrap:wrap;\n",
              "      gap: 12px;\n",
              "    }\n",
              "\n",
              "    .colab-df-convert {\n",
              "      background-color: #E8F0FE;\n",
              "      border: none;\n",
              "      border-radius: 50%;\n",
              "      cursor: pointer;\n",
              "      display: none;\n",
              "      fill: #1967D2;\n",
              "      height: 32px;\n",
              "      padding: 0 0 0 0;\n",
              "      width: 32px;\n",
              "    }\n",
              "\n",
              "    .colab-df-convert:hover {\n",
              "      background-color: #E2EBFA;\n",
              "      box-shadow: 0px 1px 2px rgba(60, 64, 67, 0.3), 0px 1px 3px 1px rgba(60, 64, 67, 0.15);\n",
              "      fill: #174EA6;\n",
              "    }\n",
              "\n",
              "    [theme=dark] .colab-df-convert {\n",
              "      background-color: #3B4455;\n",
              "      fill: #D2E3FC;\n",
              "    }\n",
              "\n",
              "    [theme=dark] .colab-df-convert:hover {\n",
              "      background-color: #434B5C;\n",
              "      box-shadow: 0px 1px 3px 1px rgba(0, 0, 0, 0.15);\n",
              "      filter: drop-shadow(0px 1px 2px rgba(0, 0, 0, 0.3));\n",
              "      fill: #FFFFFF;\n",
              "    }\n",
              "  </style>\n",
              "\n",
              "      <script>\n",
              "        const buttonEl =\n",
              "          document.querySelector('#df-6d7a79dc-e563-4314-80ce-94dbbc82d367 button.colab-df-convert');\n",
              "        buttonEl.style.display =\n",
              "          google.colab.kernel.accessAllowed ? 'block' : 'none';\n",
              "\n",
              "        async function convertToInteractive(key) {\n",
              "          const element = document.querySelector('#df-6d7a79dc-e563-4314-80ce-94dbbc82d367');\n",
              "          const dataTable =\n",
              "            await google.colab.kernel.invokeFunction('convertToInteractive',\n",
              "                                                     [key], {});\n",
              "          if (!dataTable) return;\n",
              "\n",
              "          const docLinkHtml = 'Like what you see? Visit the ' +\n",
              "            '<a target=\"_blank\" href=https://colab.research.google.com/notebooks/data_table.ipynb>data table notebook</a>'\n",
              "            + ' to learn more about interactive tables.';\n",
              "          element.innerHTML = '';\n",
              "          dataTable['output_type'] = 'display_data';\n",
              "          await google.colab.output.renderOutput(dataTable, element);\n",
              "          const docLink = document.createElement('div');\n",
              "          docLink.innerHTML = docLinkHtml;\n",
              "          element.appendChild(docLink);\n",
              "        }\n",
              "      </script>\n",
              "    </div>\n",
              "  </div>\n",
              "  "
            ]
          },
          "metadata": {},
          "execution_count": 13
        }
      ]
    },
    {
      "cell_type": "code",
      "source": [
        "dados.to_csv('/content/drive/MyDrive/PROJETO APLICADO/dados_insumos.csv', index=False, sep=';')"
      ],
      "metadata": {
        "id": "iyCDyCQh57VS"
      },
      "execution_count": 15,
      "outputs": []
    },
    {
      "cell_type": "code",
      "source": [],
      "metadata": {
        "id": "6YX7TfrClaBe"
      },
      "execution_count": null,
      "outputs": []
    }
  ]
}