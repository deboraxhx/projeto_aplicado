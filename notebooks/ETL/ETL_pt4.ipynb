{
  "nbformat": 4,
  "nbformat_minor": 0,
  "metadata": {
    "colab": {
      "provenance": []
    },
    "kernelspec": {
      "name": "python3",
      "display_name": "Python 3"
    },
    "language_info": {
      "name": "python"
    }
  },
  "cells": [
    {
      "cell_type": "markdown",
      "source": [
        "**IMPORTAÇÃO DAS BIBLIOTECAS**"
      ],
      "metadata": {
        "id": "GqfEcyHPkF3S"
      }
    },
    {
      "cell_type": "code",
      "execution_count": 6,
      "metadata": {
        "id": "Xi5_l3K8M1Y5"
      },
      "outputs": [],
      "source": [
        "import pandas as pd\n",
        "import numpy as np\n",
        "import csv"
      ]
    },
    {
      "cell_type": "markdown",
      "source": [
        "**LEITURA DOS DADOS**"
      ],
      "metadata": {
        "id": "hGWzXnUPj_pM"
      }
    },
    {
      "cell_type": "code",
      "source": [
        "# Ler o arquivo CSV e tratar os dados\n",
        "dados = pd.read_csv('/content/dados_completos_4.csv',\n",
        "                    engine='python',\n",
        "                    sep=\";\"\n",
        "                    )"
      ],
      "metadata": {
        "id": "9_VndmNNM19I"
      },
      "execution_count": 7,
      "outputs": []
    },
    {
      "cell_type": "markdown",
      "source": [
        "**VISUALIZAÇÃO PREVIA DOS DADOS**"
      ],
      "metadata": {
        "id": "O0T8nFN1MXzP"
      }
    },
    {
      "cell_type": "code",
      "source": [
        "dados"
      ],
      "metadata": {
        "colab": {
          "base_uri": "https://localhost:8080/",
          "height": 424
        },
        "id": "GHWb_aMce9m3",
        "outputId": "90211fad-6bb7-4a9c-99d3-16238cde72cb"
      },
      "execution_count": 8,
      "outputs": [
        {
          "output_type": "execute_result",
          "data": {
            "text/plain": [
              "                         codigo  \\\n",
              "0                          4757   \n",
              "1                         12075   \n",
              "2                          2404   \n",
              "3                          2720   \n",
              "4                          2719   \n",
              "...                         ...   \n",
              "347009                    34345   \n",
              "347010                    41096   \n",
              "347011                    41776   \n",
              "347012                      NaN   \n",
              "347013  TOTAL DE INSUMOS : 5016   \n",
              "\n",
              "                                                descricao     valor    data  \n",
              "0       !EM PROCESSO DE DESATIVACAO! ASFALTADOR       ...     13,86   12018  \n",
              "1       !EM PROCESSO DE DESATIVACAO! CAIXA P/ MEDICAO ...    390,37   12018  \n",
              "2       !EM PROCESSO DE DESATIVACAO! DIVISORIA COLMEIA...     85,00   12018  \n",
              "3       !EM PROCESSO DE DESATIVACAO! ESCAVADEIRA DRAGA...    164,64   12018  \n",
              "4       !EM PROCESSO DE DESATIVACAO! ESCAVADEIRA HIDRA...    139,50   12018  \n",
              "...                                                   ...       ...     ...  \n",
              "347009  VIGIA DIURNO                                  ...     13,32  122022  \n",
              "347010  VIGIA DIURNO (MENSALISTA)                     ...  2.338,80  122022  \n",
              "347011  VIGIA NOTURNO, HORA EFETIVAMENTE TRABALHADA DE...     18,25  122022  \n",
              "347012                                                NaN       NaN  122022  \n",
              "347013                                                NaN       NaN  122022  \n",
              "\n",
              "[347014 rows x 4 columns]"
            ],
            "text/html": [
              "\n",
              "  <div id=\"df-5db1b50a-a18b-4f90-9476-a71e93e549d8\">\n",
              "    <div class=\"colab-df-container\">\n",
              "      <div>\n",
              "<style scoped>\n",
              "    .dataframe tbody tr th:only-of-type {\n",
              "        vertical-align: middle;\n",
              "    }\n",
              "\n",
              "    .dataframe tbody tr th {\n",
              "        vertical-align: top;\n",
              "    }\n",
              "\n",
              "    .dataframe thead th {\n",
              "        text-align: right;\n",
              "    }\n",
              "</style>\n",
              "<table border=\"1\" class=\"dataframe\">\n",
              "  <thead>\n",
              "    <tr style=\"text-align: right;\">\n",
              "      <th></th>\n",
              "      <th>codigo</th>\n",
              "      <th>descricao</th>\n",
              "      <th>valor</th>\n",
              "      <th>data</th>\n",
              "    </tr>\n",
              "  </thead>\n",
              "  <tbody>\n",
              "    <tr>\n",
              "      <th>0</th>\n",
              "      <td>4757</td>\n",
              "      <td>!EM PROCESSO DE DESATIVACAO! ASFALTADOR       ...</td>\n",
              "      <td>13,86</td>\n",
              "      <td>12018</td>\n",
              "    </tr>\n",
              "    <tr>\n",
              "      <th>1</th>\n",
              "      <td>12075</td>\n",
              "      <td>!EM PROCESSO DE DESATIVACAO! CAIXA P/ MEDICAO ...</td>\n",
              "      <td>390,37</td>\n",
              "      <td>12018</td>\n",
              "    </tr>\n",
              "    <tr>\n",
              "      <th>2</th>\n",
              "      <td>2404</td>\n",
              "      <td>!EM PROCESSO DE DESATIVACAO! DIVISORIA COLMEIA...</td>\n",
              "      <td>85,00</td>\n",
              "      <td>12018</td>\n",
              "    </tr>\n",
              "    <tr>\n",
              "      <th>3</th>\n",
              "      <td>2720</td>\n",
              "      <td>!EM PROCESSO DE DESATIVACAO! ESCAVADEIRA DRAGA...</td>\n",
              "      <td>164,64</td>\n",
              "      <td>12018</td>\n",
              "    </tr>\n",
              "    <tr>\n",
              "      <th>4</th>\n",
              "      <td>2719</td>\n",
              "      <td>!EM PROCESSO DE DESATIVACAO! ESCAVADEIRA HIDRA...</td>\n",
              "      <td>139,50</td>\n",
              "      <td>12018</td>\n",
              "    </tr>\n",
              "    <tr>\n",
              "      <th>...</th>\n",
              "      <td>...</td>\n",
              "      <td>...</td>\n",
              "      <td>...</td>\n",
              "      <td>...</td>\n",
              "    </tr>\n",
              "    <tr>\n",
              "      <th>347009</th>\n",
              "      <td>34345</td>\n",
              "      <td>VIGIA DIURNO                                  ...</td>\n",
              "      <td>13,32</td>\n",
              "      <td>122022</td>\n",
              "    </tr>\n",
              "    <tr>\n",
              "      <th>347010</th>\n",
              "      <td>41096</td>\n",
              "      <td>VIGIA DIURNO (MENSALISTA)                     ...</td>\n",
              "      <td>2.338,80</td>\n",
              "      <td>122022</td>\n",
              "    </tr>\n",
              "    <tr>\n",
              "      <th>347011</th>\n",
              "      <td>41776</td>\n",
              "      <td>VIGIA NOTURNO, HORA EFETIVAMENTE TRABALHADA DE...</td>\n",
              "      <td>18,25</td>\n",
              "      <td>122022</td>\n",
              "    </tr>\n",
              "    <tr>\n",
              "      <th>347012</th>\n",
              "      <td>NaN</td>\n",
              "      <td>NaN</td>\n",
              "      <td>NaN</td>\n",
              "      <td>122022</td>\n",
              "    </tr>\n",
              "    <tr>\n",
              "      <th>347013</th>\n",
              "      <td>TOTAL DE INSUMOS : 5016</td>\n",
              "      <td>NaN</td>\n",
              "      <td>NaN</td>\n",
              "      <td>122022</td>\n",
              "    </tr>\n",
              "  </tbody>\n",
              "</table>\n",
              "<p>347014 rows × 4 columns</p>\n",
              "</div>\n",
              "      <button class=\"colab-df-convert\" onclick=\"convertToInteractive('df-5db1b50a-a18b-4f90-9476-a71e93e549d8')\"\n",
              "              title=\"Convert this dataframe to an interactive table.\"\n",
              "              style=\"display:none;\">\n",
              "        \n",
              "  <svg xmlns=\"http://www.w3.org/2000/svg\" height=\"24px\"viewBox=\"0 0 24 24\"\n",
              "       width=\"24px\">\n",
              "    <path d=\"M0 0h24v24H0V0z\" fill=\"none\"/>\n",
              "    <path d=\"M18.56 5.44l.94 2.06.94-2.06 2.06-.94-2.06-.94-.94-2.06-.94 2.06-2.06.94zm-11 1L8.5 8.5l.94-2.06 2.06-.94-2.06-.94L8.5 2.5l-.94 2.06-2.06.94zm10 10l.94 2.06.94-2.06 2.06-.94-2.06-.94-.94-2.06-.94 2.06-2.06.94z\"/><path d=\"M17.41 7.96l-1.37-1.37c-.4-.4-.92-.59-1.43-.59-.52 0-1.04.2-1.43.59L10.3 9.45l-7.72 7.72c-.78.78-.78 2.05 0 2.83L4 21.41c.39.39.9.59 1.41.59.51 0 1.02-.2 1.41-.59l7.78-7.78 2.81-2.81c.8-.78.8-2.07 0-2.86zM5.41 20L4 18.59l7.72-7.72 1.47 1.35L5.41 20z\"/>\n",
              "  </svg>\n",
              "      </button>\n",
              "      \n",
              "  <style>\n",
              "    .colab-df-container {\n",
              "      display:flex;\n",
              "      flex-wrap:wrap;\n",
              "      gap: 12px;\n",
              "    }\n",
              "\n",
              "    .colab-df-convert {\n",
              "      background-color: #E8F0FE;\n",
              "      border: none;\n",
              "      border-radius: 50%;\n",
              "      cursor: pointer;\n",
              "      display: none;\n",
              "      fill: #1967D2;\n",
              "      height: 32px;\n",
              "      padding: 0 0 0 0;\n",
              "      width: 32px;\n",
              "    }\n",
              "\n",
              "    .colab-df-convert:hover {\n",
              "      background-color: #E2EBFA;\n",
              "      box-shadow: 0px 1px 2px rgba(60, 64, 67, 0.3), 0px 1px 3px 1px rgba(60, 64, 67, 0.15);\n",
              "      fill: #174EA6;\n",
              "    }\n",
              "\n",
              "    [theme=dark] .colab-df-convert {\n",
              "      background-color: #3B4455;\n",
              "      fill: #D2E3FC;\n",
              "    }\n",
              "\n",
              "    [theme=dark] .colab-df-convert:hover {\n",
              "      background-color: #434B5C;\n",
              "      box-shadow: 0px 1px 3px 1px rgba(0, 0, 0, 0.15);\n",
              "      filter: drop-shadow(0px 1px 2px rgba(0, 0, 0, 0.3));\n",
              "      fill: #FFFFFF;\n",
              "    }\n",
              "  </style>\n",
              "\n",
              "      <script>\n",
              "        const buttonEl =\n",
              "          document.querySelector('#df-5db1b50a-a18b-4f90-9476-a71e93e549d8 button.colab-df-convert');\n",
              "        buttonEl.style.display =\n",
              "          google.colab.kernel.accessAllowed ? 'block' : 'none';\n",
              "\n",
              "        async function convertToInteractive(key) {\n",
              "          const element = document.querySelector('#df-5db1b50a-a18b-4f90-9476-a71e93e549d8');\n",
              "          const dataTable =\n",
              "            await google.colab.kernel.invokeFunction('convertToInteractive',\n",
              "                                                     [key], {});\n",
              "          if (!dataTable) return;\n",
              "\n",
              "          const docLinkHtml = 'Like what you see? Visit the ' +\n",
              "            '<a target=\"_blank\" href=https://colab.research.google.com/notebooks/data_table.ipynb>data table notebook</a>'\n",
              "            + ' to learn more about interactive tables.';\n",
              "          element.innerHTML = '';\n",
              "          dataTable['output_type'] = 'display_data';\n",
              "          await google.colab.output.renderOutput(dataTable, element);\n",
              "          const docLink = document.createElement('div');\n",
              "          docLink.innerHTML = docLinkHtml;\n",
              "          element.appendChild(docLink);\n",
              "        }\n",
              "      </script>\n",
              "    </div>\n",
              "  </div>\n",
              "  "
            ]
          },
          "metadata": {},
          "execution_count": 8
        }
      ]
    },
    {
      "cell_type": "code",
      "source": [
        "dados.info()"
      ],
      "metadata": {
        "colab": {
          "base_uri": "https://localhost:8080/"
        },
        "id": "kfI5qTd4IB3j",
        "outputId": "cf7cbad7-37fa-49ca-bd53-83f100c38fa4"
      },
      "execution_count": 9,
      "outputs": [
        {
          "output_type": "stream",
          "name": "stdout",
          "text": [
            "<class 'pandas.core.frame.DataFrame'>\n",
            "RangeIndex: 347014 entries, 0 to 347013\n",
            "Data columns (total 4 columns):\n",
            " #   Column     Non-Null Count   Dtype \n",
            "---  ------     --------------   ----- \n",
            " 0   codigo     346948 non-null  object\n",
            " 1   descricao  346882 non-null  object\n",
            " 2   valor      346882 non-null  object\n",
            " 3   data       347014 non-null  int64 \n",
            "dtypes: int64(1), object(3)\n",
            "memory usage: 10.6+ MB\n"
          ]
        }
      ]
    },
    {
      "cell_type": "markdown",
      "source": [
        "**CONVERSÃO DOS DADOS**"
      ],
      "metadata": {
        "id": "njsSBSccjwjq"
      }
    },
    {
      "cell_type": "code",
      "source": [
        "# Converter a coluna de data para o formato mm/yyyy\n",
        "dados['data'] = pd.to_datetime(dados['data'].astype(str).str.zfill(6), format='%m%Y').dt.strftime('%m/%Y')\n",
        "\n",
        "# Aplicar a expressão regular na coluna e converter para float\n",
        "dados['codigo'] = dados['codigo'].str.replace(r'[^0-9,\\.]', '', regex=True)"
      ],
      "metadata": {
        "id": "o2eZgiEcJgUr"
      },
      "execution_count": 10,
      "outputs": []
    },
    {
      "cell_type": "code",
      "source": [
        "# Conversão para float\n",
        "dados['codigo'] = pd.to_numeric(dados['codigo'].str.replace(',', '.'), errors='coerce')\n",
        "\n"
      ],
      "metadata": {
        "id": "ixA41kSMypi5"
      },
      "execution_count": 11,
      "outputs": []
    },
    {
      "cell_type": "code",
      "source": [
        "dados"
      ],
      "metadata": {
        "colab": {
          "base_uri": "https://localhost:8080/",
          "height": 424
        },
        "id": "cMWfO_ldy0wX",
        "outputId": "3a41e8ab-3dc7-4993-ce9d-29d2812224f8"
      },
      "execution_count": 12,
      "outputs": [
        {
          "output_type": "execute_result",
          "data": {
            "text/plain": [
              "         codigo                                          descricao     valor  \\\n",
              "0        4757.0  !EM PROCESSO DE DESATIVACAO! ASFALTADOR       ...     13,86   \n",
              "1       12075.0  !EM PROCESSO DE DESATIVACAO! CAIXA P/ MEDICAO ...    390,37   \n",
              "2        2404.0  !EM PROCESSO DE DESATIVACAO! DIVISORIA COLMEIA...     85,00   \n",
              "3        2720.0  !EM PROCESSO DE DESATIVACAO! ESCAVADEIRA DRAGA...    164,64   \n",
              "4        2719.0  !EM PROCESSO DE DESATIVACAO! ESCAVADEIRA HIDRA...    139,50   \n",
              "...         ...                                                ...       ...   \n",
              "347009  34345.0  VIGIA DIURNO                                  ...     13,32   \n",
              "347010  41096.0  VIGIA DIURNO (MENSALISTA)                     ...  2.338,80   \n",
              "347011  41776.0  VIGIA NOTURNO, HORA EFETIVAMENTE TRABALHADA DE...     18,25   \n",
              "347012      NaN                                                NaN       NaN   \n",
              "347013   5016.0                                                NaN       NaN   \n",
              "\n",
              "           data  \n",
              "0       01/2018  \n",
              "1       01/2018  \n",
              "2       01/2018  \n",
              "3       01/2018  \n",
              "4       01/2018  \n",
              "...         ...  \n",
              "347009  12/2022  \n",
              "347010  12/2022  \n",
              "347011  12/2022  \n",
              "347012  12/2022  \n",
              "347013  12/2022  \n",
              "\n",
              "[347014 rows x 4 columns]"
            ],
            "text/html": [
              "\n",
              "  <div id=\"df-9f4649c5-b6fa-44b9-adb2-f2aeea112fef\">\n",
              "    <div class=\"colab-df-container\">\n",
              "      <div>\n",
              "<style scoped>\n",
              "    .dataframe tbody tr th:only-of-type {\n",
              "        vertical-align: middle;\n",
              "    }\n",
              "\n",
              "    .dataframe tbody tr th {\n",
              "        vertical-align: top;\n",
              "    }\n",
              "\n",
              "    .dataframe thead th {\n",
              "        text-align: right;\n",
              "    }\n",
              "</style>\n",
              "<table border=\"1\" class=\"dataframe\">\n",
              "  <thead>\n",
              "    <tr style=\"text-align: right;\">\n",
              "      <th></th>\n",
              "      <th>codigo</th>\n",
              "      <th>descricao</th>\n",
              "      <th>valor</th>\n",
              "      <th>data</th>\n",
              "    </tr>\n",
              "  </thead>\n",
              "  <tbody>\n",
              "    <tr>\n",
              "      <th>0</th>\n",
              "      <td>4757.0</td>\n",
              "      <td>!EM PROCESSO DE DESATIVACAO! ASFALTADOR       ...</td>\n",
              "      <td>13,86</td>\n",
              "      <td>01/2018</td>\n",
              "    </tr>\n",
              "    <tr>\n",
              "      <th>1</th>\n",
              "      <td>12075.0</td>\n",
              "      <td>!EM PROCESSO DE DESATIVACAO! CAIXA P/ MEDICAO ...</td>\n",
              "      <td>390,37</td>\n",
              "      <td>01/2018</td>\n",
              "    </tr>\n",
              "    <tr>\n",
              "      <th>2</th>\n",
              "      <td>2404.0</td>\n",
              "      <td>!EM PROCESSO DE DESATIVACAO! DIVISORIA COLMEIA...</td>\n",
              "      <td>85,00</td>\n",
              "      <td>01/2018</td>\n",
              "    </tr>\n",
              "    <tr>\n",
              "      <th>3</th>\n",
              "      <td>2720.0</td>\n",
              "      <td>!EM PROCESSO DE DESATIVACAO! ESCAVADEIRA DRAGA...</td>\n",
              "      <td>164,64</td>\n",
              "      <td>01/2018</td>\n",
              "    </tr>\n",
              "    <tr>\n",
              "      <th>4</th>\n",
              "      <td>2719.0</td>\n",
              "      <td>!EM PROCESSO DE DESATIVACAO! ESCAVADEIRA HIDRA...</td>\n",
              "      <td>139,50</td>\n",
              "      <td>01/2018</td>\n",
              "    </tr>\n",
              "    <tr>\n",
              "      <th>...</th>\n",
              "      <td>...</td>\n",
              "      <td>...</td>\n",
              "      <td>...</td>\n",
              "      <td>...</td>\n",
              "    </tr>\n",
              "    <tr>\n",
              "      <th>347009</th>\n",
              "      <td>34345.0</td>\n",
              "      <td>VIGIA DIURNO                                  ...</td>\n",
              "      <td>13,32</td>\n",
              "      <td>12/2022</td>\n",
              "    </tr>\n",
              "    <tr>\n",
              "      <th>347010</th>\n",
              "      <td>41096.0</td>\n",
              "      <td>VIGIA DIURNO (MENSALISTA)                     ...</td>\n",
              "      <td>2.338,80</td>\n",
              "      <td>12/2022</td>\n",
              "    </tr>\n",
              "    <tr>\n",
              "      <th>347011</th>\n",
              "      <td>41776.0</td>\n",
              "      <td>VIGIA NOTURNO, HORA EFETIVAMENTE TRABALHADA DE...</td>\n",
              "      <td>18,25</td>\n",
              "      <td>12/2022</td>\n",
              "    </tr>\n",
              "    <tr>\n",
              "      <th>347012</th>\n",
              "      <td>NaN</td>\n",
              "      <td>NaN</td>\n",
              "      <td>NaN</td>\n",
              "      <td>12/2022</td>\n",
              "    </tr>\n",
              "    <tr>\n",
              "      <th>347013</th>\n",
              "      <td>5016.0</td>\n",
              "      <td>NaN</td>\n",
              "      <td>NaN</td>\n",
              "      <td>12/2022</td>\n",
              "    </tr>\n",
              "  </tbody>\n",
              "</table>\n",
              "<p>347014 rows × 4 columns</p>\n",
              "</div>\n",
              "      <button class=\"colab-df-convert\" onclick=\"convertToInteractive('df-9f4649c5-b6fa-44b9-adb2-f2aeea112fef')\"\n",
              "              title=\"Convert this dataframe to an interactive table.\"\n",
              "              style=\"display:none;\">\n",
              "        \n",
              "  <svg xmlns=\"http://www.w3.org/2000/svg\" height=\"24px\"viewBox=\"0 0 24 24\"\n",
              "       width=\"24px\">\n",
              "    <path d=\"M0 0h24v24H0V0z\" fill=\"none\"/>\n",
              "    <path d=\"M18.56 5.44l.94 2.06.94-2.06 2.06-.94-2.06-.94-.94-2.06-.94 2.06-2.06.94zm-11 1L8.5 8.5l.94-2.06 2.06-.94-2.06-.94L8.5 2.5l-.94 2.06-2.06.94zm10 10l.94 2.06.94-2.06 2.06-.94-2.06-.94-.94-2.06-.94 2.06-2.06.94z\"/><path d=\"M17.41 7.96l-1.37-1.37c-.4-.4-.92-.59-1.43-.59-.52 0-1.04.2-1.43.59L10.3 9.45l-7.72 7.72c-.78.78-.78 2.05 0 2.83L4 21.41c.39.39.9.59 1.41.59.51 0 1.02-.2 1.41-.59l7.78-7.78 2.81-2.81c.8-.78.8-2.07 0-2.86zM5.41 20L4 18.59l7.72-7.72 1.47 1.35L5.41 20z\"/>\n",
              "  </svg>\n",
              "      </button>\n",
              "      \n",
              "  <style>\n",
              "    .colab-df-container {\n",
              "      display:flex;\n",
              "      flex-wrap:wrap;\n",
              "      gap: 12px;\n",
              "    }\n",
              "\n",
              "    .colab-df-convert {\n",
              "      background-color: #E8F0FE;\n",
              "      border: none;\n",
              "      border-radius: 50%;\n",
              "      cursor: pointer;\n",
              "      display: none;\n",
              "      fill: #1967D2;\n",
              "      height: 32px;\n",
              "      padding: 0 0 0 0;\n",
              "      width: 32px;\n",
              "    }\n",
              "\n",
              "    .colab-df-convert:hover {\n",
              "      background-color: #E2EBFA;\n",
              "      box-shadow: 0px 1px 2px rgba(60, 64, 67, 0.3), 0px 1px 3px 1px rgba(60, 64, 67, 0.15);\n",
              "      fill: #174EA6;\n",
              "    }\n",
              "\n",
              "    [theme=dark] .colab-df-convert {\n",
              "      background-color: #3B4455;\n",
              "      fill: #D2E3FC;\n",
              "    }\n",
              "\n",
              "    [theme=dark] .colab-df-convert:hover {\n",
              "      background-color: #434B5C;\n",
              "      box-shadow: 0px 1px 3px 1px rgba(0, 0, 0, 0.15);\n",
              "      filter: drop-shadow(0px 1px 2px rgba(0, 0, 0, 0.3));\n",
              "      fill: #FFFFFF;\n",
              "    }\n",
              "  </style>\n",
              "\n",
              "      <script>\n",
              "        const buttonEl =\n",
              "          document.querySelector('#df-9f4649c5-b6fa-44b9-adb2-f2aeea112fef button.colab-df-convert');\n",
              "        buttonEl.style.display =\n",
              "          google.colab.kernel.accessAllowed ? 'block' : 'none';\n",
              "\n",
              "        async function convertToInteractive(key) {\n",
              "          const element = document.querySelector('#df-9f4649c5-b6fa-44b9-adb2-f2aeea112fef');\n",
              "          const dataTable =\n",
              "            await google.colab.kernel.invokeFunction('convertToInteractive',\n",
              "                                                     [key], {});\n",
              "          if (!dataTable) return;\n",
              "\n",
              "          const docLinkHtml = 'Like what you see? Visit the ' +\n",
              "            '<a target=\"_blank\" href=https://colab.research.google.com/notebooks/data_table.ipynb>data table notebook</a>'\n",
              "            + ' to learn more about interactive tables.';\n",
              "          element.innerHTML = '';\n",
              "          dataTable['output_type'] = 'display_data';\n",
              "          await google.colab.output.renderOutput(dataTable, element);\n",
              "          const docLink = document.createElement('div');\n",
              "          docLink.innerHTML = docLinkHtml;\n",
              "          element.appendChild(docLink);\n",
              "        }\n",
              "      </script>\n",
              "    </div>\n",
              "  </div>\n",
              "  "
            ]
          },
          "metadata": {},
          "execution_count": 12
        }
      ]
    },
    {
      "cell_type": "markdown",
      "source": [
        "**DADOS FALTANTES**"
      ],
      "metadata": {
        "id": "bFLn8UdnkSg8"
      }
    },
    {
      "cell_type": "code",
      "source": [
        "# Verificando os dados faltantes\n",
        "\n",
        "dados_faltantes = dados[dados.isna().any(axis=1)]\n",
        "print(dados_faltantes['valor'].unique())\n",
        "print(dados_faltantes['codigo'].unique())"
      ],
      "metadata": {
        "colab": {
          "base_uri": "https://localhost:8080/"
        },
        "id": "lZJ6K1UhiGde",
        "outputId": "551d0c15-a211-4b36-838e-0940253378a9"
      },
      "execution_count": 13,
      "outputs": [
        {
          "output_type": "stream",
          "name": "stdout",
          "text": [
            "[nan]\n",
            "[  nan 5344. 5287. 5304. 5299. 5215. 4937. 5342. 5279. 5276. 5272. 5203.\n",
            " 5341. 5278. 5273. 5234. 5204. 5144. 5370. 5259. 5186. 5197. 5126. 5373.\n",
            " 5255. 5181. 5201. 5131. 5351. 5334. 5177. 5199. 5348. 5347. 5331. 5280.\n",
            " 5173. 5200. 5359. 5330. 5202. 5343. 5329. 5205. 5161. 5345. 5368. 5326.\n",
            " 5062. 5346. 5293. 5328. 5220. 5018. 5340. 5016.]\n"
          ]
        }
      ]
    },
    {
      "cell_type": "code",
      "source": [
        "dados.info()"
      ],
      "metadata": {
        "colab": {
          "base_uri": "https://localhost:8080/"
        },
        "id": "DoJXwAm02_hE",
        "outputId": "04462a16-8c95-4db2-f3ca-c22b842e4396"
      },
      "execution_count": 14,
      "outputs": [
        {
          "output_type": "stream",
          "name": "stdout",
          "text": [
            "<class 'pandas.core.frame.DataFrame'>\n",
            "RangeIndex: 347014 entries, 0 to 347013\n",
            "Data columns (total 4 columns):\n",
            " #   Column     Non-Null Count   Dtype  \n",
            "---  ------     --------------   -----  \n",
            " 0   codigo     346948 non-null  float64\n",
            " 1   descricao  346882 non-null  object \n",
            " 2   valor      346882 non-null  object \n",
            " 3   data       347014 non-null  object \n",
            "dtypes: float64(1), object(3)\n",
            "memory usage: 10.6+ MB\n"
          ]
        }
      ]
    },
    {
      "cell_type": "code",
      "source": [
        "# Deletar as linha que contem dados faltantes\n",
        "\n",
        "dados.dropna(inplace=True)"
      ],
      "metadata": {
        "id": "4TOGPAGuiglF"
      },
      "execution_count": 15,
      "outputs": []
    },
    {
      "cell_type": "markdown",
      "source": [
        "**CONVERTENDO A COLUNA VALOR PARA FLOAT**"
      ],
      "metadata": {
        "id": "qiu1XaIUy-L3"
      }
    },
    {
      "cell_type": "code",
      "source": [
        "# Converter a coluna 'valor' para float64\n",
        "dados['valor'] = pd.to_numeric(dados['valor'].str.replace('.', '').str.replace(',', '.'))"
      ],
      "metadata": {
        "colab": {
          "base_uri": "https://localhost:8080/"
        },
        "id": "sRHEhQPpy9g9",
        "outputId": "5c4e6eed-1a85-4cff-8186-b3905ed27e3b"
      },
      "execution_count": 16,
      "outputs": [
        {
          "output_type": "stream",
          "name": "stderr",
          "text": [
            "<ipython-input-16-f790a19567c8>:2: FutureWarning: The default value of regex will change from True to False in a future version. In addition, single character regular expressions will *not* be treated as literal strings when regex=True.\n",
            "  dados['valor'] = pd.to_numeric(dados['valor'].str.replace('.', '').str.replace(',', '.'))\n"
          ]
        }
      ]
    },
    {
      "cell_type": "code",
      "source": [
        "dados['codigo']."
      ],
      "metadata": {
        "id": "hqS__IzcekJ8"
      },
      "execution_count": null,
      "outputs": []
    },
    {
      "cell_type": "markdown",
      "source": [
        "**VERIFICANDO AS INFORMAÇÕES BASICAS DOS NOSSOS DADOS**"
      ],
      "metadata": {
        "id": "ELX4SlQRkzDc"
      }
    },
    {
      "cell_type": "code",
      "source": [
        "dados.info()"
      ],
      "metadata": {
        "colab": {
          "base_uri": "https://localhost:8080/"
        },
        "id": "vFUwPl71kwi1",
        "outputId": "86d613d6-5859-4b3c-9df6-ae1f3f663cb5"
      },
      "execution_count": 17,
      "outputs": [
        {
          "output_type": "stream",
          "name": "stdout",
          "text": [
            "<class 'pandas.core.frame.DataFrame'>\n",
            "Int64Index: 346882 entries, 0 to 347011\n",
            "Data columns (total 4 columns):\n",
            " #   Column     Non-Null Count   Dtype  \n",
            "---  ------     --------------   -----  \n",
            " 0   codigo     346882 non-null  float64\n",
            " 1   descricao  346882 non-null  object \n",
            " 2   valor      346882 non-null  float64\n",
            " 3   data       346882 non-null  object \n",
            "dtypes: float64(2), object(2)\n",
            "memory usage: 13.2+ MB\n"
          ]
        }
      ]
    },
    {
      "cell_type": "code",
      "source": [
        "dados"
      ],
      "metadata": {
        "colab": {
          "base_uri": "https://localhost:8080/",
          "height": 424
        },
        "id": "NvbBkBYOzMv0",
        "outputId": "38b79c00-edc1-417e-f636-1df335f02648"
      },
      "execution_count": 18,
      "outputs": [
        {
          "output_type": "execute_result",
          "data": {
            "text/plain": [
              "         codigo                                          descricao    valor  \\\n",
              "0        4757.0  !EM PROCESSO DE DESATIVACAO! ASFALTADOR       ...    13.86   \n",
              "1       12075.0  !EM PROCESSO DE DESATIVACAO! CAIXA P/ MEDICAO ...   390.37   \n",
              "2        2404.0  !EM PROCESSO DE DESATIVACAO! DIVISORIA COLMEIA...    85.00   \n",
              "3        2720.0  !EM PROCESSO DE DESATIVACAO! ESCAVADEIRA DRAGA...   164.64   \n",
              "4        2719.0  !EM PROCESSO DE DESATIVACAO! ESCAVADEIRA HIDRA...   139.50   \n",
              "...         ...                                                ...      ...   \n",
              "347007  35272.0  VIGA NAO APARELHADA *6 X 20* CM, EM MACARANDUB...    51.87   \n",
              "347008   4481.0  VIGA NAO APARELHADA *8 X 16* CM EM MACARANDUBA...    55.52   \n",
              "347009  34345.0  VIGIA DIURNO                                  ...    13.32   \n",
              "347010  41096.0  VIGIA DIURNO (MENSALISTA)                     ...  2338.80   \n",
              "347011  41776.0  VIGIA NOTURNO, HORA EFETIVAMENTE TRABALHADA DE...    18.25   \n",
              "\n",
              "           data  \n",
              "0       01/2018  \n",
              "1       01/2018  \n",
              "2       01/2018  \n",
              "3       01/2018  \n",
              "4       01/2018  \n",
              "...         ...  \n",
              "347007  12/2022  \n",
              "347008  12/2022  \n",
              "347009  12/2022  \n",
              "347010  12/2022  \n",
              "347011  12/2022  \n",
              "\n",
              "[346882 rows x 4 columns]"
            ],
            "text/html": [
              "\n",
              "  <div id=\"df-f19ae215-2fce-4e92-9804-2683329ce7bc\">\n",
              "    <div class=\"colab-df-container\">\n",
              "      <div>\n",
              "<style scoped>\n",
              "    .dataframe tbody tr th:only-of-type {\n",
              "        vertical-align: middle;\n",
              "    }\n",
              "\n",
              "    .dataframe tbody tr th {\n",
              "        vertical-align: top;\n",
              "    }\n",
              "\n",
              "    .dataframe thead th {\n",
              "        text-align: right;\n",
              "    }\n",
              "</style>\n",
              "<table border=\"1\" class=\"dataframe\">\n",
              "  <thead>\n",
              "    <tr style=\"text-align: right;\">\n",
              "      <th></th>\n",
              "      <th>codigo</th>\n",
              "      <th>descricao</th>\n",
              "      <th>valor</th>\n",
              "      <th>data</th>\n",
              "    </tr>\n",
              "  </thead>\n",
              "  <tbody>\n",
              "    <tr>\n",
              "      <th>0</th>\n",
              "      <td>4757.0</td>\n",
              "      <td>!EM PROCESSO DE DESATIVACAO! ASFALTADOR       ...</td>\n",
              "      <td>13.86</td>\n",
              "      <td>01/2018</td>\n",
              "    </tr>\n",
              "    <tr>\n",
              "      <th>1</th>\n",
              "      <td>12075.0</td>\n",
              "      <td>!EM PROCESSO DE DESATIVACAO! CAIXA P/ MEDICAO ...</td>\n",
              "      <td>390.37</td>\n",
              "      <td>01/2018</td>\n",
              "    </tr>\n",
              "    <tr>\n",
              "      <th>2</th>\n",
              "      <td>2404.0</td>\n",
              "      <td>!EM PROCESSO DE DESATIVACAO! DIVISORIA COLMEIA...</td>\n",
              "      <td>85.00</td>\n",
              "      <td>01/2018</td>\n",
              "    </tr>\n",
              "    <tr>\n",
              "      <th>3</th>\n",
              "      <td>2720.0</td>\n",
              "      <td>!EM PROCESSO DE DESATIVACAO! ESCAVADEIRA DRAGA...</td>\n",
              "      <td>164.64</td>\n",
              "      <td>01/2018</td>\n",
              "    </tr>\n",
              "    <tr>\n",
              "      <th>4</th>\n",
              "      <td>2719.0</td>\n",
              "      <td>!EM PROCESSO DE DESATIVACAO! ESCAVADEIRA HIDRA...</td>\n",
              "      <td>139.50</td>\n",
              "      <td>01/2018</td>\n",
              "    </tr>\n",
              "    <tr>\n",
              "      <th>...</th>\n",
              "      <td>...</td>\n",
              "      <td>...</td>\n",
              "      <td>...</td>\n",
              "      <td>...</td>\n",
              "    </tr>\n",
              "    <tr>\n",
              "      <th>347007</th>\n",
              "      <td>35272.0</td>\n",
              "      <td>VIGA NAO APARELHADA *6 X 20* CM, EM MACARANDUB...</td>\n",
              "      <td>51.87</td>\n",
              "      <td>12/2022</td>\n",
              "    </tr>\n",
              "    <tr>\n",
              "      <th>347008</th>\n",
              "      <td>4481.0</td>\n",
              "      <td>VIGA NAO APARELHADA *8 X 16* CM EM MACARANDUBA...</td>\n",
              "      <td>55.52</td>\n",
              "      <td>12/2022</td>\n",
              "    </tr>\n",
              "    <tr>\n",
              "      <th>347009</th>\n",
              "      <td>34345.0</td>\n",
              "      <td>VIGIA DIURNO                                  ...</td>\n",
              "      <td>13.32</td>\n",
              "      <td>12/2022</td>\n",
              "    </tr>\n",
              "    <tr>\n",
              "      <th>347010</th>\n",
              "      <td>41096.0</td>\n",
              "      <td>VIGIA DIURNO (MENSALISTA)                     ...</td>\n",
              "      <td>2338.80</td>\n",
              "      <td>12/2022</td>\n",
              "    </tr>\n",
              "    <tr>\n",
              "      <th>347011</th>\n",
              "      <td>41776.0</td>\n",
              "      <td>VIGIA NOTURNO, HORA EFETIVAMENTE TRABALHADA DE...</td>\n",
              "      <td>18.25</td>\n",
              "      <td>12/2022</td>\n",
              "    </tr>\n",
              "  </tbody>\n",
              "</table>\n",
              "<p>346882 rows × 4 columns</p>\n",
              "</div>\n",
              "      <button class=\"colab-df-convert\" onclick=\"convertToInteractive('df-f19ae215-2fce-4e92-9804-2683329ce7bc')\"\n",
              "              title=\"Convert this dataframe to an interactive table.\"\n",
              "              style=\"display:none;\">\n",
              "        \n",
              "  <svg xmlns=\"http://www.w3.org/2000/svg\" height=\"24px\"viewBox=\"0 0 24 24\"\n",
              "       width=\"24px\">\n",
              "    <path d=\"M0 0h24v24H0V0z\" fill=\"none\"/>\n",
              "    <path d=\"M18.56 5.44l.94 2.06.94-2.06 2.06-.94-2.06-.94-.94-2.06-.94 2.06-2.06.94zm-11 1L8.5 8.5l.94-2.06 2.06-.94-2.06-.94L8.5 2.5l-.94 2.06-2.06.94zm10 10l.94 2.06.94-2.06 2.06-.94-2.06-.94-.94-2.06-.94 2.06-2.06.94z\"/><path d=\"M17.41 7.96l-1.37-1.37c-.4-.4-.92-.59-1.43-.59-.52 0-1.04.2-1.43.59L10.3 9.45l-7.72 7.72c-.78.78-.78 2.05 0 2.83L4 21.41c.39.39.9.59 1.41.59.51 0 1.02-.2 1.41-.59l7.78-7.78 2.81-2.81c.8-.78.8-2.07 0-2.86zM5.41 20L4 18.59l7.72-7.72 1.47 1.35L5.41 20z\"/>\n",
              "  </svg>\n",
              "      </button>\n",
              "      \n",
              "  <style>\n",
              "    .colab-df-container {\n",
              "      display:flex;\n",
              "      flex-wrap:wrap;\n",
              "      gap: 12px;\n",
              "    }\n",
              "\n",
              "    .colab-df-convert {\n",
              "      background-color: #E8F0FE;\n",
              "      border: none;\n",
              "      border-radius: 50%;\n",
              "      cursor: pointer;\n",
              "      display: none;\n",
              "      fill: #1967D2;\n",
              "      height: 32px;\n",
              "      padding: 0 0 0 0;\n",
              "      width: 32px;\n",
              "    }\n",
              "\n",
              "    .colab-df-convert:hover {\n",
              "      background-color: #E2EBFA;\n",
              "      box-shadow: 0px 1px 2px rgba(60, 64, 67, 0.3), 0px 1px 3px 1px rgba(60, 64, 67, 0.15);\n",
              "      fill: #174EA6;\n",
              "    }\n",
              "\n",
              "    [theme=dark] .colab-df-convert {\n",
              "      background-color: #3B4455;\n",
              "      fill: #D2E3FC;\n",
              "    }\n",
              "\n",
              "    [theme=dark] .colab-df-convert:hover {\n",
              "      background-color: #434B5C;\n",
              "      box-shadow: 0px 1px 3px 1px rgba(0, 0, 0, 0.15);\n",
              "      filter: drop-shadow(0px 1px 2px rgba(0, 0, 0, 0.3));\n",
              "      fill: #FFFFFF;\n",
              "    }\n",
              "  </style>\n",
              "\n",
              "      <script>\n",
              "        const buttonEl =\n",
              "          document.querySelector('#df-f19ae215-2fce-4e92-9804-2683329ce7bc button.colab-df-convert');\n",
              "        buttonEl.style.display =\n",
              "          google.colab.kernel.accessAllowed ? 'block' : 'none';\n",
              "\n",
              "        async function convertToInteractive(key) {\n",
              "          const element = document.querySelector('#df-f19ae215-2fce-4e92-9804-2683329ce7bc');\n",
              "          const dataTable =\n",
              "            await google.colab.kernel.invokeFunction('convertToInteractive',\n",
              "                                                     [key], {});\n",
              "          if (!dataTable) return;\n",
              "\n",
              "          const docLinkHtml = 'Like what you see? Visit the ' +\n",
              "            '<a target=\"_blank\" href=https://colab.research.google.com/notebooks/data_table.ipynb>data table notebook</a>'\n",
              "            + ' to learn more about interactive tables.';\n",
              "          element.innerHTML = '';\n",
              "          dataTable['output_type'] = 'display_data';\n",
              "          await google.colab.output.renderOutput(dataTable, element);\n",
              "          const docLink = document.createElement('div');\n",
              "          docLink.innerHTML = docLinkHtml;\n",
              "          element.appendChild(docLink);\n",
              "        }\n",
              "      </script>\n",
              "    </div>\n",
              "  </div>\n",
              "  "
            ]
          },
          "metadata": {},
          "execution_count": 18
        }
      ]
    },
    {
      "cell_type": "code",
      "source": [
        "dados.to_csv('dados_parte4.csv', index=False, sep=';')"
      ],
      "metadata": {
        "id": "rqV2J3mElSdV"
      },
      "execution_count": 21,
      "outputs": []
    },
    {
      "cell_type": "code",
      "source": [],
      "metadata": {
        "id": "AnNM7qlel0DV"
      },
      "execution_count": null,
      "outputs": []
    }
  ]
}