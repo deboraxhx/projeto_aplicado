{
  "nbformat": 4,
  "nbformat_minor": 0,
  "metadata": {
    "colab": {
      "provenance": []
    },
    "kernelspec": {
      "name": "python3",
      "display_name": "Python 3"
    },
    "language_info": {
      "name": "python"
    }
  },
  "cells": [
    {
      "cell_type": "markdown",
      "source": [
        "**IMPORTAÇÃO DAS BIBLIOTECAS**"
      ],
      "metadata": {
        "id": "GqfEcyHPkF3S"
      }
    },
    {
      "cell_type": "code",
      "execution_count": 1,
      "metadata": {
        "id": "Xi5_l3K8M1Y5"
      },
      "outputs": [],
      "source": [
        "import pandas as pd\n",
        "import numpy as np\n",
        "import csv"
      ]
    },
    {
      "cell_type": "markdown",
      "source": [
        "**LEITURA DOS DADOS**"
      ],
      "metadata": {
        "id": "hGWzXnUPj_pM"
      }
    },
    {
      "cell_type": "code",
      "source": [
        "# Ler o arquivo CSV e tratar os dados\n",
        "dados = pd.read_csv('/content/dados_completos_3.csv',\n",
        "                    engine='python',\n",
        "                    sep=\";\"\n",
        "                    )"
      ],
      "metadata": {
        "id": "9_VndmNNM19I"
      },
      "execution_count": 17,
      "outputs": []
    },
    {
      "cell_type": "markdown",
      "source": [
        "**VISUALIZAÇÃO PREVIA DOS DADOS**"
      ],
      "metadata": {
        "id": "O0T8nFN1MXzP"
      }
    },
    {
      "cell_type": "code",
      "source": [
        "dados"
      ],
      "metadata": {
        "colab": {
          "base_uri": "https://localhost:8080/",
          "height": 424
        },
        "id": "GHWb_aMce9m3",
        "outputId": "133fefb0-d916-4094-e09f-2a4be36219fe"
      },
      "execution_count": 18,
      "outputs": [
        {
          "output_type": "execute_result",
          "data": {
            "text/plain": [
              "             codigo                                          descricao  \\\n",
              "0             159.0          !EM PROCESSO DE DESATIVACAO! ADUBO BOVINO   \n",
              "1             303.0  !EM PROCESSO DE DESATIVACAO! ANEL BORRACHA, PA...   \n",
              "2               NaN                       ESGOTO, DN 100 MM (NBR 7362)   \n",
              "3             304.0  !EM PROCESSO DE DESATIVACAO! ANEL BORRACHA, PA...   \n",
              "4               NaN                       ESGOTO, DN 125 MM (NBR 7362)   \n",
              "...             ...                                                ...   \n",
              "139357          NaN                         (PLACA + SUPORTE + MODULO)   \n",
              "139358     00038071  3 INTERRUPTORES SIMPLES 10A, 250V, CONJUNTO MO...   \n",
              "139359          NaN                               + SUPORTE + MODULOS)   \n",
              "139360  Total de In                                                NaN   \n",
              "139361     A adoção                                                NaN   \n",
              "\n",
              "               valor    data  \n",
              "0             205,40   12017  \n",
              "1               2,69   12017  \n",
              "2                NaN   12017  \n",
              "3               4,11   12017  \n",
              "4                NaN   12017  \n",
              "...              ...     ...  \n",
              "139357           NaN  122016  \n",
              "139358         12,24  122016  \n",
              "139359           NaN  122016  \n",
              "139360           NaN  122016  \n",
              "139361  é suficiente  122016  \n",
              "\n",
              "[139362 rows x 4 columns]"
            ],
            "text/html": [
              "\n",
              "  <div id=\"df-e801090b-464d-4bc2-bd35-558d44a63828\">\n",
              "    <div class=\"colab-df-container\">\n",
              "      <div>\n",
              "<style scoped>\n",
              "    .dataframe tbody tr th:only-of-type {\n",
              "        vertical-align: middle;\n",
              "    }\n",
              "\n",
              "    .dataframe tbody tr th {\n",
              "        vertical-align: top;\n",
              "    }\n",
              "\n",
              "    .dataframe thead th {\n",
              "        text-align: right;\n",
              "    }\n",
              "</style>\n",
              "<table border=\"1\" class=\"dataframe\">\n",
              "  <thead>\n",
              "    <tr style=\"text-align: right;\">\n",
              "      <th></th>\n",
              "      <th>codigo</th>\n",
              "      <th>descricao</th>\n",
              "      <th>valor</th>\n",
              "      <th>data</th>\n",
              "    </tr>\n",
              "  </thead>\n",
              "  <tbody>\n",
              "    <tr>\n",
              "      <th>0</th>\n",
              "      <td>159.0</td>\n",
              "      <td>!EM PROCESSO DE DESATIVACAO! ADUBO BOVINO</td>\n",
              "      <td>205,40</td>\n",
              "      <td>12017</td>\n",
              "    </tr>\n",
              "    <tr>\n",
              "      <th>1</th>\n",
              "      <td>303.0</td>\n",
              "      <td>!EM PROCESSO DE DESATIVACAO! ANEL BORRACHA, PA...</td>\n",
              "      <td>2,69</td>\n",
              "      <td>12017</td>\n",
              "    </tr>\n",
              "    <tr>\n",
              "      <th>2</th>\n",
              "      <td>NaN</td>\n",
              "      <td>ESGOTO, DN 100 MM (NBR 7362)</td>\n",
              "      <td>NaN</td>\n",
              "      <td>12017</td>\n",
              "    </tr>\n",
              "    <tr>\n",
              "      <th>3</th>\n",
              "      <td>304.0</td>\n",
              "      <td>!EM PROCESSO DE DESATIVACAO! ANEL BORRACHA, PA...</td>\n",
              "      <td>4,11</td>\n",
              "      <td>12017</td>\n",
              "    </tr>\n",
              "    <tr>\n",
              "      <th>4</th>\n",
              "      <td>NaN</td>\n",
              "      <td>ESGOTO, DN 125 MM (NBR 7362)</td>\n",
              "      <td>NaN</td>\n",
              "      <td>12017</td>\n",
              "    </tr>\n",
              "    <tr>\n",
              "      <th>...</th>\n",
              "      <td>...</td>\n",
              "      <td>...</td>\n",
              "      <td>...</td>\n",
              "      <td>...</td>\n",
              "    </tr>\n",
              "    <tr>\n",
              "      <th>139357</th>\n",
              "      <td>NaN</td>\n",
              "      <td>(PLACA + SUPORTE + MODULO)</td>\n",
              "      <td>NaN</td>\n",
              "      <td>122016</td>\n",
              "    </tr>\n",
              "    <tr>\n",
              "      <th>139358</th>\n",
              "      <td>00038071</td>\n",
              "      <td>3 INTERRUPTORES SIMPLES 10A, 250V, CONJUNTO MO...</td>\n",
              "      <td>12,24</td>\n",
              "      <td>122016</td>\n",
              "    </tr>\n",
              "    <tr>\n",
              "      <th>139359</th>\n",
              "      <td>NaN</td>\n",
              "      <td>+ SUPORTE + MODULOS)</td>\n",
              "      <td>NaN</td>\n",
              "      <td>122016</td>\n",
              "    </tr>\n",
              "    <tr>\n",
              "      <th>139360</th>\n",
              "      <td>Total de In</td>\n",
              "      <td>NaN</td>\n",
              "      <td>NaN</td>\n",
              "      <td>122016</td>\n",
              "    </tr>\n",
              "    <tr>\n",
              "      <th>139361</th>\n",
              "      <td>A adoção</td>\n",
              "      <td>NaN</td>\n",
              "      <td>é suficiente</td>\n",
              "      <td>122016</td>\n",
              "    </tr>\n",
              "  </tbody>\n",
              "</table>\n",
              "<p>139362 rows × 4 columns</p>\n",
              "</div>\n",
              "      <button class=\"colab-df-convert\" onclick=\"convertToInteractive('df-e801090b-464d-4bc2-bd35-558d44a63828')\"\n",
              "              title=\"Convert this dataframe to an interactive table.\"\n",
              "              style=\"display:none;\">\n",
              "        \n",
              "  <svg xmlns=\"http://www.w3.org/2000/svg\" height=\"24px\"viewBox=\"0 0 24 24\"\n",
              "       width=\"24px\">\n",
              "    <path d=\"M0 0h24v24H0V0z\" fill=\"none\"/>\n",
              "    <path d=\"M18.56 5.44l.94 2.06.94-2.06 2.06-.94-2.06-.94-.94-2.06-.94 2.06-2.06.94zm-11 1L8.5 8.5l.94-2.06 2.06-.94-2.06-.94L8.5 2.5l-.94 2.06-2.06.94zm10 10l.94 2.06.94-2.06 2.06-.94-2.06-.94-.94-2.06-.94 2.06-2.06.94z\"/><path d=\"M17.41 7.96l-1.37-1.37c-.4-.4-.92-.59-1.43-.59-.52 0-1.04.2-1.43.59L10.3 9.45l-7.72 7.72c-.78.78-.78 2.05 0 2.83L4 21.41c.39.39.9.59 1.41.59.51 0 1.02-.2 1.41-.59l7.78-7.78 2.81-2.81c.8-.78.8-2.07 0-2.86zM5.41 20L4 18.59l7.72-7.72 1.47 1.35L5.41 20z\"/>\n",
              "  </svg>\n",
              "      </button>\n",
              "      \n",
              "  <style>\n",
              "    .colab-df-container {\n",
              "      display:flex;\n",
              "      flex-wrap:wrap;\n",
              "      gap: 12px;\n",
              "    }\n",
              "\n",
              "    .colab-df-convert {\n",
              "      background-color: #E8F0FE;\n",
              "      border: none;\n",
              "      border-radius: 50%;\n",
              "      cursor: pointer;\n",
              "      display: none;\n",
              "      fill: #1967D2;\n",
              "      height: 32px;\n",
              "      padding: 0 0 0 0;\n",
              "      width: 32px;\n",
              "    }\n",
              "\n",
              "    .colab-df-convert:hover {\n",
              "      background-color: #E2EBFA;\n",
              "      box-shadow: 0px 1px 2px rgba(60, 64, 67, 0.3), 0px 1px 3px 1px rgba(60, 64, 67, 0.15);\n",
              "      fill: #174EA6;\n",
              "    }\n",
              "\n",
              "    [theme=dark] .colab-df-convert {\n",
              "      background-color: #3B4455;\n",
              "      fill: #D2E3FC;\n",
              "    }\n",
              "\n",
              "    [theme=dark] .colab-df-convert:hover {\n",
              "      background-color: #434B5C;\n",
              "      box-shadow: 0px 1px 3px 1px rgba(0, 0, 0, 0.15);\n",
              "      filter: drop-shadow(0px 1px 2px rgba(0, 0, 0, 0.3));\n",
              "      fill: #FFFFFF;\n",
              "    }\n",
              "  </style>\n",
              "\n",
              "      <script>\n",
              "        const buttonEl =\n",
              "          document.querySelector('#df-e801090b-464d-4bc2-bd35-558d44a63828 button.colab-df-convert');\n",
              "        buttonEl.style.display =\n",
              "          google.colab.kernel.accessAllowed ? 'block' : 'none';\n",
              "\n",
              "        async function convertToInteractive(key) {\n",
              "          const element = document.querySelector('#df-e801090b-464d-4bc2-bd35-558d44a63828');\n",
              "          const dataTable =\n",
              "            await google.colab.kernel.invokeFunction('convertToInteractive',\n",
              "                                                     [key], {});\n",
              "          if (!dataTable) return;\n",
              "\n",
              "          const docLinkHtml = 'Like what you see? Visit the ' +\n",
              "            '<a target=\"_blank\" href=https://colab.research.google.com/notebooks/data_table.ipynb>data table notebook</a>'\n",
              "            + ' to learn more about interactive tables.';\n",
              "          element.innerHTML = '';\n",
              "          dataTable['output_type'] = 'display_data';\n",
              "          await google.colab.output.renderOutput(dataTable, element);\n",
              "          const docLink = document.createElement('div');\n",
              "          docLink.innerHTML = docLinkHtml;\n",
              "          element.appendChild(docLink);\n",
              "        }\n",
              "      </script>\n",
              "    </div>\n",
              "  </div>\n",
              "  "
            ]
          },
          "metadata": {},
          "execution_count": 18
        }
      ]
    },
    {
      "cell_type": "markdown",
      "source": [
        "**CONVERSÃO DOS DADOS**"
      ],
      "metadata": {
        "id": "njsSBSccjwjq"
      }
    },
    {
      "cell_type": "code",
      "source": [
        "dados.replace('\"', '', regex=True, inplace=True)\n",
        "# Converter a coluna de data para o formato mm/yyyy\n",
        "dados['data'] = pd.to_datetime(dados['data'].astype(str).str.zfill(6), format='%m%Y').dt.strftime('%m/%Y')\n",
        "\n",
        "# Aplicar a expressão regular na coluna e converter para float\n",
        "dados['codigo'] = dados['codigo'].str.replace(r'[^0-9,\\.]', '', regex=True)\n",
        "    "
      ],
      "metadata": {
        "id": "o2eZgiEcJgUr"
      },
      "execution_count": 19,
      "outputs": []
    },
    {
      "cell_type": "code",
      "source": [
        "# Conversão para float\n",
        "dados['codigo'] = pd.to_numeric(dados['codigo'].str.replace(',', '.'), errors='coerce')\n",
        "\n"
      ],
      "metadata": {
        "id": "ixA41kSMypi5"
      },
      "execution_count": 20,
      "outputs": []
    },
    {
      "cell_type": "code",
      "source": [
        "dados"
      ],
      "metadata": {
        "colab": {
          "base_uri": "https://localhost:8080/",
          "height": 424
        },
        "id": "cMWfO_ldy0wX",
        "outputId": "ff023cc6-d6e9-4f85-8474-ed696d9625e0"
      },
      "execution_count": 21,
      "outputs": [
        {
          "output_type": "execute_result",
          "data": {
            "text/plain": [
              "         codigo                                          descricao  \\\n",
              "0         159.0          !EM PROCESSO DE DESATIVACAO! ADUBO BOVINO   \n",
              "1         303.0  !EM PROCESSO DE DESATIVACAO! ANEL BORRACHA, PA...   \n",
              "2           NaN                       ESGOTO, DN 100 MM (NBR 7362)   \n",
              "3         304.0  !EM PROCESSO DE DESATIVACAO! ANEL BORRACHA, PA...   \n",
              "4           NaN                       ESGOTO, DN 125 MM (NBR 7362)   \n",
              "...         ...                                                ...   \n",
              "139357      NaN                         (PLACA + SUPORTE + MODULO)   \n",
              "139358  38071.0  3 INTERRUPTORES SIMPLES 10A, 250V, CONJUNTO MO...   \n",
              "139359      NaN                               + SUPORTE + MODULOS)   \n",
              "139360      NaN                                                NaN   \n",
              "139361      NaN                                                NaN   \n",
              "\n",
              "               valor     data  \n",
              "0             205,40  01/2017  \n",
              "1               2,69  01/2017  \n",
              "2                NaN  01/2017  \n",
              "3               4,11  01/2017  \n",
              "4                NaN  01/2017  \n",
              "...              ...      ...  \n",
              "139357           NaN  12/2016  \n",
              "139358         12,24  12/2016  \n",
              "139359           NaN  12/2016  \n",
              "139360           NaN  12/2016  \n",
              "139361  é suficiente  12/2016  \n",
              "\n",
              "[139362 rows x 4 columns]"
            ],
            "text/html": [
              "\n",
              "  <div id=\"df-677520ed-b015-4e89-bbfa-c687ca8cd471\">\n",
              "    <div class=\"colab-df-container\">\n",
              "      <div>\n",
              "<style scoped>\n",
              "    .dataframe tbody tr th:only-of-type {\n",
              "        vertical-align: middle;\n",
              "    }\n",
              "\n",
              "    .dataframe tbody tr th {\n",
              "        vertical-align: top;\n",
              "    }\n",
              "\n",
              "    .dataframe thead th {\n",
              "        text-align: right;\n",
              "    }\n",
              "</style>\n",
              "<table border=\"1\" class=\"dataframe\">\n",
              "  <thead>\n",
              "    <tr style=\"text-align: right;\">\n",
              "      <th></th>\n",
              "      <th>codigo</th>\n",
              "      <th>descricao</th>\n",
              "      <th>valor</th>\n",
              "      <th>data</th>\n",
              "    </tr>\n",
              "  </thead>\n",
              "  <tbody>\n",
              "    <tr>\n",
              "      <th>0</th>\n",
              "      <td>159.0</td>\n",
              "      <td>!EM PROCESSO DE DESATIVACAO! ADUBO BOVINO</td>\n",
              "      <td>205,40</td>\n",
              "      <td>01/2017</td>\n",
              "    </tr>\n",
              "    <tr>\n",
              "      <th>1</th>\n",
              "      <td>303.0</td>\n",
              "      <td>!EM PROCESSO DE DESATIVACAO! ANEL BORRACHA, PA...</td>\n",
              "      <td>2,69</td>\n",
              "      <td>01/2017</td>\n",
              "    </tr>\n",
              "    <tr>\n",
              "      <th>2</th>\n",
              "      <td>NaN</td>\n",
              "      <td>ESGOTO, DN 100 MM (NBR 7362)</td>\n",
              "      <td>NaN</td>\n",
              "      <td>01/2017</td>\n",
              "    </tr>\n",
              "    <tr>\n",
              "      <th>3</th>\n",
              "      <td>304.0</td>\n",
              "      <td>!EM PROCESSO DE DESATIVACAO! ANEL BORRACHA, PA...</td>\n",
              "      <td>4,11</td>\n",
              "      <td>01/2017</td>\n",
              "    </tr>\n",
              "    <tr>\n",
              "      <th>4</th>\n",
              "      <td>NaN</td>\n",
              "      <td>ESGOTO, DN 125 MM (NBR 7362)</td>\n",
              "      <td>NaN</td>\n",
              "      <td>01/2017</td>\n",
              "    </tr>\n",
              "    <tr>\n",
              "      <th>...</th>\n",
              "      <td>...</td>\n",
              "      <td>...</td>\n",
              "      <td>...</td>\n",
              "      <td>...</td>\n",
              "    </tr>\n",
              "    <tr>\n",
              "      <th>139357</th>\n",
              "      <td>NaN</td>\n",
              "      <td>(PLACA + SUPORTE + MODULO)</td>\n",
              "      <td>NaN</td>\n",
              "      <td>12/2016</td>\n",
              "    </tr>\n",
              "    <tr>\n",
              "      <th>139358</th>\n",
              "      <td>38071.0</td>\n",
              "      <td>3 INTERRUPTORES SIMPLES 10A, 250V, CONJUNTO MO...</td>\n",
              "      <td>12,24</td>\n",
              "      <td>12/2016</td>\n",
              "    </tr>\n",
              "    <tr>\n",
              "      <th>139359</th>\n",
              "      <td>NaN</td>\n",
              "      <td>+ SUPORTE + MODULOS)</td>\n",
              "      <td>NaN</td>\n",
              "      <td>12/2016</td>\n",
              "    </tr>\n",
              "    <tr>\n",
              "      <th>139360</th>\n",
              "      <td>NaN</td>\n",
              "      <td>NaN</td>\n",
              "      <td>NaN</td>\n",
              "      <td>12/2016</td>\n",
              "    </tr>\n",
              "    <tr>\n",
              "      <th>139361</th>\n",
              "      <td>NaN</td>\n",
              "      <td>NaN</td>\n",
              "      <td>é suficiente</td>\n",
              "      <td>12/2016</td>\n",
              "    </tr>\n",
              "  </tbody>\n",
              "</table>\n",
              "<p>139362 rows × 4 columns</p>\n",
              "</div>\n",
              "      <button class=\"colab-df-convert\" onclick=\"convertToInteractive('df-677520ed-b015-4e89-bbfa-c687ca8cd471')\"\n",
              "              title=\"Convert this dataframe to an interactive table.\"\n",
              "              style=\"display:none;\">\n",
              "        \n",
              "  <svg xmlns=\"http://www.w3.org/2000/svg\" height=\"24px\"viewBox=\"0 0 24 24\"\n",
              "       width=\"24px\">\n",
              "    <path d=\"M0 0h24v24H0V0z\" fill=\"none\"/>\n",
              "    <path d=\"M18.56 5.44l.94 2.06.94-2.06 2.06-.94-2.06-.94-.94-2.06-.94 2.06-2.06.94zm-11 1L8.5 8.5l.94-2.06 2.06-.94-2.06-.94L8.5 2.5l-.94 2.06-2.06.94zm10 10l.94 2.06.94-2.06 2.06-.94-2.06-.94-.94-2.06-.94 2.06-2.06.94z\"/><path d=\"M17.41 7.96l-1.37-1.37c-.4-.4-.92-.59-1.43-.59-.52 0-1.04.2-1.43.59L10.3 9.45l-7.72 7.72c-.78.78-.78 2.05 0 2.83L4 21.41c.39.39.9.59 1.41.59.51 0 1.02-.2 1.41-.59l7.78-7.78 2.81-2.81c.8-.78.8-2.07 0-2.86zM5.41 20L4 18.59l7.72-7.72 1.47 1.35L5.41 20z\"/>\n",
              "  </svg>\n",
              "      </button>\n",
              "      \n",
              "  <style>\n",
              "    .colab-df-container {\n",
              "      display:flex;\n",
              "      flex-wrap:wrap;\n",
              "      gap: 12px;\n",
              "    }\n",
              "\n",
              "    .colab-df-convert {\n",
              "      background-color: #E8F0FE;\n",
              "      border: none;\n",
              "      border-radius: 50%;\n",
              "      cursor: pointer;\n",
              "      display: none;\n",
              "      fill: #1967D2;\n",
              "      height: 32px;\n",
              "      padding: 0 0 0 0;\n",
              "      width: 32px;\n",
              "    }\n",
              "\n",
              "    .colab-df-convert:hover {\n",
              "      background-color: #E2EBFA;\n",
              "      box-shadow: 0px 1px 2px rgba(60, 64, 67, 0.3), 0px 1px 3px 1px rgba(60, 64, 67, 0.15);\n",
              "      fill: #174EA6;\n",
              "    }\n",
              "\n",
              "    [theme=dark] .colab-df-convert {\n",
              "      background-color: #3B4455;\n",
              "      fill: #D2E3FC;\n",
              "    }\n",
              "\n",
              "    [theme=dark] .colab-df-convert:hover {\n",
              "      background-color: #434B5C;\n",
              "      box-shadow: 0px 1px 3px 1px rgba(0, 0, 0, 0.15);\n",
              "      filter: drop-shadow(0px 1px 2px rgba(0, 0, 0, 0.3));\n",
              "      fill: #FFFFFF;\n",
              "    }\n",
              "  </style>\n",
              "\n",
              "      <script>\n",
              "        const buttonEl =\n",
              "          document.querySelector('#df-677520ed-b015-4e89-bbfa-c687ca8cd471 button.colab-df-convert');\n",
              "        buttonEl.style.display =\n",
              "          google.colab.kernel.accessAllowed ? 'block' : 'none';\n",
              "\n",
              "        async function convertToInteractive(key) {\n",
              "          const element = document.querySelector('#df-677520ed-b015-4e89-bbfa-c687ca8cd471');\n",
              "          const dataTable =\n",
              "            await google.colab.kernel.invokeFunction('convertToInteractive',\n",
              "                                                     [key], {});\n",
              "          if (!dataTable) return;\n",
              "\n",
              "          const docLinkHtml = 'Like what you see? Visit the ' +\n",
              "            '<a target=\"_blank\" href=https://colab.research.google.com/notebooks/data_table.ipynb>data table notebook</a>'\n",
              "            + ' to learn more about interactive tables.';\n",
              "          element.innerHTML = '';\n",
              "          dataTable['output_type'] = 'display_data';\n",
              "          await google.colab.output.renderOutput(dataTable, element);\n",
              "          const docLink = document.createElement('div');\n",
              "          docLink.innerHTML = docLinkHtml;\n",
              "          element.appendChild(docLink);\n",
              "        }\n",
              "      </script>\n",
              "    </div>\n",
              "  </div>\n",
              "  "
            ]
          },
          "metadata": {},
          "execution_count": 21
        }
      ]
    },
    {
      "cell_type": "markdown",
      "source": [
        "**DADOS FALTANTES**"
      ],
      "metadata": {
        "id": "bFLn8UdnkSg8"
      }
    },
    {
      "cell_type": "code",
      "source": [
        "# Verificando os dados faltantes\n",
        "\n",
        "dados_faltantes = dados[dados.isna().any(axis=1)]\n",
        "print(dados_faltantes['valor'].unique())\n",
        "print(dados_faltantes['codigo'].unique())"
      ],
      "metadata": {
        "colab": {
          "base_uri": "https://localhost:8080/"
        },
        "id": "lZJ6K1UhiGde",
        "outputId": "0e901186-c724-48b6-c7fd-106cbd53c3bc"
      },
      "execution_count": 22,
      "outputs": [
        {
          "output_type": "stream",
          "name": "stdout",
          "text": [
            "[nan 'é suficiente']\n",
            "[nan]\n"
          ]
        }
      ]
    },
    {
      "cell_type": "code",
      "source": [
        "dados.info()"
      ],
      "metadata": {
        "colab": {
          "base_uri": "https://localhost:8080/"
        },
        "id": "DoJXwAm02_hE",
        "outputId": "5b05415f-a812-4c79-8610-75f037285a81"
      },
      "execution_count": 24,
      "outputs": [
        {
          "output_type": "stream",
          "name": "stdout",
          "text": [
            "<class 'pandas.core.frame.DataFrame'>\n",
            "RangeIndex: 139362 entries, 0 to 139361\n",
            "Data columns (total 4 columns):\n",
            " #   Column     Non-Null Count   Dtype  \n",
            "---  ------     --------------   -----  \n",
            " 0   codigo     97841 non-null   float64\n",
            " 1   descricao  139324 non-null  object \n",
            " 2   valor      97860 non-null   object \n",
            " 3   data       139362 non-null  object \n",
            "dtypes: float64(1), object(3)\n",
            "memory usage: 4.3+ MB\n"
          ]
        }
      ]
    },
    {
      "cell_type": "code",
      "source": [
        "# Deletar as linha que contem dados faltantes\n",
        "\n",
        "dados.dropna(inplace=True)"
      ],
      "metadata": {
        "id": "4TOGPAGuiglF"
      },
      "execution_count": 25,
      "outputs": []
    },
    {
      "cell_type": "markdown",
      "source": [
        "**CONVERTENDO A COLUNA VALOR PARA FLOAT**"
      ],
      "metadata": {
        "id": "qiu1XaIUy-L3"
      }
    },
    {
      "cell_type": "code",
      "source": [
        "# Converter a coluna 'valor' para float64\n",
        "dados['valor'] = pd.to_numeric(dados['valor'].str.replace('.', '').str.replace(',', '.'))"
      ],
      "metadata": {
        "colab": {
          "base_uri": "https://localhost:8080/"
        },
        "id": "sRHEhQPpy9g9",
        "outputId": "57fd0aad-bd1f-462c-cb40-903664c50351"
      },
      "execution_count": 26,
      "outputs": [
        {
          "output_type": "stream",
          "name": "stderr",
          "text": [
            "<ipython-input-26-f790a19567c8>:2: FutureWarning: The default value of regex will change from True to False in a future version. In addition, single character regular expressions will *not* be treated as literal strings when regex=True.\n",
            "  dados['valor'] = pd.to_numeric(dados['valor'].str.replace('.', '').str.replace(',', '.'))\n"
          ]
        }
      ]
    },
    {
      "cell_type": "markdown",
      "source": [
        "**VERIFICANDO AS INFORMAÇÕES BASICAS DOS NOSSOS DADOS**"
      ],
      "metadata": {
        "id": "ELX4SlQRkzDc"
      }
    },
    {
      "cell_type": "code",
      "source": [
        "dados.info()"
      ],
      "metadata": {
        "colab": {
          "base_uri": "https://localhost:8080/"
        },
        "id": "vFUwPl71kwi1",
        "outputId": "abb2d106-1c0f-4700-ce32-e8fe5e9f7e75"
      },
      "execution_count": 27,
      "outputs": [
        {
          "output_type": "stream",
          "name": "stdout",
          "text": [
            "<class 'pandas.core.frame.DataFrame'>\n",
            "Int64Index: 97841 entries, 0 to 139358\n",
            "Data columns (total 4 columns):\n",
            " #   Column     Non-Null Count  Dtype  \n",
            "---  ------     --------------  -----  \n",
            " 0   codigo     97841 non-null  float64\n",
            " 1   descricao  97841 non-null  object \n",
            " 2   valor      97841 non-null  float64\n",
            " 3   data       97841 non-null  object \n",
            "dtypes: float64(2), object(2)\n",
            "memory usage: 3.7+ MB\n"
          ]
        }
      ]
    },
    {
      "cell_type": "code",
      "source": [
        "dados"
      ],
      "metadata": {
        "colab": {
          "base_uri": "https://localhost:8080/",
          "height": 424
        },
        "id": "NvbBkBYOzMv0",
        "outputId": "f5bffe86-1942-4d95-b9ef-d38922c5363b"
      },
      "execution_count": 28,
      "outputs": [
        {
          "output_type": "execute_result",
          "data": {
            "text/plain": [
              "         codigo                                          descricao   valor  \\\n",
              "0         159.0          !EM PROCESSO DE DESATIVACAO! ADUBO BOVINO  205.40   \n",
              "1         303.0  !EM PROCESSO DE DESATIVACAO! ANEL BORRACHA, PA...    2.69   \n",
              "3         304.0  !EM PROCESSO DE DESATIVACAO! ANEL BORRACHA, PA...    4.11   \n",
              "5         305.0  !EM PROCESSO DE DESATIVACAO! ANEL BORRACHA, PA...    7.03   \n",
              "7         306.0  !EM PROCESSO DE DESATIVACAO! ANEL BORRACHA, PA...    8.45   \n",
              "...         ...                                                ...     ...   \n",
              "139350  38079.0  2 INTERRUPTORES SIMPLES + TOMADA 2P+T 10A, 250...   15.44   \n",
              "139352  38068.0  2 INTERRUPTORES SIMPLES 10A, 250V, CONJUNTO MO...   10.24   \n",
              "139354  38076.0  2 TOMADAS 2P+T 10A, 250V, CONJUNTO MONTADO PAR...   12.62   \n",
              "139356  38074.0  3 INTERRUPTORES PARALELOS 10A, 250V, CONJUNTO ...   17.99   \n",
              "139358  38071.0  3 INTERRUPTORES SIMPLES 10A, 250V, CONJUNTO MO...   12.24   \n",
              "\n",
              "           data  \n",
              "0       01/2017  \n",
              "1       01/2017  \n",
              "3       01/2017  \n",
              "5       01/2017  \n",
              "7       01/2017  \n",
              "...         ...  \n",
              "139350  12/2016  \n",
              "139352  12/2016  \n",
              "139354  12/2016  \n",
              "139356  12/2016  \n",
              "139358  12/2016  \n",
              "\n",
              "[97841 rows x 4 columns]"
            ],
            "text/html": [
              "\n",
              "  <div id=\"df-ad874d17-f880-4531-ae6f-404a1c92fff6\">\n",
              "    <div class=\"colab-df-container\">\n",
              "      <div>\n",
              "<style scoped>\n",
              "    .dataframe tbody tr th:only-of-type {\n",
              "        vertical-align: middle;\n",
              "    }\n",
              "\n",
              "    .dataframe tbody tr th {\n",
              "        vertical-align: top;\n",
              "    }\n",
              "\n",
              "    .dataframe thead th {\n",
              "        text-align: right;\n",
              "    }\n",
              "</style>\n",
              "<table border=\"1\" class=\"dataframe\">\n",
              "  <thead>\n",
              "    <tr style=\"text-align: right;\">\n",
              "      <th></th>\n",
              "      <th>codigo</th>\n",
              "      <th>descricao</th>\n",
              "      <th>valor</th>\n",
              "      <th>data</th>\n",
              "    </tr>\n",
              "  </thead>\n",
              "  <tbody>\n",
              "    <tr>\n",
              "      <th>0</th>\n",
              "      <td>159.0</td>\n",
              "      <td>!EM PROCESSO DE DESATIVACAO! ADUBO BOVINO</td>\n",
              "      <td>205.40</td>\n",
              "      <td>01/2017</td>\n",
              "    </tr>\n",
              "    <tr>\n",
              "      <th>1</th>\n",
              "      <td>303.0</td>\n",
              "      <td>!EM PROCESSO DE DESATIVACAO! ANEL BORRACHA, PA...</td>\n",
              "      <td>2.69</td>\n",
              "      <td>01/2017</td>\n",
              "    </tr>\n",
              "    <tr>\n",
              "      <th>3</th>\n",
              "      <td>304.0</td>\n",
              "      <td>!EM PROCESSO DE DESATIVACAO! ANEL BORRACHA, PA...</td>\n",
              "      <td>4.11</td>\n",
              "      <td>01/2017</td>\n",
              "    </tr>\n",
              "    <tr>\n",
              "      <th>5</th>\n",
              "      <td>305.0</td>\n",
              "      <td>!EM PROCESSO DE DESATIVACAO! ANEL BORRACHA, PA...</td>\n",
              "      <td>7.03</td>\n",
              "      <td>01/2017</td>\n",
              "    </tr>\n",
              "    <tr>\n",
              "      <th>7</th>\n",
              "      <td>306.0</td>\n",
              "      <td>!EM PROCESSO DE DESATIVACAO! ANEL BORRACHA, PA...</td>\n",
              "      <td>8.45</td>\n",
              "      <td>01/2017</td>\n",
              "    </tr>\n",
              "    <tr>\n",
              "      <th>...</th>\n",
              "      <td>...</td>\n",
              "      <td>...</td>\n",
              "      <td>...</td>\n",
              "      <td>...</td>\n",
              "    </tr>\n",
              "    <tr>\n",
              "      <th>139350</th>\n",
              "      <td>38079.0</td>\n",
              "      <td>2 INTERRUPTORES SIMPLES + TOMADA 2P+T 10A, 250...</td>\n",
              "      <td>15.44</td>\n",
              "      <td>12/2016</td>\n",
              "    </tr>\n",
              "    <tr>\n",
              "      <th>139352</th>\n",
              "      <td>38068.0</td>\n",
              "      <td>2 INTERRUPTORES SIMPLES 10A, 250V, CONJUNTO MO...</td>\n",
              "      <td>10.24</td>\n",
              "      <td>12/2016</td>\n",
              "    </tr>\n",
              "    <tr>\n",
              "      <th>139354</th>\n",
              "      <td>38076.0</td>\n",
              "      <td>2 TOMADAS 2P+T 10A, 250V, CONJUNTO MONTADO PAR...</td>\n",
              "      <td>12.62</td>\n",
              "      <td>12/2016</td>\n",
              "    </tr>\n",
              "    <tr>\n",
              "      <th>139356</th>\n",
              "      <td>38074.0</td>\n",
              "      <td>3 INTERRUPTORES PARALELOS 10A, 250V, CONJUNTO ...</td>\n",
              "      <td>17.99</td>\n",
              "      <td>12/2016</td>\n",
              "    </tr>\n",
              "    <tr>\n",
              "      <th>139358</th>\n",
              "      <td>38071.0</td>\n",
              "      <td>3 INTERRUPTORES SIMPLES 10A, 250V, CONJUNTO MO...</td>\n",
              "      <td>12.24</td>\n",
              "      <td>12/2016</td>\n",
              "    </tr>\n",
              "  </tbody>\n",
              "</table>\n",
              "<p>97841 rows × 4 columns</p>\n",
              "</div>\n",
              "      <button class=\"colab-df-convert\" onclick=\"convertToInteractive('df-ad874d17-f880-4531-ae6f-404a1c92fff6')\"\n",
              "              title=\"Convert this dataframe to an interactive table.\"\n",
              "              style=\"display:none;\">\n",
              "        \n",
              "  <svg xmlns=\"http://www.w3.org/2000/svg\" height=\"24px\"viewBox=\"0 0 24 24\"\n",
              "       width=\"24px\">\n",
              "    <path d=\"M0 0h24v24H0V0z\" fill=\"none\"/>\n",
              "    <path d=\"M18.56 5.44l.94 2.06.94-2.06 2.06-.94-2.06-.94-.94-2.06-.94 2.06-2.06.94zm-11 1L8.5 8.5l.94-2.06 2.06-.94-2.06-.94L8.5 2.5l-.94 2.06-2.06.94zm10 10l.94 2.06.94-2.06 2.06-.94-2.06-.94-.94-2.06-.94 2.06-2.06.94z\"/><path d=\"M17.41 7.96l-1.37-1.37c-.4-.4-.92-.59-1.43-.59-.52 0-1.04.2-1.43.59L10.3 9.45l-7.72 7.72c-.78.78-.78 2.05 0 2.83L4 21.41c.39.39.9.59 1.41.59.51 0 1.02-.2 1.41-.59l7.78-7.78 2.81-2.81c.8-.78.8-2.07 0-2.86zM5.41 20L4 18.59l7.72-7.72 1.47 1.35L5.41 20z\"/>\n",
              "  </svg>\n",
              "      </button>\n",
              "      \n",
              "  <style>\n",
              "    .colab-df-container {\n",
              "      display:flex;\n",
              "      flex-wrap:wrap;\n",
              "      gap: 12px;\n",
              "    }\n",
              "\n",
              "    .colab-df-convert {\n",
              "      background-color: #E8F0FE;\n",
              "      border: none;\n",
              "      border-radius: 50%;\n",
              "      cursor: pointer;\n",
              "      display: none;\n",
              "      fill: #1967D2;\n",
              "      height: 32px;\n",
              "      padding: 0 0 0 0;\n",
              "      width: 32px;\n",
              "    }\n",
              "\n",
              "    .colab-df-convert:hover {\n",
              "      background-color: #E2EBFA;\n",
              "      box-shadow: 0px 1px 2px rgba(60, 64, 67, 0.3), 0px 1px 3px 1px rgba(60, 64, 67, 0.15);\n",
              "      fill: #174EA6;\n",
              "    }\n",
              "\n",
              "    [theme=dark] .colab-df-convert {\n",
              "      background-color: #3B4455;\n",
              "      fill: #D2E3FC;\n",
              "    }\n",
              "\n",
              "    [theme=dark] .colab-df-convert:hover {\n",
              "      background-color: #434B5C;\n",
              "      box-shadow: 0px 1px 3px 1px rgba(0, 0, 0, 0.15);\n",
              "      filter: drop-shadow(0px 1px 2px rgba(0, 0, 0, 0.3));\n",
              "      fill: #FFFFFF;\n",
              "    }\n",
              "  </style>\n",
              "\n",
              "      <script>\n",
              "        const buttonEl =\n",
              "          document.querySelector('#df-ad874d17-f880-4531-ae6f-404a1c92fff6 button.colab-df-convert');\n",
              "        buttonEl.style.display =\n",
              "          google.colab.kernel.accessAllowed ? 'block' : 'none';\n",
              "\n",
              "        async function convertToInteractive(key) {\n",
              "          const element = document.querySelector('#df-ad874d17-f880-4531-ae6f-404a1c92fff6');\n",
              "          const dataTable =\n",
              "            await google.colab.kernel.invokeFunction('convertToInteractive',\n",
              "                                                     [key], {});\n",
              "          if (!dataTable) return;\n",
              "\n",
              "          const docLinkHtml = 'Like what you see? Visit the ' +\n",
              "            '<a target=\"_blank\" href=https://colab.research.google.com/notebooks/data_table.ipynb>data table notebook</a>'\n",
              "            + ' to learn more about interactive tables.';\n",
              "          element.innerHTML = '';\n",
              "          dataTable['output_type'] = 'display_data';\n",
              "          await google.colab.output.renderOutput(dataTable, element);\n",
              "          const docLink = document.createElement('div');\n",
              "          docLink.innerHTML = docLinkHtml;\n",
              "          element.appendChild(docLink);\n",
              "        }\n",
              "      </script>\n",
              "    </div>\n",
              "  </div>\n",
              "  "
            ]
          },
          "metadata": {},
          "execution_count": 28
        }
      ]
    },
    {
      "cell_type": "code",
      "source": [
        "dados.to_csv('dados_parte3.csv', index=False, sep=';')"
      ],
      "metadata": {
        "id": "rqV2J3mElSdV"
      },
      "execution_count": 29,
      "outputs": []
    },
    {
      "cell_type": "code",
      "source": [],
      "metadata": {
        "id": "AnNM7qlel0DV"
      },
      "execution_count": null,
      "outputs": []
    }
  ]
}