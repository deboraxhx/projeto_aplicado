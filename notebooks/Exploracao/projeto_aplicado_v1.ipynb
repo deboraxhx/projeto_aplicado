{
  "nbformat": 4,
  "nbformat_minor": 0,
  "metadata": {
    "colab": {
      "provenance": [],
      "toc_visible": true
    },
    "kernelspec": {
      "name": "python3",
      "display_name": "Python 3"
    },
    "language_info": {
      "name": "python"
    }
  },
  "cells": [
    {
      "cell_type": "markdown",
      "source": [
        "## IMPORTAÇÃO DAS BIBLIOTECAS"
      ],
      "metadata": {
        "id": "V3QTHwHvAwvr"
      }
    },
    {
      "cell_type": "code",
      "execution_count": 1,
      "metadata": {
        "id": "9dCAZElDAG7o"
      },
      "outputs": [],
      "source": [
        "import pandas as pd\n",
        "import numpy as np\n",
        "import matplotlib.pyplot as plt\n",
        "import os\n",
        "import seaborn as sns\n",
        "import re\n",
        "import warnings\n",
        "\n",
        "\n",
        "warnings.simplefilter('ignore')"
      ]
    },
    {
      "cell_type": "markdown",
      "source": [
        "## FUNÇÕES"
      ],
      "metadata": {
        "id": "9WfeP_wYqRdf"
      }
    },
    {
      "cell_type": "code",
      "source": [
        "def descriptive_stats(num_attributes):\n",
        "  # Central Tedency - mean, median\n",
        "  ct1 = pd.DataFrame(num_attributes.apply(np.mean)).T \n",
        "  ct2 = pd.DataFrame(num_attributes.apply(np.median)).T \n",
        "\n",
        "  # Dispersion - std, min, max, range, skew, curtosis\n",
        "  d1 = pd.DataFrame(num_attributes.apply(np.std)).T\n",
        "  d2 = pd.DataFrame(num_attributes.apply(min)).T\n",
        "  d3 = pd.DataFrame(num_attributes.apply(max)).T\n",
        "  d4 = pd.DataFrame(num_attributes.apply(lambda x : x.max() - x.min())).T\n",
        "  d5 = pd.DataFrame(num_attributes.apply(lambda x : x.skew())).T\n",
        "  d6 = pd.DataFrame(num_attributes.apply(lambda x : x.kurtosis())).T\n",
        "\n",
        "  # Concatenate\n",
        "  m = pd.concat([d2,d3,d4,ct1,ct2,d1,d5,d6]).T.reset_index()\n",
        "  m.columns = ['attributes','min','max','range','mean','median','std','skew','kurtosis']\n",
        "  return m"
      ],
      "metadata": {
        "id": "jNwYL-_hqQvW"
      },
      "execution_count": 2,
      "outputs": []
    },
    {
      "cell_type": "markdown",
      "source": [
        "# **TESTE 1, COMBINANDO E EXPLORAÇÃO SUPERFICIAL DOS DADOS (CATEGORIAS E INSUMOS)**"
      ],
      "metadata": {
        "id": "jghVwOypFZO8"
      }
    },
    {
      "cell_type": "markdown",
      "source": [
        "## 0. PREPARAÇÃO DOS DADOS"
      ],
      "metadata": {
        "id": "eOKT6uQXfxWs"
      }
    },
    {
      "cell_type": "markdown",
      "source": [
        "### 0.1 CARREGANDO OS DADOS"
      ],
      "metadata": {
        "id": "QgpCoUwEBId_"
      }
    },
    {
      "cell_type": "code",
      "source": [
        "# Schema do dados\n",
        "schema = {\n",
        "    'codigo': 'int64',\n",
        "    'valor': 'float64',\n",
        "}\n",
        "\n",
        "\n",
        "insumos = pd.read_csv('/content/drive/MyDrive/PROJETO APLICADO/dados_insumos.csv', \n",
        "                      encoding='ISO-8859-1', sep = \";\", dtype=schema)\n",
        "\n",
        "classif = pd.read_csv('/content/drive/MyDrive/PROJETO APLICADO/materiais categorizados/MATERIAIS.csv', \n",
        "                      encoding='ISO-8859-1', sep = \";\")\n"
      ],
      "metadata": {
        "id": "xL5alnnqANcw"
      },
      "execution_count": 3,
      "outputs": []
    },
    {
      "cell_type": "markdown",
      "source": [
        "### 0.2 CHECAGEM DAS INFORMAÇÕES DOS DADOS PARA COMBINAÇÃO"
      ],
      "metadata": {
        "id": "vt2Lc7HYBVQM"
      }
    },
    {
      "cell_type": "code",
      "source": [
        "print('Dtypes insumos: \\n')\n",
        "print(insumos.dtypes)\n",
        "print('\\nDimensão:', insumos.shape)"
      ],
      "metadata": {
        "colab": {
          "base_uri": "https://localhost:8080/"
        },
        "id": "pmNy_aYuBej5",
        "outputId": "37652b44-1aa3-4bed-f2ea-d08a919b69ca"
      },
      "execution_count": 4,
      "outputs": [
        {
          "output_type": "stream",
          "name": "stdout",
          "text": [
            "Dtypes insumos: \n",
            "\n",
            "codigo         int64\n",
            "descricao     object\n",
            "valor        float64\n",
            "data          object\n",
            "dtype: object\n",
            "\n",
            "Dimensão: (812637, 4)\n"
          ]
        }
      ]
    },
    {
      "cell_type": "code",
      "source": [
        "print('Dtypes insumos: \\n')\n",
        "print(classif.dtypes)\n",
        "print('\\nDimensão:', classif.shape)"
      ],
      "metadata": {
        "colab": {
          "base_uri": "https://localhost:8080/"
        },
        "id": "Ir-rbnIcBrLW",
        "outputId": "23c87548-f69e-4349-c290-7a636b816fa1"
      },
      "execution_count": 5,
      "outputs": [
        {
          "output_type": "stream",
          "name": "stdout",
          "text": [
            "Dtypes insumos: \n",
            "\n",
            "CODIGO                                              int64\n",
            "DESCRICAO DO INSUMO                                object\n",
            "UNIDADE                                            object\n",
            "Coeficiente de Representatividade Nacional (*)     object\n",
            "PRECO MEDIANO R$                                   object\n",
            "ENCARGOS                                          float64\n",
            "mês                                               float64\n",
            "ano                                                 int64\n",
            "localidade                                         object\n",
            "cat 1                                              object\n",
            "commodities                                        object\n",
            "CLASSE                                             object\n",
            "cat 2                                              object\n",
            "cat3                                               object\n",
            "cat4                                               object\n",
            "outros                                             object\n",
            "dtype: object\n",
            "\n",
            "Dimensão: (3427, 16)\n"
          ]
        }
      ]
    },
    {
      "cell_type": "markdown",
      "source": [
        "### 0.3 SELEÇÃO DOS DADOS"
      ],
      "metadata": {
        "id": "3xFo27VvC2Pt"
      }
    },
    {
      "cell_type": "code",
      "source": [
        "# Deletar as colunas sem utilizade\n",
        "classif.drop(columns = ['PRECO MEDIANO R$','ENCARGOS','mês', 'ano','localidade'], inplace=True)\n",
        "\n",
        "# Renomeação dos dados classif\n",
        "classif.columns =['codigo', 'descricao', 'unidade','coeficiente', 'cat_1',\n",
        "                 'commodities', 'classe', 'cat_2', 'cat_3', 'cat_4', 'outros']"
      ],
      "metadata": {
        "id": "3FrCVDc7CZuf"
      },
      "execution_count": 6,
      "outputs": []
    },
    {
      "cell_type": "markdown",
      "source": [
        "### 0.4 COMBINAÇÃO DOS DADOS"
      ],
      "metadata": {
        "id": "IQlBduFmDL8Q"
      }
    },
    {
      "cell_type": "code",
      "source": [
        "# Realiza o merge usando a coluna \"codigo\" como chave de junção\n",
        "dados = pd.merge(insumos, classif, on='codigo')"
      ],
      "metadata": {
        "id": "4pTzOgH-DN1M"
      },
      "execution_count": 7,
      "outputs": []
    },
    {
      "cell_type": "markdown",
      "source": [
        "### 0.5 DADOS"
      ],
      "metadata": {
        "id": "0pugjZvNDbSf"
      }
    },
    {
      "cell_type": "code",
      "source": [
        "dados.sample(5)"
      ],
      "metadata": {
        "colab": {
          "base_uri": "https://localhost:8080/",
          "height": 250
        },
        "id": "9de5EOX5DTV9",
        "outputId": "0960f574-9919-4b7e-994d-e2553fdcd087"
      },
      "execution_count": 8,
      "outputs": [
        {
          "output_type": "execute_result",
          "data": {
            "text/plain": [
              "        codigo                                        descricao_x  valor  \\\n",
              "381084   39244  ELETRODUTO PVC FLEXIVEL CORRUGADO, REFORCADO, ...   1.99   \n",
              "263491    3451  COTOVELO 90 GRAUS DE FERRO GALVANIZADO, COM RO...   8.69   \n",
              "37774    13521         PLACA ESMALTADA P/ IDENTIFICACAO NR DE RUA  94.24   \n",
              "32543    12318  REATOR P/ 1 LAMPADA VAPOR DE MERCURIO 400W USO...  71.79   \n",
              "372306   38052  TUBO DRENO, CORRUGADO, ESPIRALADO, FLEXIVEL, P...   5.80   \n",
              "\n",
              "         data                                        descricao_y unidade  \\\n",
              "381084  02/17  ELETRODUTO PVC FLEXIVEL CORRUGADO, REFORCADO, ...       M   \n",
              "263491  02/20  COTOVELO 90 GRAUS DE FERRO GALVANIZADO, COM RO...      UN   \n",
              "37774   04/11  PLACA DE ACO ESMALTADA PARA IDENTIFICACAO DE R...      UN   \n",
              "32543   09/16  REATOR P/ 1 LAMPADA VAPOR DE MERCURIO 400W USO...      UN   \n",
              "372306  10/18  TUBO DRENO, CORRUGADO, ESPIRALADO, FLEXIVEL, P...       M   \n",
              "\n",
              "       coeficiente     cat_1        commodities    classe  \\\n",
              "381084    0,998654  MATERIAL                PVC  PLASTICO   \n",
              "263491    1,159178  MATERIAL  ferro galvanizado     METAL   \n",
              "37774     0,330003  MATERIAL      aco esmaltado     METAL   \n",
              "32543      1,49796  MATERIAL         aço silico     METAL   \n",
              "372306           1  MATERIAL               pead  PLASTICO   \n",
              "\n",
              "                                             cat_2  \\\n",
              "381084         Instalações Elétricas e Comunicação   \n",
              "263491  Instalações hidrossanitárias e hidraulicas   \n",
              "37774                                  Sinalização   \n",
              "32543          Instalações Elétricas e Comunicação   \n",
              "372306  Instalações hidrossanitárias e hidraulicas   \n",
              "\n",
              "                               cat_3 cat_4      outros  \n",
              "381084  Tubos e conexões (flexíveis)   NaN         NaN  \n",
              "263491    Tubos e conexões (rígidos)   NaN         NaN  \n",
              "37774                            NaN   NaN  Não Armado  \n",
              "32543                            NaN   NaN         NaN  \n",
              "372306  Tubos e conexões (flexíveis)   NaN         NaN  "
            ],
            "text/html": [
              "\n",
              "  <div id=\"df-de19ef05-b696-46c2-83a1-a996664265ad\">\n",
              "    <div class=\"colab-df-container\">\n",
              "      <div>\n",
              "<style scoped>\n",
              "    .dataframe tbody tr th:only-of-type {\n",
              "        vertical-align: middle;\n",
              "    }\n",
              "\n",
              "    .dataframe tbody tr th {\n",
              "        vertical-align: top;\n",
              "    }\n",
              "\n",
              "    .dataframe thead th {\n",
              "        text-align: right;\n",
              "    }\n",
              "</style>\n",
              "<table border=\"1\" class=\"dataframe\">\n",
              "  <thead>\n",
              "    <tr style=\"text-align: right;\">\n",
              "      <th></th>\n",
              "      <th>codigo</th>\n",
              "      <th>descricao_x</th>\n",
              "      <th>valor</th>\n",
              "      <th>data</th>\n",
              "      <th>descricao_y</th>\n",
              "      <th>unidade</th>\n",
              "      <th>coeficiente</th>\n",
              "      <th>cat_1</th>\n",
              "      <th>commodities</th>\n",
              "      <th>classe</th>\n",
              "      <th>cat_2</th>\n",
              "      <th>cat_3</th>\n",
              "      <th>cat_4</th>\n",
              "      <th>outros</th>\n",
              "    </tr>\n",
              "  </thead>\n",
              "  <tbody>\n",
              "    <tr>\n",
              "      <th>381084</th>\n",
              "      <td>39244</td>\n",
              "      <td>ELETRODUTO PVC FLEXIVEL CORRUGADO, REFORCADO, ...</td>\n",
              "      <td>1.99</td>\n",
              "      <td>02/17</td>\n",
              "      <td>ELETRODUTO PVC FLEXIVEL CORRUGADO, REFORCADO, ...</td>\n",
              "      <td>M</td>\n",
              "      <td>0,998654</td>\n",
              "      <td>MATERIAL</td>\n",
              "      <td>PVC</td>\n",
              "      <td>PLASTICO</td>\n",
              "      <td>Instalações Elétricas e Comunicação</td>\n",
              "      <td>Tubos e conexões (flexíveis)</td>\n",
              "      <td>NaN</td>\n",
              "      <td>NaN</td>\n",
              "    </tr>\n",
              "    <tr>\n",
              "      <th>263491</th>\n",
              "      <td>3451</td>\n",
              "      <td>COTOVELO 90 GRAUS DE FERRO GALVANIZADO, COM RO...</td>\n",
              "      <td>8.69</td>\n",
              "      <td>02/20</td>\n",
              "      <td>COTOVELO 90 GRAUS DE FERRO GALVANIZADO, COM RO...</td>\n",
              "      <td>UN</td>\n",
              "      <td>1,159178</td>\n",
              "      <td>MATERIAL</td>\n",
              "      <td>ferro galvanizado</td>\n",
              "      <td>METAL</td>\n",
              "      <td>Instalações hidrossanitárias e hidraulicas</td>\n",
              "      <td>Tubos e conexões (rígidos)</td>\n",
              "      <td>NaN</td>\n",
              "      <td>NaN</td>\n",
              "    </tr>\n",
              "    <tr>\n",
              "      <th>37774</th>\n",
              "      <td>13521</td>\n",
              "      <td>PLACA ESMALTADA P/ IDENTIFICACAO NR DE RUA</td>\n",
              "      <td>94.24</td>\n",
              "      <td>04/11</td>\n",
              "      <td>PLACA DE ACO ESMALTADA PARA IDENTIFICACAO DE R...</td>\n",
              "      <td>UN</td>\n",
              "      <td>0,330003</td>\n",
              "      <td>MATERIAL</td>\n",
              "      <td>aco esmaltado</td>\n",
              "      <td>METAL</td>\n",
              "      <td>Sinalização</td>\n",
              "      <td>NaN</td>\n",
              "      <td>NaN</td>\n",
              "      <td>Não Armado</td>\n",
              "    </tr>\n",
              "    <tr>\n",
              "      <th>32543</th>\n",
              "      <td>12318</td>\n",
              "      <td>REATOR P/ 1 LAMPADA VAPOR DE MERCURIO 400W USO...</td>\n",
              "      <td>71.79</td>\n",
              "      <td>09/16</td>\n",
              "      <td>REATOR P/ 1 LAMPADA VAPOR DE MERCURIO 400W USO...</td>\n",
              "      <td>UN</td>\n",
              "      <td>1,49796</td>\n",
              "      <td>MATERIAL</td>\n",
              "      <td>aço silico</td>\n",
              "      <td>METAL</td>\n",
              "      <td>Instalações Elétricas e Comunicação</td>\n",
              "      <td>NaN</td>\n",
              "      <td>NaN</td>\n",
              "      <td>NaN</td>\n",
              "    </tr>\n",
              "    <tr>\n",
              "      <th>372306</th>\n",
              "      <td>38052</td>\n",
              "      <td>TUBO DRENO, CORRUGADO, ESPIRALADO, FLEXIVEL, P...</td>\n",
              "      <td>5.80</td>\n",
              "      <td>10/18</td>\n",
              "      <td>TUBO DRENO, CORRUGADO, ESPIRALADO, FLEXIVEL, P...</td>\n",
              "      <td>M</td>\n",
              "      <td>1</td>\n",
              "      <td>MATERIAL</td>\n",
              "      <td>pead</td>\n",
              "      <td>PLASTICO</td>\n",
              "      <td>Instalações hidrossanitárias e hidraulicas</td>\n",
              "      <td>Tubos e conexões (flexíveis)</td>\n",
              "      <td>NaN</td>\n",
              "      <td>NaN</td>\n",
              "    </tr>\n",
              "  </tbody>\n",
              "</table>\n",
              "</div>\n",
              "      <button class=\"colab-df-convert\" onclick=\"convertToInteractive('df-de19ef05-b696-46c2-83a1-a996664265ad')\"\n",
              "              title=\"Convert this dataframe to an interactive table.\"\n",
              "              style=\"display:none;\">\n",
              "        \n",
              "  <svg xmlns=\"http://www.w3.org/2000/svg\" height=\"24px\"viewBox=\"0 0 24 24\"\n",
              "       width=\"24px\">\n",
              "    <path d=\"M0 0h24v24H0V0z\" fill=\"none\"/>\n",
              "    <path d=\"M18.56 5.44l.94 2.06.94-2.06 2.06-.94-2.06-.94-.94-2.06-.94 2.06-2.06.94zm-11 1L8.5 8.5l.94-2.06 2.06-.94-2.06-.94L8.5 2.5l-.94 2.06-2.06.94zm10 10l.94 2.06.94-2.06 2.06-.94-2.06-.94-.94-2.06-.94 2.06-2.06.94z\"/><path d=\"M17.41 7.96l-1.37-1.37c-.4-.4-.92-.59-1.43-.59-.52 0-1.04.2-1.43.59L10.3 9.45l-7.72 7.72c-.78.78-.78 2.05 0 2.83L4 21.41c.39.39.9.59 1.41.59.51 0 1.02-.2 1.41-.59l7.78-7.78 2.81-2.81c.8-.78.8-2.07 0-2.86zM5.41 20L4 18.59l7.72-7.72 1.47 1.35L5.41 20z\"/>\n",
              "  </svg>\n",
              "      </button>\n",
              "      \n",
              "  <style>\n",
              "    .colab-df-container {\n",
              "      display:flex;\n",
              "      flex-wrap:wrap;\n",
              "      gap: 12px;\n",
              "    }\n",
              "\n",
              "    .colab-df-convert {\n",
              "      background-color: #E8F0FE;\n",
              "      border: none;\n",
              "      border-radius: 50%;\n",
              "      cursor: pointer;\n",
              "      display: none;\n",
              "      fill: #1967D2;\n",
              "      height: 32px;\n",
              "      padding: 0 0 0 0;\n",
              "      width: 32px;\n",
              "    }\n",
              "\n",
              "    .colab-df-convert:hover {\n",
              "      background-color: #E2EBFA;\n",
              "      box-shadow: 0px 1px 2px rgba(60, 64, 67, 0.3), 0px 1px 3px 1px rgba(60, 64, 67, 0.15);\n",
              "      fill: #174EA6;\n",
              "    }\n",
              "\n",
              "    [theme=dark] .colab-df-convert {\n",
              "      background-color: #3B4455;\n",
              "      fill: #D2E3FC;\n",
              "    }\n",
              "\n",
              "    [theme=dark] .colab-df-convert:hover {\n",
              "      background-color: #434B5C;\n",
              "      box-shadow: 0px 1px 3px 1px rgba(0, 0, 0, 0.15);\n",
              "      filter: drop-shadow(0px 1px 2px rgba(0, 0, 0, 0.3));\n",
              "      fill: #FFFFFF;\n",
              "    }\n",
              "  </style>\n",
              "\n",
              "      <script>\n",
              "        const buttonEl =\n",
              "          document.querySelector('#df-de19ef05-b696-46c2-83a1-a996664265ad button.colab-df-convert');\n",
              "        buttonEl.style.display =\n",
              "          google.colab.kernel.accessAllowed ? 'block' : 'none';\n",
              "\n",
              "        async function convertToInteractive(key) {\n",
              "          const element = document.querySelector('#df-de19ef05-b696-46c2-83a1-a996664265ad');\n",
              "          const dataTable =\n",
              "            await google.colab.kernel.invokeFunction('convertToInteractive',\n",
              "                                                     [key], {});\n",
              "          if (!dataTable) return;\n",
              "\n",
              "          const docLinkHtml = 'Like what you see? Visit the ' +\n",
              "            '<a target=\"_blank\" href=https://colab.research.google.com/notebooks/data_table.ipynb>data table notebook</a>'\n",
              "            + ' to learn more about interactive tables.';\n",
              "          element.innerHTML = '';\n",
              "          dataTable['output_type'] = 'display_data';\n",
              "          await google.colab.output.renderOutput(dataTable, element);\n",
              "          const docLink = document.createElement('div');\n",
              "          docLink.innerHTML = docLinkHtml;\n",
              "          element.appendChild(docLink);\n",
              "        }\n",
              "      </script>\n",
              "    </div>\n",
              "  </div>\n",
              "  "
            ]
          },
          "metadata": {},
          "execution_count": 8
        }
      ]
    },
    {
      "cell_type": "markdown",
      "source": [
        "### 0.6 CHECAGEM DAS INFORMAÇÕES APÓS COMBINAÇÃO"
      ],
      "metadata": {
        "id": "w2N_hEYjDmXW"
      }
    },
    {
      "cell_type": "markdown",
      "source": [
        "**Dtypes e Dimensão**"
      ],
      "metadata": {
        "id": "s-enPAHAjO1F"
      }
    },
    {
      "cell_type": "code",
      "source": [
        "print('Dtypes insumos: \\n')\n",
        "print(dados.dtypes)\n",
        "print('\\nDimensão:', dados.shape)"
      ],
      "metadata": {
        "colab": {
          "base_uri": "https://localhost:8080/"
        },
        "id": "h_oHMapVDh-d",
        "outputId": "748d799e-327a-49cc-9145-d5ab2628d086"
      },
      "execution_count": 9,
      "outputs": [
        {
          "output_type": "stream",
          "name": "stdout",
          "text": [
            "Dtypes insumos: \n",
            "\n",
            "codigo           int64\n",
            "descricao_x     object\n",
            "valor          float64\n",
            "data            object\n",
            "descricao_y     object\n",
            "unidade         object\n",
            "coeficiente     object\n",
            "cat_1           object\n",
            "commodities     object\n",
            "classe          object\n",
            "cat_2           object\n",
            "cat_3           object\n",
            "cat_4           object\n",
            "outros          object\n",
            "dtype: object\n",
            "\n",
            "Dimensão: (413401, 14)\n"
          ]
        }
      ]
    },
    {
      "cell_type": "markdown",
      "source": [
        "**Checagem de dados faltantes**"
      ],
      "metadata": {
        "id": "lO4wZ-t3jO1G"
      }
    },
    {
      "cell_type": "code",
      "source": [
        "dados.isnull().sum()"
      ],
      "metadata": {
        "colab": {
          "base_uri": "https://localhost:8080/"
        },
        "outputId": "aecc6ae7-c177-48e5-d098-7abb04d42d2d",
        "id": "MiHbk4lqjO1G"
      },
      "execution_count": 10,
      "outputs": [
        {
          "output_type": "execute_result",
          "data": {
            "text/plain": [
              "codigo              0\n",
              "descricao_x         0\n",
              "valor               0\n",
              "data                0\n",
              "descricao_y         0\n",
              "unidade             0\n",
              "coeficiente         0\n",
              "cat_1               0\n",
              "commodities         0\n",
              "classe              0\n",
              "cat_2               0\n",
              "cat_3           20891\n",
              "cat_4          401360\n",
              "outros         323360\n",
              "dtype: int64"
            ]
          },
          "metadata": {},
          "execution_count": 10
        }
      ]
    },
    {
      "cell_type": "markdown",
      "source": [
        "### 0.7 CONVERSÃO DOS DADOS"
      ],
      "metadata": {
        "id": "f4u_QRt3EWzM"
      }
    },
    {
      "cell_type": "code",
      "source": [
        "# Conversão da colunas data para datetime\n",
        "dados['data'] = pd.to_datetime(dados['data'], format='%m/%y')\n",
        "dados['data'] = dados['data'].dt.strftime('%m/%y')"
      ],
      "metadata": {
        "id": "iyLq3KNgEMKN"
      },
      "execution_count": 11,
      "outputs": []
    },
    {
      "cell_type": "code",
      "source": [
        "dados['codigo'] = dados['codigo'].astype(str)"
      ],
      "metadata": {
        "id": "xGy8WTExeRtB"
      },
      "execution_count": 12,
      "outputs": []
    },
    {
      "cell_type": "markdown",
      "source": [
        "### 0.8 SELEÇÃO DAS VARIAVEIS"
      ],
      "metadata": {
        "id": "hhk_akrXEiKY"
      }
    },
    {
      "cell_type": "code",
      "source": [
        "dados.drop(columns=['descricao_x', 'unidade'], inplace=True)"
      ],
      "metadata": {
        "id": "ebCQ2z9BE4Ct"
      },
      "execution_count": 13,
      "outputs": []
    },
    {
      "cell_type": "markdown",
      "source": [
        "### 0.9 DADOS TESTE 1 COMPLETO"
      ],
      "metadata": {
        "id": "RHtOmMXUGIMo"
      }
    },
    {
      "cell_type": "code",
      "source": [
        "dados.sample(10)"
      ],
      "metadata": {
        "colab": {
          "base_uri": "https://localhost:8080/",
          "height": 407
        },
        "id": "golGjJnuFEfl",
        "outputId": "4831f94e-8e8d-439d-a611-9c724b3d2a16"
      },
      "execution_count": 160,
      "outputs": [
        {
          "output_type": "execute_result",
          "data": {
            "text/plain": [
              "       codigo    valor       data  \\\n",
              "135341  11316   264.80 2017-02-01   \n",
              "23079    5078     7.87 2013-01-01   \n",
              "330273  34734  1508.31 2016-05-01   \n",
              "360430  40839    52.30 2017-02-01   \n",
              "225421    113     8.70 2012-12-01   \n",
              "43576    4998   315.46 2016-06-01   \n",
              "58141    3679   410.30 2022-11-01   \n",
              "336265  38600     5.40 2022-11-01   \n",
              "109226  11749    36.91 2016-08-01   \n",
              "59651    3746    40.55 2011-08-01   \n",
              "\n",
              "                                              descricao_y coeficiente  \\\n",
              "135341  TAMPAO FOFO SIMPLES COM BASE, CLASSE B125 CARG...    0,868217   \n",
              "23079   PREGO DE ACO POLIDO COM CABECA 16 X 27 (2 1/2 ...    1,072017   \n",
              "330273  DISJUNTOR TERMICO E MAGNETICO AJUSTAVEIS, TRIP...  155,656458   \n",
              "360430  PARAFUSO, ASTM A307 - GRAU A, SEXTAVADO, ZINCA...   52,308802   \n",
              "225421  ADAPTADOR PVC SOLDAVEL CURTO COM BOLSA E ROSCA...    2,690598   \n",
              "43576   PORTA DE MADEIRA-DE-LEI TIPO MEXICANA SEM EMEN...    1,436869   \n",
              "58141   JUNTA DILATACAO ELASTICA PARA CONCRETO (FUGENB...  310,836735   \n",
              "336265  CANALETA DE CONCRETO ESTRUTURAL 14 X 19 X 39 C...    2,040816   \n",
              "109226  VALVULA DE ESFERA BRUTA EM BRONZE, BITOLA 3/4 ...    0,672437   \n",
              "59651   LAJE PRE-MOLDADA TRELICADA (LAJOTAS + VIGOTAS)...    1,760465   \n",
              "\n",
              "           cat_1        commodities                          classe  \\\n",
              "135341  MATERIAL      ferro fundido                           METAL   \n",
              "23079   MATERIAL         aco polido                           METAL   \n",
              "330273  MATERIAL  Metal e plástico.  OUTROS MATERIAIS DE CONSTRUÇÃO   \n",
              "360430  MATERIAL        aço carbono                           METAL   \n",
              "225421  MATERIAL                pvc                        PLASTICO   \n",
              "43576   MATERIAL    madeira angelim                         MADEIRA   \n",
              "58141   MATERIAL           plastico                        PLASTICO   \n",
              "336265  MATERIAL           concreto              CIMENTO E CONCRETO   \n",
              "109226  MATERIAL             bronze                           METAL   \n",
              "59651   MATERIAL    concreto armado              CIMENTO E CONCRETO   \n",
              "\n",
              "                                             cat_2  \\\n",
              "135341  Instalações hidrossanitárias e hidraulicas   \n",
              "23079                         Materiais de Fixação   \n",
              "330273         Instalações Elétricas e Comunicação   \n",
              "360430                        Materiais de Fixação   \n",
              "225421  Instalações hidrossanitárias e hidraulicas   \n",
              "43576                                   Esquadrias   \n",
              "58141                        Materiais estruturais   \n",
              "336265             Blocos Estruturais e de Vedação   \n",
              "109226  Instalações hidrossanitárias e hidraulicas   \n",
              "59651                        Materiais estruturais   \n",
              "\n",
              "                                              cat_3  \\\n",
              "135341             Ferragens de outros construtores   \n",
              "23079                Parafusos, porcas, chumbadores   \n",
              "330273                                          NaN   \n",
              "360430               Parafusos, porcas, chumbadores   \n",
              "225421                   Tubos e conexões (rígidos)   \n",
              "43576                              Portas e Janelas   \n",
              "58141              Plasticos de outros construtores   \n",
              "336265             Produtos de concreto pré-moldado   \n",
              "109226  Torneiras e Válvulas para louças sanitárias   \n",
              "59651              Produtos de concreto pré-moldado   \n",
              "\n",
              "                                  cat_4      outros  \n",
              "135341                              NaN         NaN  \n",
              "23079                               NaN         NaN  \n",
              "330273                              NaN         NaN  \n",
              "360430                              NaN         NaN  \n",
              "225421                              NaN   Agua fria  \n",
              "43576                               NaN         NaN  \n",
              "58141                               NaN         NaN  \n",
              "336265  Blocos, tijolos, telhas e lajes  Não armado  \n",
              "109226                              NaN         NaN  \n",
              "59651   Blocos, tijolos, telhas e lajes      Armado  "
            ],
            "text/html": [
              "\n",
              "  <div id=\"df-30f15811-dcac-40ec-954b-804fa6e389d1\">\n",
              "    <div class=\"colab-df-container\">\n",
              "      <div>\n",
              "<style scoped>\n",
              "    .dataframe tbody tr th:only-of-type {\n",
              "        vertical-align: middle;\n",
              "    }\n",
              "\n",
              "    .dataframe tbody tr th {\n",
              "        vertical-align: top;\n",
              "    }\n",
              "\n",
              "    .dataframe thead th {\n",
              "        text-align: right;\n",
              "    }\n",
              "</style>\n",
              "<table border=\"1\" class=\"dataframe\">\n",
              "  <thead>\n",
              "    <tr style=\"text-align: right;\">\n",
              "      <th></th>\n",
              "      <th>codigo</th>\n",
              "      <th>valor</th>\n",
              "      <th>data</th>\n",
              "      <th>descricao_y</th>\n",
              "      <th>coeficiente</th>\n",
              "      <th>cat_1</th>\n",
              "      <th>commodities</th>\n",
              "      <th>classe</th>\n",
              "      <th>cat_2</th>\n",
              "      <th>cat_3</th>\n",
              "      <th>cat_4</th>\n",
              "      <th>outros</th>\n",
              "    </tr>\n",
              "  </thead>\n",
              "  <tbody>\n",
              "    <tr>\n",
              "      <th>135341</th>\n",
              "      <td>11316</td>\n",
              "      <td>264.80</td>\n",
              "      <td>2017-02-01</td>\n",
              "      <td>TAMPAO FOFO SIMPLES COM BASE, CLASSE B125 CARG...</td>\n",
              "      <td>0,868217</td>\n",
              "      <td>MATERIAL</td>\n",
              "      <td>ferro fundido</td>\n",
              "      <td>METAL</td>\n",
              "      <td>Instalações hidrossanitárias e hidraulicas</td>\n",
              "      <td>Ferragens de outros construtores</td>\n",
              "      <td>NaN</td>\n",
              "      <td>NaN</td>\n",
              "    </tr>\n",
              "    <tr>\n",
              "      <th>23079</th>\n",
              "      <td>5078</td>\n",
              "      <td>7.87</td>\n",
              "      <td>2013-01-01</td>\n",
              "      <td>PREGO DE ACO POLIDO COM CABECA 16 X 27 (2 1/2 ...</td>\n",
              "      <td>1,072017</td>\n",
              "      <td>MATERIAL</td>\n",
              "      <td>aco polido</td>\n",
              "      <td>METAL</td>\n",
              "      <td>Materiais de Fixação</td>\n",
              "      <td>Parafusos, porcas, chumbadores</td>\n",
              "      <td>NaN</td>\n",
              "      <td>NaN</td>\n",
              "    </tr>\n",
              "    <tr>\n",
              "      <th>330273</th>\n",
              "      <td>34734</td>\n",
              "      <td>1508.31</td>\n",
              "      <td>2016-05-01</td>\n",
              "      <td>DISJUNTOR TERMICO E MAGNETICO AJUSTAVEIS, TRIP...</td>\n",
              "      <td>155,656458</td>\n",
              "      <td>MATERIAL</td>\n",
              "      <td>Metal e plástico.</td>\n",
              "      <td>OUTROS MATERIAIS DE CONSTRUÇÃO</td>\n",
              "      <td>Instalações Elétricas e Comunicação</td>\n",
              "      <td>NaN</td>\n",
              "      <td>NaN</td>\n",
              "      <td>NaN</td>\n",
              "    </tr>\n",
              "    <tr>\n",
              "      <th>360430</th>\n",
              "      <td>40839</td>\n",
              "      <td>52.30</td>\n",
              "      <td>2017-02-01</td>\n",
              "      <td>PARAFUSO, ASTM A307 - GRAU A, SEXTAVADO, ZINCA...</td>\n",
              "      <td>52,308802</td>\n",
              "      <td>MATERIAL</td>\n",
              "      <td>aço carbono</td>\n",
              "      <td>METAL</td>\n",
              "      <td>Materiais de Fixação</td>\n",
              "      <td>Parafusos, porcas, chumbadores</td>\n",
              "      <td>NaN</td>\n",
              "      <td>NaN</td>\n",
              "    </tr>\n",
              "    <tr>\n",
              "      <th>225421</th>\n",
              "      <td>113</td>\n",
              "      <td>8.70</td>\n",
              "      <td>2012-12-01</td>\n",
              "      <td>ADAPTADOR PVC SOLDAVEL CURTO COM BOLSA E ROSCA...</td>\n",
              "      <td>2,690598</td>\n",
              "      <td>MATERIAL</td>\n",
              "      <td>pvc</td>\n",
              "      <td>PLASTICO</td>\n",
              "      <td>Instalações hidrossanitárias e hidraulicas</td>\n",
              "      <td>Tubos e conexões (rígidos)</td>\n",
              "      <td>NaN</td>\n",
              "      <td>Agua fria</td>\n",
              "    </tr>\n",
              "    <tr>\n",
              "      <th>43576</th>\n",
              "      <td>4998</td>\n",
              "      <td>315.46</td>\n",
              "      <td>2016-06-01</td>\n",
              "      <td>PORTA DE MADEIRA-DE-LEI TIPO MEXICANA SEM EMEN...</td>\n",
              "      <td>1,436869</td>\n",
              "      <td>MATERIAL</td>\n",
              "      <td>madeira angelim</td>\n",
              "      <td>MADEIRA</td>\n",
              "      <td>Esquadrias</td>\n",
              "      <td>Portas e Janelas</td>\n",
              "      <td>NaN</td>\n",
              "      <td>NaN</td>\n",
              "    </tr>\n",
              "    <tr>\n",
              "      <th>58141</th>\n",
              "      <td>3679</td>\n",
              "      <td>410.30</td>\n",
              "      <td>2022-11-01</td>\n",
              "      <td>JUNTA DILATACAO ELASTICA PARA CONCRETO (FUGENB...</td>\n",
              "      <td>310,836735</td>\n",
              "      <td>MATERIAL</td>\n",
              "      <td>plastico</td>\n",
              "      <td>PLASTICO</td>\n",
              "      <td>Materiais estruturais</td>\n",
              "      <td>Plasticos de outros construtores</td>\n",
              "      <td>NaN</td>\n",
              "      <td>NaN</td>\n",
              "    </tr>\n",
              "    <tr>\n",
              "      <th>336265</th>\n",
              "      <td>38600</td>\n",
              "      <td>5.40</td>\n",
              "      <td>2022-11-01</td>\n",
              "      <td>CANALETA DE CONCRETO ESTRUTURAL 14 X 19 X 39 C...</td>\n",
              "      <td>2,040816</td>\n",
              "      <td>MATERIAL</td>\n",
              "      <td>concreto</td>\n",
              "      <td>CIMENTO E CONCRETO</td>\n",
              "      <td>Blocos Estruturais e de Vedação</td>\n",
              "      <td>Produtos de concreto pré-moldado</td>\n",
              "      <td>Blocos, tijolos, telhas e lajes</td>\n",
              "      <td>Não armado</td>\n",
              "    </tr>\n",
              "    <tr>\n",
              "      <th>109226</th>\n",
              "      <td>11749</td>\n",
              "      <td>36.91</td>\n",
              "      <td>2016-08-01</td>\n",
              "      <td>VALVULA DE ESFERA BRUTA EM BRONZE, BITOLA 3/4 ...</td>\n",
              "      <td>0,672437</td>\n",
              "      <td>MATERIAL</td>\n",
              "      <td>bronze</td>\n",
              "      <td>METAL</td>\n",
              "      <td>Instalações hidrossanitárias e hidraulicas</td>\n",
              "      <td>Torneiras e Válvulas para louças sanitárias</td>\n",
              "      <td>NaN</td>\n",
              "      <td>NaN</td>\n",
              "    </tr>\n",
              "    <tr>\n",
              "      <th>59651</th>\n",
              "      <td>3746</td>\n",
              "      <td>40.55</td>\n",
              "      <td>2011-08-01</td>\n",
              "      <td>LAJE PRE-MOLDADA TRELICADA (LAJOTAS + VIGOTAS)...</td>\n",
              "      <td>1,760465</td>\n",
              "      <td>MATERIAL</td>\n",
              "      <td>concreto armado</td>\n",
              "      <td>CIMENTO E CONCRETO</td>\n",
              "      <td>Materiais estruturais</td>\n",
              "      <td>Produtos de concreto pré-moldado</td>\n",
              "      <td>Blocos, tijolos, telhas e lajes</td>\n",
              "      <td>Armado</td>\n",
              "    </tr>\n",
              "  </tbody>\n",
              "</table>\n",
              "</div>\n",
              "      <button class=\"colab-df-convert\" onclick=\"convertToInteractive('df-30f15811-dcac-40ec-954b-804fa6e389d1')\"\n",
              "              title=\"Convert this dataframe to an interactive table.\"\n",
              "              style=\"display:none;\">\n",
              "        \n",
              "  <svg xmlns=\"http://www.w3.org/2000/svg\" height=\"24px\"viewBox=\"0 0 24 24\"\n",
              "       width=\"24px\">\n",
              "    <path d=\"M0 0h24v24H0V0z\" fill=\"none\"/>\n",
              "    <path d=\"M18.56 5.44l.94 2.06.94-2.06 2.06-.94-2.06-.94-.94-2.06-.94 2.06-2.06.94zm-11 1L8.5 8.5l.94-2.06 2.06-.94-2.06-.94L8.5 2.5l-.94 2.06-2.06.94zm10 10l.94 2.06.94-2.06 2.06-.94-2.06-.94-.94-2.06-.94 2.06-2.06.94z\"/><path d=\"M17.41 7.96l-1.37-1.37c-.4-.4-.92-.59-1.43-.59-.52 0-1.04.2-1.43.59L10.3 9.45l-7.72 7.72c-.78.78-.78 2.05 0 2.83L4 21.41c.39.39.9.59 1.41.59.51 0 1.02-.2 1.41-.59l7.78-7.78 2.81-2.81c.8-.78.8-2.07 0-2.86zM5.41 20L4 18.59l7.72-7.72 1.47 1.35L5.41 20z\"/>\n",
              "  </svg>\n",
              "      </button>\n",
              "      \n",
              "  <style>\n",
              "    .colab-df-container {\n",
              "      display:flex;\n",
              "      flex-wrap:wrap;\n",
              "      gap: 12px;\n",
              "    }\n",
              "\n",
              "    .colab-df-convert {\n",
              "      background-color: #E8F0FE;\n",
              "      border: none;\n",
              "      border-radius: 50%;\n",
              "      cursor: pointer;\n",
              "      display: none;\n",
              "      fill: #1967D2;\n",
              "      height: 32px;\n",
              "      padding: 0 0 0 0;\n",
              "      width: 32px;\n",
              "    }\n",
              "\n",
              "    .colab-df-convert:hover {\n",
              "      background-color: #E2EBFA;\n",
              "      box-shadow: 0px 1px 2px rgba(60, 64, 67, 0.3), 0px 1px 3px 1px rgba(60, 64, 67, 0.15);\n",
              "      fill: #174EA6;\n",
              "    }\n",
              "\n",
              "    [theme=dark] .colab-df-convert {\n",
              "      background-color: #3B4455;\n",
              "      fill: #D2E3FC;\n",
              "    }\n",
              "\n",
              "    [theme=dark] .colab-df-convert:hover {\n",
              "      background-color: #434B5C;\n",
              "      box-shadow: 0px 1px 3px 1px rgba(0, 0, 0, 0.15);\n",
              "      filter: drop-shadow(0px 1px 2px rgba(0, 0, 0, 0.3));\n",
              "      fill: #FFFFFF;\n",
              "    }\n",
              "  </style>\n",
              "\n",
              "      <script>\n",
              "        const buttonEl =\n",
              "          document.querySelector('#df-30f15811-dcac-40ec-954b-804fa6e389d1 button.colab-df-convert');\n",
              "        buttonEl.style.display =\n",
              "          google.colab.kernel.accessAllowed ? 'block' : 'none';\n",
              "\n",
              "        async function convertToInteractive(key) {\n",
              "          const element = document.querySelector('#df-30f15811-dcac-40ec-954b-804fa6e389d1');\n",
              "          const dataTable =\n",
              "            await google.colab.kernel.invokeFunction('convertToInteractive',\n",
              "                                                     [key], {});\n",
              "          if (!dataTable) return;\n",
              "\n",
              "          const docLinkHtml = 'Like what you see? Visit the ' +\n",
              "            '<a target=\"_blank\" href=https://colab.research.google.com/notebooks/data_table.ipynb>data table notebook</a>'\n",
              "            + ' to learn more about interactive tables.';\n",
              "          element.innerHTML = '';\n",
              "          dataTable['output_type'] = 'display_data';\n",
              "          await google.colab.output.renderOutput(dataTable, element);\n",
              "          const docLink = document.createElement('div');\n",
              "          docLink.innerHTML = docLinkHtml;\n",
              "          element.appendChild(docLink);\n",
              "        }\n",
              "      </script>\n",
              "    </div>\n",
              "  </div>\n",
              "  "
            ]
          },
          "metadata": {},
          "execution_count": 160
        }
      ]
    },
    {
      "cell_type": "markdown",
      "source": [
        "## 0.10 EAD"
      ],
      "metadata": {
        "id": "WQ3A6I6qfkji"
      }
    },
    {
      "cell_type": "markdown",
      "source": [
        "### NIVEL 1"
      ],
      "metadata": {
        "id": "wHhFvzHLgso4"
      }
    },
    {
      "cell_type": "markdown",
      "source": [
        "**Variaveis numéricas**"
      ],
      "metadata": {
        "id": "eY3MGY7qg0An"
      }
    },
    {
      "cell_type": "code",
      "source": [
        "num_attributes = dados.select_dtypes(include = ['int64', 'float64'])"
      ],
      "metadata": {
        "id": "I0H0XsBuqyP3"
      },
      "execution_count": 15,
      "outputs": []
    },
    {
      "cell_type": "code",
      "source": [
        "# Estatistica Descritiva da variavel 'valor'\n",
        "descriptive_stats(num_attributes)"
      ],
      "metadata": {
        "colab": {
          "base_uri": "https://localhost:8080/",
          "height": 81
        },
        "id": "vHVWLt39fP7V",
        "outputId": "59176e40-5020-4ddc-da3c-c4317f519989"
      },
      "execution_count": 16,
      "outputs": [
        {
          "output_type": "execute_result",
          "data": {
            "text/plain": [
              "  attributes  min        max      range       mean  median          std  \\\n",
              "0      valor  0.0  141404.34  141404.34  194.56264   21.55  2051.564099   \n",
              "\n",
              "        skew     kurtosis  \n",
              "0  36.375481  1641.482955  "
            ],
            "text/html": [
              "\n",
              "  <div id=\"df-379ee9ee-c9aa-4f0f-8d57-28e935054d3d\">\n",
              "    <div class=\"colab-df-container\">\n",
              "      <div>\n",
              "<style scoped>\n",
              "    .dataframe tbody tr th:only-of-type {\n",
              "        vertical-align: middle;\n",
              "    }\n",
              "\n",
              "    .dataframe tbody tr th {\n",
              "        vertical-align: top;\n",
              "    }\n",
              "\n",
              "    .dataframe thead th {\n",
              "        text-align: right;\n",
              "    }\n",
              "</style>\n",
              "<table border=\"1\" class=\"dataframe\">\n",
              "  <thead>\n",
              "    <tr style=\"text-align: right;\">\n",
              "      <th></th>\n",
              "      <th>attributes</th>\n",
              "      <th>min</th>\n",
              "      <th>max</th>\n",
              "      <th>range</th>\n",
              "      <th>mean</th>\n",
              "      <th>median</th>\n",
              "      <th>std</th>\n",
              "      <th>skew</th>\n",
              "      <th>kurtosis</th>\n",
              "    </tr>\n",
              "  </thead>\n",
              "  <tbody>\n",
              "    <tr>\n",
              "      <th>0</th>\n",
              "      <td>valor</td>\n",
              "      <td>0.0</td>\n",
              "      <td>141404.34</td>\n",
              "      <td>141404.34</td>\n",
              "      <td>194.56264</td>\n",
              "      <td>21.55</td>\n",
              "      <td>2051.564099</td>\n",
              "      <td>36.375481</td>\n",
              "      <td>1641.482955</td>\n",
              "    </tr>\n",
              "  </tbody>\n",
              "</table>\n",
              "</div>\n",
              "      <button class=\"colab-df-convert\" onclick=\"convertToInteractive('df-379ee9ee-c9aa-4f0f-8d57-28e935054d3d')\"\n",
              "              title=\"Convert this dataframe to an interactive table.\"\n",
              "              style=\"display:none;\">\n",
              "        \n",
              "  <svg xmlns=\"http://www.w3.org/2000/svg\" height=\"24px\"viewBox=\"0 0 24 24\"\n",
              "       width=\"24px\">\n",
              "    <path d=\"M0 0h24v24H0V0z\" fill=\"none\"/>\n",
              "    <path d=\"M18.56 5.44l.94 2.06.94-2.06 2.06-.94-2.06-.94-.94-2.06-.94 2.06-2.06.94zm-11 1L8.5 8.5l.94-2.06 2.06-.94-2.06-.94L8.5 2.5l-.94 2.06-2.06.94zm10 10l.94 2.06.94-2.06 2.06-.94-2.06-.94-.94-2.06-.94 2.06-2.06.94z\"/><path d=\"M17.41 7.96l-1.37-1.37c-.4-.4-.92-.59-1.43-.59-.52 0-1.04.2-1.43.59L10.3 9.45l-7.72 7.72c-.78.78-.78 2.05 0 2.83L4 21.41c.39.39.9.59 1.41.59.51 0 1.02-.2 1.41-.59l7.78-7.78 2.81-2.81c.8-.78.8-2.07 0-2.86zM5.41 20L4 18.59l7.72-7.72 1.47 1.35L5.41 20z\"/>\n",
              "  </svg>\n",
              "      </button>\n",
              "      \n",
              "  <style>\n",
              "    .colab-df-container {\n",
              "      display:flex;\n",
              "      flex-wrap:wrap;\n",
              "      gap: 12px;\n",
              "    }\n",
              "\n",
              "    .colab-df-convert {\n",
              "      background-color: #E8F0FE;\n",
              "      border: none;\n",
              "      border-radius: 50%;\n",
              "      cursor: pointer;\n",
              "      display: none;\n",
              "      fill: #1967D2;\n",
              "      height: 32px;\n",
              "      padding: 0 0 0 0;\n",
              "      width: 32px;\n",
              "    }\n",
              "\n",
              "    .colab-df-convert:hover {\n",
              "      background-color: #E2EBFA;\n",
              "      box-shadow: 0px 1px 2px rgba(60, 64, 67, 0.3), 0px 1px 3px 1px rgba(60, 64, 67, 0.15);\n",
              "      fill: #174EA6;\n",
              "    }\n",
              "\n",
              "    [theme=dark] .colab-df-convert {\n",
              "      background-color: #3B4455;\n",
              "      fill: #D2E3FC;\n",
              "    }\n",
              "\n",
              "    [theme=dark] .colab-df-convert:hover {\n",
              "      background-color: #434B5C;\n",
              "      box-shadow: 0px 1px 3px 1px rgba(0, 0, 0, 0.15);\n",
              "      filter: drop-shadow(0px 1px 2px rgba(0, 0, 0, 0.3));\n",
              "      fill: #FFFFFF;\n",
              "    }\n",
              "  </style>\n",
              "\n",
              "      <script>\n",
              "        const buttonEl =\n",
              "          document.querySelector('#df-379ee9ee-c9aa-4f0f-8d57-28e935054d3d button.colab-df-convert');\n",
              "        buttonEl.style.display =\n",
              "          google.colab.kernel.accessAllowed ? 'block' : 'none';\n",
              "\n",
              "        async function convertToInteractive(key) {\n",
              "          const element = document.querySelector('#df-379ee9ee-c9aa-4f0f-8d57-28e935054d3d');\n",
              "          const dataTable =\n",
              "            await google.colab.kernel.invokeFunction('convertToInteractive',\n",
              "                                                     [key], {});\n",
              "          if (!dataTable) return;\n",
              "\n",
              "          const docLinkHtml = 'Like what you see? Visit the ' +\n",
              "            '<a target=\"_blank\" href=https://colab.research.google.com/notebooks/data_table.ipynb>data table notebook</a>'\n",
              "            + ' to learn more about interactive tables.';\n",
              "          element.innerHTML = '';\n",
              "          dataTable['output_type'] = 'display_data';\n",
              "          await google.colab.output.renderOutput(dataTable, element);\n",
              "          const docLink = document.createElement('div');\n",
              "          docLink.innerHTML = docLinkHtml;\n",
              "          element.appendChild(docLink);\n",
              "        }\n",
              "      </script>\n",
              "    </div>\n",
              "  </div>\n",
              "  "
            ]
          },
          "metadata": {},
          "execution_count": 16
        }
      ]
    },
    {
      "cell_type": "code",
      "source": [
        "# Quantis\n",
        "\n",
        "round(num_attributes.describe([0.05,0.25,0.50,0.75,0.90,0.95,0.99]).T,2)"
      ],
      "metadata": {
        "colab": {
          "base_uri": "https://localhost:8080/",
          "height": 81
        },
        "id": "FdV8wNqCq-dL",
        "outputId": "999808d5-50fa-4618-bd8e-8b7ab982d611"
      },
      "execution_count": 17,
      "outputs": [
        {
          "output_type": "execute_result",
          "data": {
            "text/plain": [
              "          count    mean      std  min    5%  25%    50%    75%    90%     95%  \\\n",
              "valor  413401.0  194.56  2051.57  0.0  1.05  6.3  21.55  78.15  269.2  510.63   \n",
              "\n",
              "           99%        max  \n",
              "valor  2237.88  141404.34  "
            ],
            "text/html": [
              "\n",
              "  <div id=\"df-c5d22538-13b9-434a-a618-eaa13d5d4bb5\">\n",
              "    <div class=\"colab-df-container\">\n",
              "      <div>\n",
              "<style scoped>\n",
              "    .dataframe tbody tr th:only-of-type {\n",
              "        vertical-align: middle;\n",
              "    }\n",
              "\n",
              "    .dataframe tbody tr th {\n",
              "        vertical-align: top;\n",
              "    }\n",
              "\n",
              "    .dataframe thead th {\n",
              "        text-align: right;\n",
              "    }\n",
              "</style>\n",
              "<table border=\"1\" class=\"dataframe\">\n",
              "  <thead>\n",
              "    <tr style=\"text-align: right;\">\n",
              "      <th></th>\n",
              "      <th>count</th>\n",
              "      <th>mean</th>\n",
              "      <th>std</th>\n",
              "      <th>min</th>\n",
              "      <th>5%</th>\n",
              "      <th>25%</th>\n",
              "      <th>50%</th>\n",
              "      <th>75%</th>\n",
              "      <th>90%</th>\n",
              "      <th>95%</th>\n",
              "      <th>99%</th>\n",
              "      <th>max</th>\n",
              "    </tr>\n",
              "  </thead>\n",
              "  <tbody>\n",
              "    <tr>\n",
              "      <th>valor</th>\n",
              "      <td>413401.0</td>\n",
              "      <td>194.56</td>\n",
              "      <td>2051.57</td>\n",
              "      <td>0.0</td>\n",
              "      <td>1.05</td>\n",
              "      <td>6.3</td>\n",
              "      <td>21.55</td>\n",
              "      <td>78.15</td>\n",
              "      <td>269.2</td>\n",
              "      <td>510.63</td>\n",
              "      <td>2237.88</td>\n",
              "      <td>141404.34</td>\n",
              "    </tr>\n",
              "  </tbody>\n",
              "</table>\n",
              "</div>\n",
              "      <button class=\"colab-df-convert\" onclick=\"convertToInteractive('df-c5d22538-13b9-434a-a618-eaa13d5d4bb5')\"\n",
              "              title=\"Convert this dataframe to an interactive table.\"\n",
              "              style=\"display:none;\">\n",
              "        \n",
              "  <svg xmlns=\"http://www.w3.org/2000/svg\" height=\"24px\"viewBox=\"0 0 24 24\"\n",
              "       width=\"24px\">\n",
              "    <path d=\"M0 0h24v24H0V0z\" fill=\"none\"/>\n",
              "    <path d=\"M18.56 5.44l.94 2.06.94-2.06 2.06-.94-2.06-.94-.94-2.06-.94 2.06-2.06.94zm-11 1L8.5 8.5l.94-2.06 2.06-.94-2.06-.94L8.5 2.5l-.94 2.06-2.06.94zm10 10l.94 2.06.94-2.06 2.06-.94-2.06-.94-.94-2.06-.94 2.06-2.06.94z\"/><path d=\"M17.41 7.96l-1.37-1.37c-.4-.4-.92-.59-1.43-.59-.52 0-1.04.2-1.43.59L10.3 9.45l-7.72 7.72c-.78.78-.78 2.05 0 2.83L4 21.41c.39.39.9.59 1.41.59.51 0 1.02-.2 1.41-.59l7.78-7.78 2.81-2.81c.8-.78.8-2.07 0-2.86zM5.41 20L4 18.59l7.72-7.72 1.47 1.35L5.41 20z\"/>\n",
              "  </svg>\n",
              "      </button>\n",
              "      \n",
              "  <style>\n",
              "    .colab-df-container {\n",
              "      display:flex;\n",
              "      flex-wrap:wrap;\n",
              "      gap: 12px;\n",
              "    }\n",
              "\n",
              "    .colab-df-convert {\n",
              "      background-color: #E8F0FE;\n",
              "      border: none;\n",
              "      border-radius: 50%;\n",
              "      cursor: pointer;\n",
              "      display: none;\n",
              "      fill: #1967D2;\n",
              "      height: 32px;\n",
              "      padding: 0 0 0 0;\n",
              "      width: 32px;\n",
              "    }\n",
              "\n",
              "    .colab-df-convert:hover {\n",
              "      background-color: #E2EBFA;\n",
              "      box-shadow: 0px 1px 2px rgba(60, 64, 67, 0.3), 0px 1px 3px 1px rgba(60, 64, 67, 0.15);\n",
              "      fill: #174EA6;\n",
              "    }\n",
              "\n",
              "    [theme=dark] .colab-df-convert {\n",
              "      background-color: #3B4455;\n",
              "      fill: #D2E3FC;\n",
              "    }\n",
              "\n",
              "    [theme=dark] .colab-df-convert:hover {\n",
              "      background-color: #434B5C;\n",
              "      box-shadow: 0px 1px 3px 1px rgba(0, 0, 0, 0.15);\n",
              "      filter: drop-shadow(0px 1px 2px rgba(0, 0, 0, 0.3));\n",
              "      fill: #FFFFFF;\n",
              "    }\n",
              "  </style>\n",
              "\n",
              "      <script>\n",
              "        const buttonEl =\n",
              "          document.querySelector('#df-c5d22538-13b9-434a-a618-eaa13d5d4bb5 button.colab-df-convert');\n",
              "        buttonEl.style.display =\n",
              "          google.colab.kernel.accessAllowed ? 'block' : 'none';\n",
              "\n",
              "        async function convertToInteractive(key) {\n",
              "          const element = document.querySelector('#df-c5d22538-13b9-434a-a618-eaa13d5d4bb5');\n",
              "          const dataTable =\n",
              "            await google.colab.kernel.invokeFunction('convertToInteractive',\n",
              "                                                     [key], {});\n",
              "          if (!dataTable) return;\n",
              "\n",
              "          const docLinkHtml = 'Like what you see? Visit the ' +\n",
              "            '<a target=\"_blank\" href=https://colab.research.google.com/notebooks/data_table.ipynb>data table notebook</a>'\n",
              "            + ' to learn more about interactive tables.';\n",
              "          element.innerHTML = '';\n",
              "          dataTable['output_type'] = 'display_data';\n",
              "          await google.colab.output.renderOutput(dataTable, element);\n",
              "          const docLink = document.createElement('div');\n",
              "          docLink.innerHTML = docLinkHtml;\n",
              "          element.appendChild(docLink);\n",
              "        }\n",
              "      </script>\n",
              "    </div>\n",
              "  </div>\n",
              "  "
            ]
          },
          "metadata": {},
          "execution_count": 17
        }
      ]
    },
    {
      "cell_type": "code",
      "source": [
        "# Visualização da distribuição dos dados\n",
        "dados.boxplot()"
      ],
      "metadata": {
        "colab": {
          "base_uri": "https://localhost:8080/",
          "height": 447
        },
        "id": "GFqoMpSTg25O",
        "outputId": "4b3d7766-7c3c-4ccd-e0e0-a5e053895c56"
      },
      "execution_count": 18,
      "outputs": [
        {
          "output_type": "execute_result",
          "data": {
            "text/plain": [
              "<Axes: >"
            ]
          },
          "metadata": {},
          "execution_count": 18
        },
        {
          "output_type": "display_data",
          "data": {
            "text/plain": [
              "<Figure size 640x480 with 1 Axes>"
            ],
            "image/png": "[encoded data removed]"
          },
          "metadata": {}
        }
      ]
    },
    {
      "cell_type": "code",
      "source": [
        "# Seleciona o valor do 98º percentil\n",
        "q99 = dados['valor'].quantile(0.99)\n",
        "\n",
        "# Filtra os dados que estão acima do 98º percentil\n",
        "dados_filtrados = dados[dados['valor'] > q99]\n",
        "\n",
        "dados_filtrados[['codigo', 'descricao_y','classe','valor']].groupby(['codigo','classe'], as_index=False).mean().sort_values(by='valor', ascending=False)"
      ],
      "metadata": {
        "colab": {
          "base_uri": "https://localhost:8080/",
          "height": 424
        },
        "id": "wANV024Kpl6U",
        "outputId": "6f9a0928-d5b1-4f5b-a1a5-26b1890ae2ef"
      },
      "execution_count": 53,
      "outputs": [
        {
          "output_type": "execute_result",
          "data": {
            "text/plain": [
              "    codigo                          classe         valor\n",
              "103   7618  OUTROS MATERIAIS DE CONSTRUÇÃO  86219.845165\n",
              "98    7613  OUTROS MATERIAIS DE CONSTRUÇÃO  68186.808462\n",
              "97    7612  OUTROS MATERIAIS DE CONSTRUÇÃO  48700.520000\n",
              "101   7616  OUTROS MATERIAIS DE CONSTRUÇÃO  35504.520989\n",
              "100   7615  OUTROS MATERIAIS DE CONSTRUÇÃO  21757.335604\n",
              "..     ...                             ...           ...\n",
              "66   41785                        PLASTICO   2317.521667\n",
              "57   41215              CIMENTO E CONCRETO   2301.361429\n",
              "94    5051                           METAL   2291.811111\n",
              "12   14162                           METAL   2288.482222\n",
              "71   42428                           METAL   2251.000000\n",
              "\n",
              "[111 rows x 3 columns]"
            ],
            "text/html": [
              "\n",
              "  <div id=\"df-bb9b27ad-65cc-4e3c-a0aa-07a820775466\">\n",
              "    <div class=\"colab-df-container\">\n",
              "      <div>\n",
              "<style scoped>\n",
              "    .dataframe tbody tr th:only-of-type {\n",
              "        vertical-align: middle;\n",
              "    }\n",
              "\n",
              "    .dataframe tbody tr th {\n",
              "        vertical-align: top;\n",
              "    }\n",
              "\n",
              "    .dataframe thead th {\n",
              "        text-align: right;\n",
              "    }\n",
              "</style>\n",
              "<table border=\"1\" class=\"dataframe\">\n",
              "  <thead>\n",
              "    <tr style=\"text-align: right;\">\n",
              "      <th></th>\n",
              "      <th>codigo</th>\n",
              "      <th>classe</th>\n",
              "      <th>valor</th>\n",
              "    </tr>\n",
              "  </thead>\n",
              "  <tbody>\n",
              "    <tr>\n",
              "      <th>103</th>\n",
              "      <td>7618</td>\n",
              "      <td>OUTROS MATERIAIS DE CONSTRUÇÃO</td>\n",
              "      <td>86219.845165</td>\n",
              "    </tr>\n",
              "    <tr>\n",
              "      <th>98</th>\n",
              "      <td>7613</td>\n",
              "      <td>OUTROS MATERIAIS DE CONSTRUÇÃO</td>\n",
              "      <td>68186.808462</td>\n",
              "    </tr>\n",
              "    <tr>\n",
              "      <th>97</th>\n",
              "      <td>7612</td>\n",
              "      <td>OUTROS MATERIAIS DE CONSTRUÇÃO</td>\n",
              "      <td>48700.520000</td>\n",
              "    </tr>\n",
              "    <tr>\n",
              "      <th>101</th>\n",
              "      <td>7616</td>\n",
              "      <td>OUTROS MATERIAIS DE CONSTRUÇÃO</td>\n",
              "      <td>35504.520989</td>\n",
              "    </tr>\n",
              "    <tr>\n",
              "      <th>100</th>\n",
              "      <td>7615</td>\n",
              "      <td>OUTROS MATERIAIS DE CONSTRUÇÃO</td>\n",
              "      <td>21757.335604</td>\n",
              "    </tr>\n",
              "    <tr>\n",
              "      <th>...</th>\n",
              "      <td>...</td>\n",
              "      <td>...</td>\n",
              "      <td>...</td>\n",
              "    </tr>\n",
              "    <tr>\n",
              "      <th>66</th>\n",
              "      <td>41785</td>\n",
              "      <td>PLASTICO</td>\n",
              "      <td>2317.521667</td>\n",
              "    </tr>\n",
              "    <tr>\n",
              "      <th>57</th>\n",
              "      <td>41215</td>\n",
              "      <td>CIMENTO E CONCRETO</td>\n",
              "      <td>2301.361429</td>\n",
              "    </tr>\n",
              "    <tr>\n",
              "      <th>94</th>\n",
              "      <td>5051</td>\n",
              "      <td>METAL</td>\n",
              "      <td>2291.811111</td>\n",
              "    </tr>\n",
              "    <tr>\n",
              "      <th>12</th>\n",
              "      <td>14162</td>\n",
              "      <td>METAL</td>\n",
              "      <td>2288.482222</td>\n",
              "    </tr>\n",
              "    <tr>\n",
              "      <th>71</th>\n",
              "      <td>42428</td>\n",
              "      <td>METAL</td>\n",
              "      <td>2251.000000</td>\n",
              "    </tr>\n",
              "  </tbody>\n",
              "</table>\n",
              "<p>111 rows × 3 columns</p>\n",
              "</div>\n",
              "      <button class=\"colab-df-convert\" onclick=\"convertToInteractive('df-bb9b27ad-65cc-4e3c-a0aa-07a820775466')\"\n",
              "              title=\"Convert this dataframe to an interactive table.\"\n",
              "              style=\"display:none;\">\n",
              "        \n",
              "  <svg xmlns=\"http://www.w3.org/2000/svg\" height=\"24px\"viewBox=\"0 0 24 24\"\n",
              "       width=\"24px\">\n",
              "    <path d=\"M0 0h24v24H0V0z\" fill=\"none\"/>\n",
              "    <path d=\"M18.56 5.44l.94 2.06.94-2.06 2.06-.94-2.06-.94-.94-2.06-.94 2.06-2.06.94zm-11 1L8.5 8.5l.94-2.06 2.06-.94-2.06-.94L8.5 2.5l-.94 2.06-2.06.94zm10 10l.94 2.06.94-2.06 2.06-.94-2.06-.94-.94-2.06-.94 2.06-2.06.94z\"/><path d=\"M17.41 7.96l-1.37-1.37c-.4-.4-.92-.59-1.43-.59-.52 0-1.04.2-1.43.59L10.3 9.45l-7.72 7.72c-.78.78-.78 2.05 0 2.83L4 21.41c.39.39.9.59 1.41.59.51 0 1.02-.2 1.41-.59l7.78-7.78 2.81-2.81c.8-.78.8-2.07 0-2.86zM5.41 20L4 18.59l7.72-7.72 1.47 1.35L5.41 20z\"/>\n",
              "  </svg>\n",
              "      </button>\n",
              "      \n",
              "  <style>\n",
              "    .colab-df-container {\n",
              "      display:flex;\n",
              "      flex-wrap:wrap;\n",
              "      gap: 12px;\n",
              "    }\n",
              "\n",
              "    .colab-df-convert {\n",
              "      background-color: #E8F0FE;\n",
              "      border: none;\n",
              "      border-radius: 50%;\n",
              "      cursor: pointer;\n",
              "      display: none;\n",
              "      fill: #1967D2;\n",
              "      height: 32px;\n",
              "      padding: 0 0 0 0;\n",
              "      width: 32px;\n",
              "    }\n",
              "\n",
              "    .colab-df-convert:hover {\n",
              "      background-color: #E2EBFA;\n",
              "      box-shadow: 0px 1px 2px rgba(60, 64, 67, 0.3), 0px 1px 3px 1px rgba(60, 64, 67, 0.15);\n",
              "      fill: #174EA6;\n",
              "    }\n",
              "\n",
              "    [theme=dark] .colab-df-convert {\n",
              "      background-color: #3B4455;\n",
              "      fill: #D2E3FC;\n",
              "    }\n",
              "\n",
              "    [theme=dark] .colab-df-convert:hover {\n",
              "      background-color: #434B5C;\n",
              "      box-shadow: 0px 1px 3px 1px rgba(0, 0, 0, 0.15);\n",
              "      filter: drop-shadow(0px 1px 2px rgba(0, 0, 0, 0.3));\n",
              "      fill: #FFFFFF;\n",
              "    }\n",
              "  </style>\n",
              "\n",
              "      <script>\n",
              "        const buttonEl =\n",
              "          document.querySelector('#df-bb9b27ad-65cc-4e3c-a0aa-07a820775466 button.colab-df-convert');\n",
              "        buttonEl.style.display =\n",
              "          google.colab.kernel.accessAllowed ? 'block' : 'none';\n",
              "\n",
              "        async function convertToInteractive(key) {\n",
              "          const element = document.querySelector('#df-bb9b27ad-65cc-4e3c-a0aa-07a820775466');\n",
              "          const dataTable =\n",
              "            await google.colab.kernel.invokeFunction('convertToInteractive',\n",
              "                                                     [key], {});\n",
              "          if (!dataTable) return;\n",
              "\n",
              "          const docLinkHtml = 'Like what you see? Visit the ' +\n",
              "            '<a target=\"_blank\" href=https://colab.research.google.com/notebooks/data_table.ipynb>data table notebook</a>'\n",
              "            + ' to learn more about interactive tables.';\n",
              "          element.innerHTML = '';\n",
              "          dataTable['output_type'] = 'display_data';\n",
              "          await google.colab.output.renderOutput(dataTable, element);\n",
              "          const docLink = document.createElement('div');\n",
              "          docLink.innerHTML = docLinkHtml;\n",
              "          element.appendChild(docLink);\n",
              "        }\n",
              "      </script>\n",
              "    </div>\n",
              "  </div>\n",
              "  "
            ]
          },
          "metadata": {},
          "execution_count": 53
        }
      ]
    },
    {
      "cell_type": "markdown",
      "source": [
        "**Variaveis categoricas**"
      ],
      "metadata": {
        "id": "nX7M8uKZhG1E"
      }
    },
    {
      "cell_type": "code",
      "source": [
        "cat_attributes = dados.select_dtypes(include = ['object'])"
      ],
      "metadata": {
        "id": "VPeCKsYbwshL"
      },
      "execution_count": 21,
      "outputs": []
    },
    {
      "cell_type": "code",
      "source": [
        "# Dicionario para armazenar os valores\n",
        "unique_values = {}\n",
        "for col in cat_attributes.columns:\n",
        "    unique_values[col] = len(cat_attributes[col].value_counts())\n",
        "\n",
        "# Transforma o dicionário em um DataFrame\n",
        "df_unique_values = pd.DataFrame.from_dict(unique_values, orient='index', columns=['Quantidade de valores únicos'])\n",
        "print(df_unique_values)"
      ],
      "metadata": {
        "colab": {
          "base_uri": "https://localhost:8080/"
        },
        "id": "gPvxXWd2w1FM",
        "outputId": "6f7ef575-dd06-4fd7-e80e-34193974f85d"
      },
      "execution_count": 36,
      "outputs": [
        {
          "output_type": "stream",
          "name": "stdout",
          "text": [
            "             Quantidade de valores únicos\n",
            "codigo                               3427\n",
            "data                                  156\n",
            "descricao_y                          3427\n",
            "coeficiente                          3139\n",
            "cat_1                                   1\n",
            "commodities                           224\n",
            "classe                                  8\n",
            "cat_2                                  23\n",
            "cat_3                                  42\n",
            "cat_4                                   2\n",
            "outros                                 16\n"
          ]
        }
      ]
    },
    {
      "cell_type": "markdown",
      "source": [
        "A quantidade de dados que temos que ter para que os dados estejam completos é:\n",
        "\n",
        "codigo x data"
      ],
      "metadata": {
        "id": "qwFz5dgqy5WL"
      }
    },
    {
      "cell_type": "code",
      "source": [
        "# Calculo para conferencia dos dados:\n",
        "\n",
        "a = len(dados['codigo'].unique())\n",
        "b = len(dados['data'].unique())\n",
        "\n",
        "qtd_esperada = a * b\n",
        "qtd_real = dados.shape[0]\n",
        "\n",
        "diff = qtd_esperada - qtd_real\n",
        "\n",
        "print('Quantidade esperada de instancias:',qtd_esperada)\n",
        "print('Quantidade real de instancias:',qtd_real)\n",
        "print('Diferença:', diff )"
      ],
      "metadata": {
        "colab": {
          "base_uri": "https://localhost:8080/"
        },
        "id": "_rfj95BfysLm",
        "outputId": "06d99315-d452-428e-c761-aeb9b140f7b1"
      },
      "execution_count": 63,
      "outputs": [
        {
          "output_type": "stream",
          "name": "stdout",
          "text": [
            "Quantidade esperada de instancias: 534612\n",
            "Quantidade real de instancias: 413401\n",
            "Diferença: 121211\n"
          ]
        }
      ]
    },
    {
      "cell_type": "code",
      "source": [
        "# Cria uma figura e um conjunto de eixos com 1 linha e 3 colunas\n",
        "fig, axs = plt.subplots(3, 1, figsize=(10, 16))\n",
        "\n",
        "# Plota o gráfico de barras para a classe\n",
        "dados.classe.value_counts(ascending=True).plot(kind='barh', ax=axs[0])\n",
        "axs[0].set_title(\"Classe\")\n",
        "\n",
        "# Plota o gráfico de barras para a cat_2\n",
        "dados.cat_2.value_counts(ascending=True).plot(kind='barh', ax=axs[1])\n",
        "axs[1].set_title(\"Categoria 2\")\n",
        "\n",
        "# Plota o gráfico de barras para a cat_3\n",
        "dados.cat_3.value_counts(ascending=True).plot(kind='barh', ax=axs[2])\n",
        "axs[2].set_title(\"Categoria 3\")\n",
        "\n",
        "# Ajusta a disposição dos gráficos na figura\n",
        "plt.tight_layout()\n",
        "\n",
        "# Mostra a figura\n",
        "plt.show()\n"
      ],
      "metadata": {
        "colab": {
          "base_uri": "https://localhost:8080/",
          "height": 1000
        },
        "id": "EglRAFpofP52",
        "outputId": "39eb8eef-cd28-4b51-d21a-535db7a58cd2"
      },
      "execution_count": 38,
      "outputs": [
        {
          "output_type": "display_data",
          "data": {
            "text/plain": [
              "<Figure size 1000x1600 with 3 Axes>"
            ],
            "image/png": "[encoded data removed]"
          },
          "metadata": {}
        }
      ]
    },
    {
      "cell_type": "markdown",
      "source": [
        "**valor x data**"
      ],
      "metadata": {
        "id": "hVcyEZ4snE2I"
      }
    },
    {
      "cell_type": "code",
      "source": [
        "# Converte a coluna 'data' para o formato de data com o formato atual\n",
        "dados['data'] = pd.to_datetime(dados['data'], format='%m/%y')\n",
        "\n",
        "# Agrupa os valores por mês e calcula a soma\n",
        "agrupado_por_mes = dados.groupby(pd.Grouper(key='data', freq='M')).mean()\n",
        "\n",
        "# Plota um gráfico de linha com os valores\n",
        "plt.subplots(figsize=(20, 4))\n",
        "plt.plot(agrupado_por_mes.index, agrupado_por_mes['valor'])\n",
        "plt.title('Variação mensal do preços ao longo do tempo(GLOBAL)')\n",
        "plt.xlabel('Data')\n",
        "plt.ylabel('Valor médio')\n",
        "plt.show()"
      ],
      "metadata": {
        "colab": {
          "base_uri": "https://localhost:8080/",
          "height": 410
        },
        "id": "3Jj3tAngjn-U",
        "outputId": "bd8f158c-7d92-455d-da44-a4a867a950f9"
      },
      "execution_count": 64,
      "outputs": [
        {
          "output_type": "display_data",
          "data": {
            "text/plain": [
              "<Figure size 2000x400 with 1 Axes>"
            ],
            "image/png": "[encoded data removed]"
          },
          "metadata": {}
        }
      ]
    },
    {
      "cell_type": "markdown",
      "source": [
        "CONCLUSÕES TESTE 1:\n",
        "\n",
        "*  Algumas variáveis têm valores faltantes, mas na classificação mais macro dos insumos os dados estão completos.\n",
        "\n",
        "*  Na variável CLASSE, temos uma grande diferença nas quantidades de insumo de cada categoria. 'METAL', 'PLÁSTICO', 'MADEIRA' e 'CIMENTO E CONCRETO' são os mais plausíveis para prosseguir com as análises.\n",
        "\n",
        "*  No gráfico da média dos valores dos insumos por mês, nota-se aumentos consideráveis em determinados pontos.\n",
        "\n",
        "*  A quantidade esperada para a série histórica está completa não bate com a realidade, o que pode explicar isso é a descontinuação de itens ao longo da série histórica. Portanto, explica o gráfico com aumentos inesperados.\n",
        "\n",
        "\n",
        "\n"
      ],
      "metadata": {
        "id": "H2VmdnvLmYTy"
      }
    },
    {
      "cell_type": "markdown",
      "source": [
        "# **TESTE 2, COMBINAÇÃO E EXPLORAÇÃO SUPERFICIAL DOS DADOS (RELATÓRIO E INSUMOS)**"
      ],
      "metadata": {
        "id": "ygJxrW4nGfMv"
      }
    },
    {
      "cell_type": "markdown",
      "source": [
        "## 1. PREPARAÇÃO DOS DADOS"
      ],
      "metadata": {
        "id": "aOcAluhD3hO_"
      }
    },
    {
      "cell_type": "markdown",
      "source": [
        "### 1.1 CARREGANDO OS DADOS"
      ],
      "metadata": {
        "id": "g7BoVlP8KPEw"
      }
    },
    {
      "cell_type": "code",
      "source": [
        "# Schema do dados\n",
        "schema = {\n",
        "    'codigo': 'int64',\n",
        "    'valor': 'float64',\n",
        "}\n",
        "\n",
        "path = '/content/drive/MyDrive/PROJETO APLICADO/'\n",
        "\n",
        "relatorio = pd.read_csv(path+'materiais categorizados/relatorio_insumos.csv', \n",
        "                      encoding='ISO-8859-1', sep = \";\")"
      ],
      "metadata": {
        "id": "wKism7xcKPEy"
      },
      "execution_count": 65,
      "outputs": []
    },
    {
      "cell_type": "markdown",
      "source": [
        "### 1.2 CHECAGEM DAS INFORMAÇÕES DOS DADOS PARA COMBINAÇÃO"
      ],
      "metadata": {
        "id": "6gImnoWVKPEz"
      }
    },
    {
      "cell_type": "markdown",
      "source": [
        "**Dtypes e Dimensões**"
      ],
      "metadata": {
        "id": "Z_VHh7yc3GoH"
      }
    },
    {
      "cell_type": "code",
      "source": [
        "print('Dtypes insumos: \\n')\n",
        "print(insumos.dtypes)\n",
        "print('\\nDimensão:', insumos.shape)"
      ],
      "metadata": {
        "colab": {
          "base_uri": "https://localhost:8080/"
        },
        "outputId": "56b2ca40-ad62-4739-b351-b66d2a19b0cc",
        "id": "bVJI76b4KPE0"
      },
      "execution_count": 66,
      "outputs": [
        {
          "output_type": "stream",
          "name": "stdout",
          "text": [
            "Dtypes insumos: \n",
            "\n",
            "codigo         int64\n",
            "descricao     object\n",
            "valor        float64\n",
            "data          object\n",
            "dtype: object\n",
            "\n",
            "Dimensão: (812637, 4)\n"
          ]
        }
      ]
    },
    {
      "cell_type": "code",
      "source": [
        "print('Dtypes insumos: \\n')\n",
        "print(relatorio.dtypes)\n",
        "print('\\nDimensão:', classif.shape)"
      ],
      "metadata": {
        "colab": {
          "base_uri": "https://localhost:8080/"
        },
        "outputId": "000befd9-be71-4768-99c7-ebd8838ebcaf",
        "id": "Q4GdH5v-KPE1"
      },
      "execution_count": 67,
      "outputs": [
        {
          "output_type": "stream",
          "name": "stdout",
          "text": [
            "Dtypes insumos: \n",
            "\n",
            "cod_rep                 int64\n",
            "codigo                  int64\n",
            "Descrição do Insumo    object\n",
            "unidade                object\n",
            "coeficiente            object\n",
            "categoria              object\n",
            "macro_classe           object\n",
            "vinculo                object\n",
            "dtype: object\n",
            "\n",
            "Dimensão: (3427, 11)\n"
          ]
        }
      ]
    },
    {
      "cell_type": "markdown",
      "source": [
        "**Checagem de dados faltantes**"
      ],
      "metadata": {
        "id": "0MT0VSJQ3J_o"
      }
    },
    {
      "cell_type": "code",
      "source": [
        "relatorio.isnull().sum()"
      ],
      "metadata": {
        "colab": {
          "base_uri": "https://localhost:8080/"
        },
        "id": "sgC8r6pV3Jav",
        "outputId": "38b8c5a7-4355-4a8a-a922-2b020b2b1cdf"
      },
      "execution_count": 71,
      "outputs": [
        {
          "output_type": "execute_result",
          "data": {
            "text/plain": [
              "cod_rep                 0\n",
              "codigo                  0\n",
              "Descrição do Insumo     0\n",
              "unidade                 0\n",
              "coeficiente             0\n",
              "categoria               0\n",
              "macro_classe           51\n",
              "vinculo                 0\n",
              "dtype: int64"
            ]
          },
          "metadata": {},
          "execution_count": 71
        }
      ]
    },
    {
      "cell_type": "markdown",
      "source": [
        "### 1.3 SELEÇÃO DOS DADOS"
      ],
      "metadata": {
        "id": "tCbV7-2fKPE2"
      }
    },
    {
      "cell_type": "code",
      "source": [
        "# Deletar as colunas sem utilizade\n",
        "relatorio.drop(columns = ['vinculo'], inplace=True)"
      ],
      "metadata": {
        "id": "vBVTMnAkKPE2"
      },
      "execution_count": 72,
      "outputs": []
    },
    {
      "cell_type": "markdown",
      "source": [
        "### 1.4 COMBINAÇÃO DOS DADOS"
      ],
      "metadata": {
        "id": "FWT-JkpkKPE3"
      }
    },
    {
      "cell_type": "code",
      "source": [
        "# Realiza o merge usando a coluna \"codigo\" como chave de junção\n",
        "dados_1 = pd.merge(insumos, relatorio, on='codigo')"
      ],
      "metadata": {
        "id": "w538o2H8KPE3"
      },
      "execution_count": 73,
      "outputs": []
    },
    {
      "cell_type": "markdown",
      "source": [
        "### 1.5 DADOS"
      ],
      "metadata": {
        "id": "GMvv2qxHKPE3"
      }
    },
    {
      "cell_type": "code",
      "source": [
        "dados_1.sample(5)"
      ],
      "metadata": {
        "colab": {
          "base_uri": "https://localhost:8080/",
          "height": 206
        },
        "outputId": "067153f5-576d-4f32-b65a-a6e7580a6a35",
        "id": "OIPwV_RbKPE4"
      },
      "execution_count": 74,
      "outputs": [
        {
          "output_type": "execute_result",
          "data": {
            "text/plain": [
              "        codigo                                          descricao    valor  \\\n",
              "178565   11718          REGISTRO PVC PRESSAO S-30 ROSCAVEL DN 3/4    19.51   \n",
              "524028   40975                  AUXILIAR DE MECANICO (MENSALISTA)  2741.16   \n",
              "8530      4825  PEITORIL/ SOLEIRA EM MARMORE, POLIDO, BRANCO C...    56.23   \n",
              "492667   38175  NUMERO / ALGARISMO PARA PORTA, TAMANHO *40* MM...     2.27   \n",
              "530805   39463  DISPOSITIVO DR, 4 POLOS, SENSIBILIDADE DE 300 ...   386.76   \n",
              "\n",
              "         data  cod_rep                                Descrição do Insumo  \\\n",
              "178565  06/13     6031  REGISTRO DE PRESSAO PVC, ROSCAVEL, VOLANTE SIM...   \n",
              "524028  10/21     4234                  AUXILIAR DE MECANICO (MENSALISTA)   \n",
              "8530    09/17     4818  PEITORIL/ SOLEIRA EM MARMORE, POLIDO, BRANCO C...   \n",
              "492667  09/18     5090  NUMERO / ALGARISMO PARA RESIDENCIA (FACHADA), ...   \n",
              "530805  01/20     2370  DISPOSITIVO DR, 4 POLOS, SENSIBILIDADE DE 300 ...   \n",
              "\n",
              "       unidade coeficiente     categoria macro_classe  \n",
              "178565      UN    0,933333  REPRESENTADO     MATERIAL  \n",
              "524028     MES  142,634855  REPRESENTADO  MÃO DE OBRA  \n",
              "8530         M    0,351488  REPRESENTADO     MATERIAL  \n",
              "492667      UN    0,232330  REPRESENTADO     MATERIAL  \n",
              "530805      UN   44,000000  REPRESENTADO     MATERIAL  "
            ],
            "text/html": [
              "\n",
              "  <div id=\"df-c5b02df1-a600-4696-9684-69825e7085ce\">\n",
              "    <div class=\"colab-df-container\">\n",
              "      <div>\n",
              "<style scoped>\n",
              "    .dataframe tbody tr th:only-of-type {\n",
              "        vertical-align: middle;\n",
              "    }\n",
              "\n",
              "    .dataframe tbody tr th {\n",
              "        vertical-align: top;\n",
              "    }\n",
              "\n",
              "    .dataframe thead th {\n",
              "        text-align: right;\n",
              "    }\n",
              "</style>\n",
              "<table border=\"1\" class=\"dataframe\">\n",
              "  <thead>\n",
              "    <tr style=\"text-align: right;\">\n",
              "      <th></th>\n",
              "      <th>codigo</th>\n",
              "      <th>descricao</th>\n",
              "      <th>valor</th>\n",
              "      <th>data</th>\n",
              "      <th>cod_rep</th>\n",
              "      <th>Descrição do Insumo</th>\n",
              "      <th>unidade</th>\n",
              "      <th>coeficiente</th>\n",
              "      <th>categoria</th>\n",
              "      <th>macro_classe</th>\n",
              "    </tr>\n",
              "  </thead>\n",
              "  <tbody>\n",
              "    <tr>\n",
              "      <th>178565</th>\n",
              "      <td>11718</td>\n",
              "      <td>REGISTRO PVC PRESSAO S-30 ROSCAVEL DN 3/4</td>\n",
              "      <td>19.51</td>\n",
              "      <td>06/13</td>\n",
              "      <td>6031</td>\n",
              "      <td>REGISTRO DE PRESSAO PVC, ROSCAVEL, VOLANTE SIM...</td>\n",
              "      <td>UN</td>\n",
              "      <td>0,933333</td>\n",
              "      <td>REPRESENTADO</td>\n",
              "      <td>MATERIAL</td>\n",
              "    </tr>\n",
              "    <tr>\n",
              "      <th>524028</th>\n",
              "      <td>40975</td>\n",
              "      <td>AUXILIAR DE MECANICO (MENSALISTA)</td>\n",
              "      <td>2741.16</td>\n",
              "      <td>10/21</td>\n",
              "      <td>4234</td>\n",
              "      <td>AUXILIAR DE MECANICO (MENSALISTA)</td>\n",
              "      <td>MES</td>\n",
              "      <td>142,634855</td>\n",
              "      <td>REPRESENTADO</td>\n",
              "      <td>MÃO DE OBRA</td>\n",
              "    </tr>\n",
              "    <tr>\n",
              "      <th>8530</th>\n",
              "      <td>4825</td>\n",
              "      <td>PEITORIL/ SOLEIRA EM MARMORE, POLIDO, BRANCO C...</td>\n",
              "      <td>56.23</td>\n",
              "      <td>09/17</td>\n",
              "      <td>4818</td>\n",
              "      <td>PEITORIL/ SOLEIRA EM MARMORE, POLIDO, BRANCO C...</td>\n",
              "      <td>M</td>\n",
              "      <td>0,351488</td>\n",
              "      <td>REPRESENTADO</td>\n",
              "      <td>MATERIAL</td>\n",
              "    </tr>\n",
              "    <tr>\n",
              "      <th>492667</th>\n",
              "      <td>38175</td>\n",
              "      <td>NUMERO / ALGARISMO PARA PORTA, TAMANHO *40* MM...</td>\n",
              "      <td>2.27</td>\n",
              "      <td>09/18</td>\n",
              "      <td>5090</td>\n",
              "      <td>NUMERO / ALGARISMO PARA RESIDENCIA (FACHADA), ...</td>\n",
              "      <td>UN</td>\n",
              "      <td>0,232330</td>\n",
              "      <td>REPRESENTADO</td>\n",
              "      <td>MATERIAL</td>\n",
              "    </tr>\n",
              "    <tr>\n",
              "      <th>530805</th>\n",
              "      <td>39463</td>\n",
              "      <td>DISPOSITIVO DR, 4 POLOS, SENSIBILIDADE DE 300 ...</td>\n",
              "      <td>386.76</td>\n",
              "      <td>01/20</td>\n",
              "      <td>2370</td>\n",
              "      <td>DISPOSITIVO DR, 4 POLOS, SENSIBILIDADE DE 300 ...</td>\n",
              "      <td>UN</td>\n",
              "      <td>44,000000</td>\n",
              "      <td>REPRESENTADO</td>\n",
              "      <td>MATERIAL</td>\n",
              "    </tr>\n",
              "  </tbody>\n",
              "</table>\n",
              "</div>\n",
              "      <button class=\"colab-df-convert\" onclick=\"convertToInteractive('df-c5b02df1-a600-4696-9684-69825e7085ce')\"\n",
              "              title=\"Convert this dataframe to an interactive table.\"\n",
              "              style=\"display:none;\">\n",
              "        \n",
              "  <svg xmlns=\"http://www.w3.org/2000/svg\" height=\"24px\"viewBox=\"0 0 24 24\"\n",
              "       width=\"24px\">\n",
              "    <path d=\"M0 0h24v24H0V0z\" fill=\"none\"/>\n",
              "    <path d=\"M18.56 5.44l.94 2.06.94-2.06 2.06-.94-2.06-.94-.94-2.06-.94 2.06-2.06.94zm-11 1L8.5 8.5l.94-2.06 2.06-.94-2.06-.94L8.5 2.5l-.94 2.06-2.06.94zm10 10l.94 2.06.94-2.06 2.06-.94-2.06-.94-.94-2.06-.94 2.06-2.06.94z\"/><path d=\"M17.41 7.96l-1.37-1.37c-.4-.4-.92-.59-1.43-.59-.52 0-1.04.2-1.43.59L10.3 9.45l-7.72 7.72c-.78.78-.78 2.05 0 2.83L4 21.41c.39.39.9.59 1.41.59.51 0 1.02-.2 1.41-.59l7.78-7.78 2.81-2.81c.8-.78.8-2.07 0-2.86zM5.41 20L4 18.59l7.72-7.72 1.47 1.35L5.41 20z\"/>\n",
              "  </svg>\n",
              "      </button>\n",
              "      \n",
              "  <style>\n",
              "    .colab-df-container {\n",
              "      display:flex;\n",
              "      flex-wrap:wrap;\n",
              "      gap: 12px;\n",
              "    }\n",
              "\n",
              "    .colab-df-convert {\n",
              "      background-color: #E8F0FE;\n",
              "      border: none;\n",
              "      border-radius: 50%;\n",
              "      cursor: pointer;\n",
              "      display: none;\n",
              "      fill: #1967D2;\n",
              "      height: 32px;\n",
              "      padding: 0 0 0 0;\n",
              "      width: 32px;\n",
              "    }\n",
              "\n",
              "    .colab-df-convert:hover {\n",
              "      background-color: #E2EBFA;\n",
              "      box-shadow: 0px 1px 2px rgba(60, 64, 67, 0.3), 0px 1px 3px 1px rgba(60, 64, 67, 0.15);\n",
              "      fill: #174EA6;\n",
              "    }\n",
              "\n",
              "    [theme=dark] .colab-df-convert {\n",
              "      background-color: #3B4455;\n",
              "      fill: #D2E3FC;\n",
              "    }\n",
              "\n",
              "    [theme=dark] .colab-df-convert:hover {\n",
              "      background-color: #434B5C;\n",
              "      box-shadow: 0px 1px 3px 1px rgba(0, 0, 0, 0.15);\n",
              "      filter: drop-shadow(0px 1px 2px rgba(0, 0, 0, 0.3));\n",
              "      fill: #FFFFFF;\n",
              "    }\n",
              "  </style>\n",
              "\n",
              "      <script>\n",
              "        const buttonEl =\n",
              "          document.querySelector('#df-c5b02df1-a600-4696-9684-69825e7085ce button.colab-df-convert');\n",
              "        buttonEl.style.display =\n",
              "          google.colab.kernel.accessAllowed ? 'block' : 'none';\n",
              "\n",
              "        async function convertToInteractive(key) {\n",
              "          const element = document.querySelector('#df-c5b02df1-a600-4696-9684-69825e7085ce');\n",
              "          const dataTable =\n",
              "            await google.colab.kernel.invokeFunction('convertToInteractive',\n",
              "                                                     [key], {});\n",
              "          if (!dataTable) return;\n",
              "\n",
              "          const docLinkHtml = 'Like what you see? Visit the ' +\n",
              "            '<a target=\"_blank\" href=https://colab.research.google.com/notebooks/data_table.ipynb>data table notebook</a>'\n",
              "            + ' to learn more about interactive tables.';\n",
              "          element.innerHTML = '';\n",
              "          dataTable['output_type'] = 'display_data';\n",
              "          await google.colab.output.renderOutput(dataTable, element);\n",
              "          const docLink = document.createElement('div');\n",
              "          docLink.innerHTML = docLinkHtml;\n",
              "          element.appendChild(docLink);\n",
              "        }\n",
              "      </script>\n",
              "    </div>\n",
              "  </div>\n",
              "  "
            ]
          },
          "metadata": {},
          "execution_count": 74
        }
      ]
    },
    {
      "cell_type": "markdown",
      "source": [
        "### 1.6 CHECAGEM DAS INFORMAÇÕES APÓS COMBINAÇÃO"
      ],
      "metadata": {
        "id": "FUezOLewKPE5"
      }
    },
    {
      "cell_type": "markdown",
      "source": [
        "**Dtypes e Dimensão**"
      ],
      "metadata": {
        "id": "SemKTvP_3w4D"
      }
    },
    {
      "cell_type": "code",
      "source": [
        "print('Dtypes insumos: \\n')\n",
        "print(dados_1.dtypes)\n",
        "print('\\nDimensão:', dados_1.shape)"
      ],
      "metadata": {
        "colab": {
          "base_uri": "https://localhost:8080/"
        },
        "outputId": "4d303846-a37f-4cf6-ca67-4598ad28f55c",
        "id": "GzaFh0gMKPE5"
      },
      "execution_count": 76,
      "outputs": [
        {
          "output_type": "stream",
          "name": "stdout",
          "text": [
            "Dtypes insumos: \n",
            "\n",
            "codigo                   int64\n",
            "descricao               object\n",
            "valor                  float64\n",
            "data                    object\n",
            "cod_rep                  int64\n",
            "Descrição do Insumo     object\n",
            "unidade                 object\n",
            "coeficiente             object\n",
            "categoria               object\n",
            "macro_classe            object\n",
            "dtype: object\n",
            "\n",
            "Dimensão: (577218, 10)\n"
          ]
        }
      ]
    },
    {
      "cell_type": "markdown",
      "source": [
        "**Checagem de valors faltantes**"
      ],
      "metadata": {
        "id": "MbhCLRGa32ii"
      }
    },
    {
      "cell_type": "code",
      "source": [
        "dados_1.isnull().sum()"
      ],
      "metadata": {
        "colab": {
          "base_uri": "https://localhost:8080/"
        },
        "id": "prqZkjn_3zua",
        "outputId": "4103c11e-75f8-46ad-8ec0-eeaef12e1731"
      },
      "execution_count": 75,
      "outputs": [
        {
          "output_type": "execute_result",
          "data": {
            "text/plain": [
              "codigo                    0\n",
              "descricao                 0\n",
              "valor                     0\n",
              "data                      0\n",
              "cod_rep                   0\n",
              "Descrição do Insumo       0\n",
              "unidade                   0\n",
              "coeficiente               0\n",
              "categoria                 0\n",
              "macro_classe           2160\n",
              "dtype: int64"
            ]
          },
          "metadata": {},
          "execution_count": 75
        }
      ]
    },
    {
      "cell_type": "markdown",
      "source": [
        "### 1.7 CONVERSÃO DOS DADOS"
      ],
      "metadata": {
        "id": "dRKIfXttKPE6"
      }
    },
    {
      "cell_type": "code",
      "source": [
        "# Conversão da coluna data para datetime\n",
        "dados_1['data'] = pd.to_datetime(dados_1['data'], format='%m/%y')"
      ],
      "metadata": {
        "id": "9bBQdFCrKPE6"
      },
      "execution_count": 77,
      "outputs": []
    },
    {
      "cell_type": "code",
      "source": [
        "# Conversão da coluna codigo para object\n",
        "dados_1['codigo'] = dados_1['codigo'].astype(str)\n",
        "\n",
        "# Conversão da coluna cod_rep para object\n",
        "dados_1['cod_rep'] = dados_1['cod_rep'].astype(str)"
      ],
      "metadata": {
        "id": "J9O4uo-7emez"
      },
      "execution_count": 78,
      "outputs": []
    },
    {
      "cell_type": "markdown",
      "source": [
        "### 1.8 SELEÇÃO DOS DADOS"
      ],
      "metadata": {
        "id": "81hDtsbpMiwc"
      }
    },
    {
      "cell_type": "code",
      "source": [
        "# Deletar as colunas sem utilizade\n",
        "dados_1.drop(columns = ['descricao'], inplace=True)"
      ],
      "metadata": {
        "id": "l1musU0SMiPi"
      },
      "execution_count": 79,
      "outputs": []
    },
    {
      "cell_type": "markdown",
      "source": [
        "### 1.9 DADOS ETAPA 0 COMPLETOS"
      ],
      "metadata": {
        "id": "SlpROqUxKPE7"
      }
    },
    {
      "cell_type": "code",
      "source": [
        "dados_1.head(10)"
      ],
      "metadata": {
        "colab": {
          "base_uri": "https://localhost:8080/",
          "height": 363
        },
        "id": "3toeeDuOMHXZ",
        "outputId": "cbf6a64a-fab6-4c1d-ea33-73a16d54ad13"
      },
      "execution_count": 163,
      "outputs": [
        {
          "output_type": "execute_result",
          "data": {
            "text/plain": [
              "  codigo  valor       data cod_rep  \\\n",
              "0    414   0.07 2010-01-01     411   \n",
              "1    414   0.06 2011-01-01     411   \n",
              "2    414   0.06 2012-01-01     411   \n",
              "3    414   0.05 2013-01-01     411   \n",
              "4    414   0.06 2014-01-01     411   \n",
              "5    414   0.04 2015-01-01     411   \n",
              "6    414   0.04 2016-01-01     411   \n",
              "7    414   0.05 2017-01-01     411   \n",
              "8    414   0.04 2018-01-01     411   \n",
              "9    414   0.04 2019-01-01     411   \n",
              "\n",
              "                                 Descrição do Insumo unidade coeficiente  \\\n",
              "0  ABRACADEIRA DE NYLON PARA AMARRACAO DE CABOS, ...      UN    0,325428   \n",
              "1  ABRACADEIRA DE NYLON PARA AMARRACAO DE CABOS, ...      UN    0,325428   \n",
              "2  ABRACADEIRA DE NYLON PARA AMARRACAO DE CABOS, ...      UN    0,325428   \n",
              "3  ABRACADEIRA DE NYLON PARA AMARRACAO DE CABOS, ...      UN    0,325428   \n",
              "4  ABRACADEIRA DE NYLON PARA AMARRACAO DE CABOS, ...      UN    0,325428   \n",
              "5  ABRACADEIRA DE NYLON PARA AMARRACAO DE CABOS, ...      UN    0,325428   \n",
              "6  ABRACADEIRA DE NYLON PARA AMARRACAO DE CABOS, ...      UN    0,325428   \n",
              "7  ABRACADEIRA DE NYLON PARA AMARRACAO DE CABOS, ...      UN    0,325428   \n",
              "8  ABRACADEIRA DE NYLON PARA AMARRACAO DE CABOS, ...      UN    0,325428   \n",
              "9  ABRACADEIRA DE NYLON PARA AMARRACAO DE CABOS, ...      UN    0,325428   \n",
              "\n",
              "      categoria macro_classe  \n",
              "0  REPRESENTADO     MATERIAL  \n",
              "1  REPRESENTADO     MATERIAL  \n",
              "2  REPRESENTADO     MATERIAL  \n",
              "3  REPRESENTADO     MATERIAL  \n",
              "4  REPRESENTADO     MATERIAL  \n",
              "5  REPRESENTADO     MATERIAL  \n",
              "6  REPRESENTADO     MATERIAL  \n",
              "7  REPRESENTADO     MATERIAL  \n",
              "8  REPRESENTADO     MATERIAL  \n",
              "9  REPRESENTADO     MATERIAL  "
            ],
            "text/html": [
              "\n",
              "  <div id=\"df-3abe0811-29a3-4002-ba66-28e2afc47314\">\n",
              "    <div class=\"colab-df-container\">\n",
              "      <div>\n",
              "<style scoped>\n",
              "    .dataframe tbody tr th:only-of-type {\n",
              "        vertical-align: middle;\n",
              "    }\n",
              "\n",
              "    .dataframe tbody tr th {\n",
              "        vertical-align: top;\n",
              "    }\n",
              "\n",
              "    .dataframe thead th {\n",
              "        text-align: right;\n",
              "    }\n",
              "</style>\n",
              "<table border=\"1\" class=\"dataframe\">\n",
              "  <thead>\n",
              "    <tr style=\"text-align: right;\">\n",
              "      <th></th>\n",
              "      <th>codigo</th>\n",
              "      <th>valor</th>\n",
              "      <th>data</th>\n",
              "      <th>cod_rep</th>\n",
              "      <th>Descrição do Insumo</th>\n",
              "      <th>unidade</th>\n",
              "      <th>coeficiente</th>\n",
              "      <th>categoria</th>\n",
              "      <th>macro_classe</th>\n",
              "    </tr>\n",
              "  </thead>\n",
              "  <tbody>\n",
              "    <tr>\n",
              "      <th>0</th>\n",
              "      <td>414</td>\n",
              "      <td>0.07</td>\n",
              "      <td>2010-01-01</td>\n",
              "      <td>411</td>\n",
              "      <td>ABRACADEIRA DE NYLON PARA AMARRACAO DE CABOS, ...</td>\n",
              "      <td>UN</td>\n",
              "      <td>0,325428</td>\n",
              "      <td>REPRESENTADO</td>\n",
              "      <td>MATERIAL</td>\n",
              "    </tr>\n",
              "    <tr>\n",
              "      <th>1</th>\n",
              "      <td>414</td>\n",
              "      <td>0.06</td>\n",
              "      <td>2011-01-01</td>\n",
              "      <td>411</td>\n",
              "      <td>ABRACADEIRA DE NYLON PARA AMARRACAO DE CABOS, ...</td>\n",
              "      <td>UN</td>\n",
              "      <td>0,325428</td>\n",
              "      <td>REPRESENTADO</td>\n",
              "      <td>MATERIAL</td>\n",
              "    </tr>\n",
              "    <tr>\n",
              "      <th>2</th>\n",
              "      <td>414</td>\n",
              "      <td>0.06</td>\n",
              "      <td>2012-01-01</td>\n",
              "      <td>411</td>\n",
              "      <td>ABRACADEIRA DE NYLON PARA AMARRACAO DE CABOS, ...</td>\n",
              "      <td>UN</td>\n",
              "      <td>0,325428</td>\n",
              "      <td>REPRESENTADO</td>\n",
              "      <td>MATERIAL</td>\n",
              "    </tr>\n",
              "    <tr>\n",
              "      <th>3</th>\n",
              "      <td>414</td>\n",
              "      <td>0.05</td>\n",
              "      <td>2013-01-01</td>\n",
              "      <td>411</td>\n",
              "      <td>ABRACADEIRA DE NYLON PARA AMARRACAO DE CABOS, ...</td>\n",
              "      <td>UN</td>\n",
              "      <td>0,325428</td>\n",
              "      <td>REPRESENTADO</td>\n",
              "      <td>MATERIAL</td>\n",
              "    </tr>\n",
              "    <tr>\n",
              "      <th>4</th>\n",
              "      <td>414</td>\n",
              "      <td>0.06</td>\n",
              "      <td>2014-01-01</td>\n",
              "      <td>411</td>\n",
              "      <td>ABRACADEIRA DE NYLON PARA AMARRACAO DE CABOS, ...</td>\n",
              "      <td>UN</td>\n",
              "      <td>0,325428</td>\n",
              "      <td>REPRESENTADO</td>\n",
              "      <td>MATERIAL</td>\n",
              "    </tr>\n",
              "    <tr>\n",
              "      <th>5</th>\n",
              "      <td>414</td>\n",
              "      <td>0.04</td>\n",
              "      <td>2015-01-01</td>\n",
              "      <td>411</td>\n",
              "      <td>ABRACADEIRA DE NYLON PARA AMARRACAO DE CABOS, ...</td>\n",
              "      <td>UN</td>\n",
              "      <td>0,325428</td>\n",
              "      <td>REPRESENTADO</td>\n",
              "      <td>MATERIAL</td>\n",
              "    </tr>\n",
              "    <tr>\n",
              "      <th>6</th>\n",
              "      <td>414</td>\n",
              "      <td>0.04</td>\n",
              "      <td>2016-01-01</td>\n",
              "      <td>411</td>\n",
              "      <td>ABRACADEIRA DE NYLON PARA AMARRACAO DE CABOS, ...</td>\n",
              "      <td>UN</td>\n",
              "      <td>0,325428</td>\n",
              "      <td>REPRESENTADO</td>\n",
              "      <td>MATERIAL</td>\n",
              "    </tr>\n",
              "    <tr>\n",
              "      <th>7</th>\n",
              "      <td>414</td>\n",
              "      <td>0.05</td>\n",
              "      <td>2017-01-01</td>\n",
              "      <td>411</td>\n",
              "      <td>ABRACADEIRA DE NYLON PARA AMARRACAO DE CABOS, ...</td>\n",
              "      <td>UN</td>\n",
              "      <td>0,325428</td>\n",
              "      <td>REPRESENTADO</td>\n",
              "      <td>MATERIAL</td>\n",
              "    </tr>\n",
              "    <tr>\n",
              "      <th>8</th>\n",
              "      <td>414</td>\n",
              "      <td>0.04</td>\n",
              "      <td>2018-01-01</td>\n",
              "      <td>411</td>\n",
              "      <td>ABRACADEIRA DE NYLON PARA AMARRACAO DE CABOS, ...</td>\n",
              "      <td>UN</td>\n",
              "      <td>0,325428</td>\n",
              "      <td>REPRESENTADO</td>\n",
              "      <td>MATERIAL</td>\n",
              "    </tr>\n",
              "    <tr>\n",
              "      <th>9</th>\n",
              "      <td>414</td>\n",
              "      <td>0.04</td>\n",
              "      <td>2019-01-01</td>\n",
              "      <td>411</td>\n",
              "      <td>ABRACADEIRA DE NYLON PARA AMARRACAO DE CABOS, ...</td>\n",
              "      <td>UN</td>\n",
              "      <td>0,325428</td>\n",
              "      <td>REPRESENTADO</td>\n",
              "      <td>MATERIAL</td>\n",
              "    </tr>\n",
              "  </tbody>\n",
              "</table>\n",
              "</div>\n",
              "      <button class=\"colab-df-convert\" onclick=\"convertToInteractive('df-3abe0811-29a3-4002-ba66-28e2afc47314')\"\n",
              "              title=\"Convert this dataframe to an interactive table.\"\n",
              "              style=\"display:none;\">\n",
              "        \n",
              "  <svg xmlns=\"http://www.w3.org/2000/svg\" height=\"24px\"viewBox=\"0 0 24 24\"\n",
              "       width=\"24px\">\n",
              "    <path d=\"M0 0h24v24H0V0z\" fill=\"none\"/>\n",
              "    <path d=\"M18.56 5.44l.94 2.06.94-2.06 2.06-.94-2.06-.94-.94-2.06-.94 2.06-2.06.94zm-11 1L8.5 8.5l.94-2.06 2.06-.94-2.06-.94L8.5 2.5l-.94 2.06-2.06.94zm10 10l.94 2.06.94-2.06 2.06-.94-2.06-.94-.94-2.06-.94 2.06-2.06.94z\"/><path d=\"M17.41 7.96l-1.37-1.37c-.4-.4-.92-.59-1.43-.59-.52 0-1.04.2-1.43.59L10.3 9.45l-7.72 7.72c-.78.78-.78 2.05 0 2.83L4 21.41c.39.39.9.59 1.41.59.51 0 1.02-.2 1.41-.59l7.78-7.78 2.81-2.81c.8-.78.8-2.07 0-2.86zM5.41 20L4 18.59l7.72-7.72 1.47 1.35L5.41 20z\"/>\n",
              "  </svg>\n",
              "      </button>\n",
              "      \n",
              "  <style>\n",
              "    .colab-df-container {\n",
              "      display:flex;\n",
              "      flex-wrap:wrap;\n",
              "      gap: 12px;\n",
              "    }\n",
              "\n",
              "    .colab-df-convert {\n",
              "      background-color: #E8F0FE;\n",
              "      border: none;\n",
              "      border-radius: 50%;\n",
              "      cursor: pointer;\n",
              "      display: none;\n",
              "      fill: #1967D2;\n",
              "      height: 32px;\n",
              "      padding: 0 0 0 0;\n",
              "      width: 32px;\n",
              "    }\n",
              "\n",
              "    .colab-df-convert:hover {\n",
              "      background-color: #E2EBFA;\n",
              "      box-shadow: 0px 1px 2px rgba(60, 64, 67, 0.3), 0px 1px 3px 1px rgba(60, 64, 67, 0.15);\n",
              "      fill: #174EA6;\n",
              "    }\n",
              "\n",
              "    [theme=dark] .colab-df-convert {\n",
              "      background-color: #3B4455;\n",
              "      fill: #D2E3FC;\n",
              "    }\n",
              "\n",
              "    [theme=dark] .colab-df-convert:hover {\n",
              "      background-color: #434B5C;\n",
              "      box-shadow: 0px 1px 3px 1px rgba(0, 0, 0, 0.15);\n",
              "      filter: drop-shadow(0px 1px 2px rgba(0, 0, 0, 0.3));\n",
              "      fill: #FFFFFF;\n",
              "    }\n",
              "  </style>\n",
              "\n",
              "      <script>\n",
              "        const buttonEl =\n",
              "          document.querySelector('#df-3abe0811-29a3-4002-ba66-28e2afc47314 button.colab-df-convert');\n",
              "        buttonEl.style.display =\n",
              "          google.colab.kernel.accessAllowed ? 'block' : 'none';\n",
              "\n",
              "        async function convertToInteractive(key) {\n",
              "          const element = document.querySelector('#df-3abe0811-29a3-4002-ba66-28e2afc47314');\n",
              "          const dataTable =\n",
              "            await google.colab.kernel.invokeFunction('convertToInteractive',\n",
              "                                                     [key], {});\n",
              "          if (!dataTable) return;\n",
              "\n",
              "          const docLinkHtml = 'Like what you see? Visit the ' +\n",
              "            '<a target=\"_blank\" href=https://colab.research.google.com/notebooks/data_table.ipynb>data table notebook</a>'\n",
              "            + ' to learn more about interactive tables.';\n",
              "          element.innerHTML = '';\n",
              "          dataTable['output_type'] = 'display_data';\n",
              "          await google.colab.output.renderOutput(dataTable, element);\n",
              "          const docLink = document.createElement('div');\n",
              "          docLink.innerHTML = docLinkHtml;\n",
              "          element.appendChild(docLink);\n",
              "        }\n",
              "      </script>\n",
              "    </div>\n",
              "  </div>\n",
              "  "
            ]
          },
          "metadata": {},
          "execution_count": 163
        }
      ]
    },
    {
      "cell_type": "markdown",
      "source": [
        "## 1.10 EAD"
      ],
      "metadata": {
        "id": "4bg9vAnD4QlS"
      }
    },
    {
      "cell_type": "markdown",
      "source": [
        "### NIVEL 1"
      ],
      "metadata": {
        "id": "1NAoIy3K4QlS"
      }
    },
    {
      "cell_type": "markdown",
      "source": [
        "**Variaveis numéricas**"
      ],
      "metadata": {
        "id": "nItJ9LyR4QlS"
      }
    },
    {
      "cell_type": "code",
      "source": [
        "num_attributes = dados_1.select_dtypes(include = ['int64', 'float64'])"
      ],
      "metadata": {
        "id": "0NK191uR4QlT"
      },
      "execution_count": 84,
      "outputs": []
    },
    {
      "cell_type": "code",
      "source": [
        "# Estatistica Descritiva da variavel 'valor'\n",
        "descriptive_stats(num_attributes)"
      ],
      "metadata": {
        "colab": {
          "base_uri": "https://localhost:8080/",
          "height": 81
        },
        "outputId": "1565d168-62d0-4076-f56f-d27d32edcf54",
        "id": "XfULvc974QlT"
      },
      "execution_count": 85,
      "outputs": [
        {
          "output_type": "execute_result",
          "data": {
            "text/plain": [
              "  attributes  min         max       range          mean  median  \\\n",
              "0      valor  0.0  8958602.97  8958602.97  16621.525967   25.97   \n",
              "\n",
              "             std       skew    kurtosis  \n",
              "0  164881.400347  21.321288  660.072408  "
            ],
            "text/html": [
              "\n",
              "  <div id=\"df-aa94265b-f1ab-4237-b86e-b5556a1b2195\">\n",
              "    <div class=\"colab-df-container\">\n",
              "      <div>\n",
              "<style scoped>\n",
              "    .dataframe tbody tr th:only-of-type {\n",
              "        vertical-align: middle;\n",
              "    }\n",
              "\n",
              "    .dataframe tbody tr th {\n",
              "        vertical-align: top;\n",
              "    }\n",
              "\n",
              "    .dataframe thead th {\n",
              "        text-align: right;\n",
              "    }\n",
              "</style>\n",
              "<table border=\"1\" class=\"dataframe\">\n",
              "  <thead>\n",
              "    <tr style=\"text-align: right;\">\n",
              "      <th></th>\n",
              "      <th>attributes</th>\n",
              "      <th>min</th>\n",
              "      <th>max</th>\n",
              "      <th>range</th>\n",
              "      <th>mean</th>\n",
              "      <th>median</th>\n",
              "      <th>std</th>\n",
              "      <th>skew</th>\n",
              "      <th>kurtosis</th>\n",
              "    </tr>\n",
              "  </thead>\n",
              "  <tbody>\n",
              "    <tr>\n",
              "      <th>0</th>\n",
              "      <td>valor</td>\n",
              "      <td>0.0</td>\n",
              "      <td>8958602.97</td>\n",
              "      <td>8958602.97</td>\n",
              "      <td>16621.525967</td>\n",
              "      <td>25.97</td>\n",
              "      <td>164881.400347</td>\n",
              "      <td>21.321288</td>\n",
              "      <td>660.072408</td>\n",
              "    </tr>\n",
              "  </tbody>\n",
              "</table>\n",
              "</div>\n",
              "      <button class=\"colab-df-convert\" onclick=\"convertToInteractive('df-aa94265b-f1ab-4237-b86e-b5556a1b2195')\"\n",
              "              title=\"Convert this dataframe to an interactive table.\"\n",
              "              style=\"display:none;\">\n",
              "        \n",
              "  <svg xmlns=\"http://www.w3.org/2000/svg\" height=\"24px\"viewBox=\"0 0 24 24\"\n",
              "       width=\"24px\">\n",
              "    <path d=\"M0 0h24v24H0V0z\" fill=\"none\"/>\n",
              "    <path d=\"M18.56 5.44l.94 2.06.94-2.06 2.06-.94-2.06-.94-.94-2.06-.94 2.06-2.06.94zm-11 1L8.5 8.5l.94-2.06 2.06-.94-2.06-.94L8.5 2.5l-.94 2.06-2.06.94zm10 10l.94 2.06.94-2.06 2.06-.94-2.06-.94-.94-2.06-.94 2.06-2.06.94z\"/><path d=\"M17.41 7.96l-1.37-1.37c-.4-.4-.92-.59-1.43-.59-.52 0-1.04.2-1.43.59L10.3 9.45l-7.72 7.72c-.78.78-.78 2.05 0 2.83L4 21.41c.39.39.9.59 1.41.59.51 0 1.02-.2 1.41-.59l7.78-7.78 2.81-2.81c.8-.78.8-2.07 0-2.86zM5.41 20L4 18.59l7.72-7.72 1.47 1.35L5.41 20z\"/>\n",
              "  </svg>\n",
              "      </button>\n",
              "      \n",
              "  <style>\n",
              "    .colab-df-container {\n",
              "      display:flex;\n",
              "      flex-wrap:wrap;\n",
              "      gap: 12px;\n",
              "    }\n",
              "\n",
              "    .colab-df-convert {\n",
              "      background-color: #E8F0FE;\n",
              "      border: none;\n",
              "      border-radius: 50%;\n",
              "      cursor: pointer;\n",
              "      display: none;\n",
              "      fill: #1967D2;\n",
              "      height: 32px;\n",
              "      padding: 0 0 0 0;\n",
              "      width: 32px;\n",
              "    }\n",
              "\n",
              "    .colab-df-convert:hover {\n",
              "      background-color: #E2EBFA;\n",
              "      box-shadow: 0px 1px 2px rgba(60, 64, 67, 0.3), 0px 1px 3px 1px rgba(60, 64, 67, 0.15);\n",
              "      fill: #174EA6;\n",
              "    }\n",
              "\n",
              "    [theme=dark] .colab-df-convert {\n",
              "      background-color: #3B4455;\n",
              "      fill: #D2E3FC;\n",
              "    }\n",
              "\n",
              "    [theme=dark] .colab-df-convert:hover {\n",
              "      background-color: #434B5C;\n",
              "      box-shadow: 0px 1px 3px 1px rgba(0, 0, 0, 0.15);\n",
              "      filter: drop-shadow(0px 1px 2px rgba(0, 0, 0, 0.3));\n",
              "      fill: #FFFFFF;\n",
              "    }\n",
              "  </style>\n",
              "\n",
              "      <script>\n",
              "        const buttonEl =\n",
              "          document.querySelector('#df-aa94265b-f1ab-4237-b86e-b5556a1b2195 button.colab-df-convert');\n",
              "        buttonEl.style.display =\n",
              "          google.colab.kernel.accessAllowed ? 'block' : 'none';\n",
              "\n",
              "        async function convertToInteractive(key) {\n",
              "          const element = document.querySelector('#df-aa94265b-f1ab-4237-b86e-b5556a1b2195');\n",
              "          const dataTable =\n",
              "            await google.colab.kernel.invokeFunction('convertToInteractive',\n",
              "                                                     [key], {});\n",
              "          if (!dataTable) return;\n",
              "\n",
              "          const docLinkHtml = 'Like what you see? Visit the ' +\n",
              "            '<a target=\"_blank\" href=https://colab.research.google.com/notebooks/data_table.ipynb>data table notebook</a>'\n",
              "            + ' to learn more about interactive tables.';\n",
              "          element.innerHTML = '';\n",
              "          dataTable['output_type'] = 'display_data';\n",
              "          await google.colab.output.renderOutput(dataTable, element);\n",
              "          const docLink = document.createElement('div');\n",
              "          docLink.innerHTML = docLinkHtml;\n",
              "          element.appendChild(docLink);\n",
              "        }\n",
              "      </script>\n",
              "    </div>\n",
              "  </div>\n",
              "  "
            ]
          },
          "metadata": {},
          "execution_count": 85
        }
      ]
    },
    {
      "cell_type": "code",
      "source": [
        "# Quantis\n",
        "\n",
        "round(num_attributes.describe([0.05,0.25,0.50,0.75,0.90,0.95,0.99]).T,2)"
      ],
      "metadata": {
        "colab": {
          "base_uri": "https://localhost:8080/",
          "height": 81
        },
        "outputId": "d352471e-82eb-4d71-89aa-78a22d7b7382",
        "id": "XqUbbdOh4QlU"
      },
      "execution_count": 86,
      "outputs": [
        {
          "output_type": "execute_result",
          "data": {
            "text/plain": [
              "          count      mean        std  min    5%   25%    50%     75%    90%  \\\n",
              "valor  577218.0  16621.53  164881.54  0.0  1.17  7.58  25.97  125.53  953.2   \n",
              "\n",
              "           95%        99%         max  \n",
              "valor  6695.09  443021.52  8958602.97  "
            ],
            "text/html": [
              "\n",
              "  <div id=\"df-93778e9b-e293-4b85-8409-533ded9d6ba2\">\n",
              "    <div class=\"colab-df-container\">\n",
              "      <div>\n",
              "<style scoped>\n",
              "    .dataframe tbody tr th:only-of-type {\n",
              "        vertical-align: middle;\n",
              "    }\n",
              "\n",
              "    .dataframe tbody tr th {\n",
              "        vertical-align: top;\n",
              "    }\n",
              "\n",
              "    .dataframe thead th {\n",
              "        text-align: right;\n",
              "    }\n",
              "</style>\n",
              "<table border=\"1\" class=\"dataframe\">\n",
              "  <thead>\n",
              "    <tr style=\"text-align: right;\">\n",
              "      <th></th>\n",
              "      <th>count</th>\n",
              "      <th>mean</th>\n",
              "      <th>std</th>\n",
              "      <th>min</th>\n",
              "      <th>5%</th>\n",
              "      <th>25%</th>\n",
              "      <th>50%</th>\n",
              "      <th>75%</th>\n",
              "      <th>90%</th>\n",
              "      <th>95%</th>\n",
              "      <th>99%</th>\n",
              "      <th>max</th>\n",
              "    </tr>\n",
              "  </thead>\n",
              "  <tbody>\n",
              "    <tr>\n",
              "      <th>valor</th>\n",
              "      <td>577218.0</td>\n",
              "      <td>16621.53</td>\n",
              "      <td>164881.54</td>\n",
              "      <td>0.0</td>\n",
              "      <td>1.17</td>\n",
              "      <td>7.58</td>\n",
              "      <td>25.97</td>\n",
              "      <td>125.53</td>\n",
              "      <td>953.2</td>\n",
              "      <td>6695.09</td>\n",
              "      <td>443021.52</td>\n",
              "      <td>8958602.97</td>\n",
              "    </tr>\n",
              "  </tbody>\n",
              "</table>\n",
              "</div>\n",
              "      <button class=\"colab-df-convert\" onclick=\"convertToInteractive('df-93778e9b-e293-4b85-8409-533ded9d6ba2')\"\n",
              "              title=\"Convert this dataframe to an interactive table.\"\n",
              "              style=\"display:none;\">\n",
              "        \n",
              "  <svg xmlns=\"http://www.w3.org/2000/svg\" height=\"24px\"viewBox=\"0 0 24 24\"\n",
              "       width=\"24px\">\n",
              "    <path d=\"M0 0h24v24H0V0z\" fill=\"none\"/>\n",
              "    <path d=\"M18.56 5.44l.94 2.06.94-2.06 2.06-.94-2.06-.94-.94-2.06-.94 2.06-2.06.94zm-11 1L8.5 8.5l.94-2.06 2.06-.94-2.06-.94L8.5 2.5l-.94 2.06-2.06.94zm10 10l.94 2.06.94-2.06 2.06-.94-2.06-.94-.94-2.06-.94 2.06-2.06.94z\"/><path d=\"M17.41 7.96l-1.37-1.37c-.4-.4-.92-.59-1.43-.59-.52 0-1.04.2-1.43.59L10.3 9.45l-7.72 7.72c-.78.78-.78 2.05 0 2.83L4 21.41c.39.39.9.59 1.41.59.51 0 1.02-.2 1.41-.59l7.78-7.78 2.81-2.81c.8-.78.8-2.07 0-2.86zM5.41 20L4 18.59l7.72-7.72 1.47 1.35L5.41 20z\"/>\n",
              "  </svg>\n",
              "      </button>\n",
              "      \n",
              "  <style>\n",
              "    .colab-df-container {\n",
              "      display:flex;\n",
              "      flex-wrap:wrap;\n",
              "      gap: 12px;\n",
              "    }\n",
              "\n",
              "    .colab-df-convert {\n",
              "      background-color: #E8F0FE;\n",
              "      border: none;\n",
              "      border-radius: 50%;\n",
              "      cursor: pointer;\n",
              "      display: none;\n",
              "      fill: #1967D2;\n",
              "      height: 32px;\n",
              "      padding: 0 0 0 0;\n",
              "      width: 32px;\n",
              "    }\n",
              "\n",
              "    .colab-df-convert:hover {\n",
              "      background-color: #E2EBFA;\n",
              "      box-shadow: 0px 1px 2px rgba(60, 64, 67, 0.3), 0px 1px 3px 1px rgba(60, 64, 67, 0.15);\n",
              "      fill: #174EA6;\n",
              "    }\n",
              "\n",
              "    [theme=dark] .colab-df-convert {\n",
              "      background-color: #3B4455;\n",
              "      fill: #D2E3FC;\n",
              "    }\n",
              "\n",
              "    [theme=dark] .colab-df-convert:hover {\n",
              "      background-color: #434B5C;\n",
              "      box-shadow: 0px 1px 3px 1px rgba(0, 0, 0, 0.15);\n",
              "      filter: drop-shadow(0px 1px 2px rgba(0, 0, 0, 0.3));\n",
              "      fill: #FFFFFF;\n",
              "    }\n",
              "  </style>\n",
              "\n",
              "      <script>\n",
              "        const buttonEl =\n",
              "          document.querySelector('#df-93778e9b-e293-4b85-8409-533ded9d6ba2 button.colab-df-convert');\n",
              "        buttonEl.style.display =\n",
              "          google.colab.kernel.accessAllowed ? 'block' : 'none';\n",
              "\n",
              "        async function convertToInteractive(key) {\n",
              "          const element = document.querySelector('#df-93778e9b-e293-4b85-8409-533ded9d6ba2');\n",
              "          const dataTable =\n",
              "            await google.colab.kernel.invokeFunction('convertToInteractive',\n",
              "                                                     [key], {});\n",
              "          if (!dataTable) return;\n",
              "\n",
              "          const docLinkHtml = 'Like what you see? Visit the ' +\n",
              "            '<a target=\"_blank\" href=https://colab.research.google.com/notebooks/data_table.ipynb>data table notebook</a>'\n",
              "            + ' to learn more about interactive tables.';\n",
              "          element.innerHTML = '';\n",
              "          dataTable['output_type'] = 'display_data';\n",
              "          await google.colab.output.renderOutput(dataTable, element);\n",
              "          const docLink = document.createElement('div');\n",
              "          docLink.innerHTML = docLinkHtml;\n",
              "          element.appendChild(docLink);\n",
              "        }\n",
              "      </script>\n",
              "    </div>\n",
              "  </div>\n",
              "  "
            ]
          },
          "metadata": {},
          "execution_count": 86
        }
      ]
    },
    {
      "cell_type": "code",
      "source": [
        "# Visualização da distribuição dos dados\n",
        "dados_1.boxplot()"
      ],
      "metadata": {
        "colab": {
          "base_uri": "https://localhost:8080/",
          "height": 462
        },
        "outputId": "eae867fe-d696-4519-e9a0-334596a91ee5",
        "id": "ueymWhgh4QlV"
      },
      "execution_count": 87,
      "outputs": [
        {
          "output_type": "execute_result",
          "data": {
            "text/plain": [
              "<Axes: >"
            ]
          },
          "metadata": {},
          "execution_count": 87
        },
        {
          "output_type": "display_data",
          "data": {
            "text/plain": [
              "<Figure size 640x480 with 1 Axes>"
            ],
            "image/png": "[encoded data removed]"
          },
          "metadata": {}
        }
      ]
    },
    {
      "cell_type": "code",
      "source": [
        "# Seleciona o valor do 98º percentil\n",
        "q99 = dados_1['valor'].quantile(0.95)\n",
        "\n",
        "# Filtra os dados que estão acima do 98º percentil\n",
        "dados_filtrados = dados_1[dados_1['valor'] > q99]\n",
        "\n",
        "round(dados_filtrados.groupby('cod_rep', as_index=False).mean().sort_values(by='valor', ascending=False),2)[:20]"
      ],
      "metadata": {
        "colab": {
          "base_uri": "https://localhost:8080/",
          "height": 677
        },
        "outputId": "452e561b-fcf7-429d-f64f-9cfe8813e173",
        "id": "5mU20sDd4QlV"
      },
      "execution_count": 91,
      "outputs": [
        {
          "output_type": "execute_result",
          "data": {
            "text/plain": [
              "   cod_rep       valor\n",
              "0    10488  1902466.09\n",
              "47    9912  1323582.87\n",
              "44    7624  1301837.47\n",
              "7    10685   920964.91\n",
              "33    4090   754295.13\n",
              "37    4262   487854.19\n",
              "34   41992   436701.65\n",
              "48    9914   420790.46\n",
              "25   37515   400342.04\n",
              "21    3363   370251.87\n",
              "4    10642   324766.88\n",
              "38   44057   303160.56\n",
              "40    6046   258312.84\n",
              "16   20219   254786.18\n",
              "24   37514   249441.12\n",
              "26   37727   198674.84\n",
              "28   37768   159173.15\n",
              "45    7640   112408.30\n",
              "11    1159    97434.00\n",
              "14   14254    95263.64"
            ],
            "text/html": [
              "\n",
              "  <div id=\"df-d09f9c9b-a7d3-406e-a7b0-7548eb8c4401\">\n",
              "    <div class=\"colab-df-container\">\n",
              "      <div>\n",
              "<style scoped>\n",
              "    .dataframe tbody tr th:only-of-type {\n",
              "        vertical-align: middle;\n",
              "    }\n",
              "\n",
              "    .dataframe tbody tr th {\n",
              "        vertical-align: top;\n",
              "    }\n",
              "\n",
              "    .dataframe thead th {\n",
              "        text-align: right;\n",
              "    }\n",
              "</style>\n",
              "<table border=\"1\" class=\"dataframe\">\n",
              "  <thead>\n",
              "    <tr style=\"text-align: right;\">\n",
              "      <th></th>\n",
              "      <th>cod_rep</th>\n",
              "      <th>valor</th>\n",
              "    </tr>\n",
              "  </thead>\n",
              "  <tbody>\n",
              "    <tr>\n",
              "      <th>0</th>\n",
              "      <td>10488</td>\n",
              "      <td>1902466.09</td>\n",
              "    </tr>\n",
              "    <tr>\n",
              "      <th>47</th>\n",
              "      <td>9912</td>\n",
              "      <td>1323582.87</td>\n",
              "    </tr>\n",
              "    <tr>\n",
              "      <th>44</th>\n",
              "      <td>7624</td>\n",
              "      <td>1301837.47</td>\n",
              "    </tr>\n",
              "    <tr>\n",
              "      <th>7</th>\n",
              "      <td>10685</td>\n",
              "      <td>920964.91</td>\n",
              "    </tr>\n",
              "    <tr>\n",
              "      <th>33</th>\n",
              "      <td>4090</td>\n",
              "      <td>754295.13</td>\n",
              "    </tr>\n",
              "    <tr>\n",
              "      <th>37</th>\n",
              "      <td>4262</td>\n",
              "      <td>487854.19</td>\n",
              "    </tr>\n",
              "    <tr>\n",
              "      <th>34</th>\n",
              "      <td>41992</td>\n",
              "      <td>436701.65</td>\n",
              "    </tr>\n",
              "    <tr>\n",
              "      <th>48</th>\n",
              "      <td>9914</td>\n",
              "      <td>420790.46</td>\n",
              "    </tr>\n",
              "    <tr>\n",
              "      <th>25</th>\n",
              "      <td>37515</td>\n",
              "      <td>400342.04</td>\n",
              "    </tr>\n",
              "    <tr>\n",
              "      <th>21</th>\n",
              "      <td>3363</td>\n",
              "      <td>370251.87</td>\n",
              "    </tr>\n",
              "    <tr>\n",
              "      <th>4</th>\n",
              "      <td>10642</td>\n",
              "      <td>324766.88</td>\n",
              "    </tr>\n",
              "    <tr>\n",
              "      <th>38</th>\n",
              "      <td>44057</td>\n",
              "      <td>303160.56</td>\n",
              "    </tr>\n",
              "    <tr>\n",
              "      <th>40</th>\n",
              "      <td>6046</td>\n",
              "      <td>258312.84</td>\n",
              "    </tr>\n",
              "    <tr>\n",
              "      <th>16</th>\n",
              "      <td>20219</td>\n",
              "      <td>254786.18</td>\n",
              "    </tr>\n",
              "    <tr>\n",
              "      <th>24</th>\n",
              "      <td>37514</td>\n",
              "      <td>249441.12</td>\n",
              "    </tr>\n",
              "    <tr>\n",
              "      <th>26</th>\n",
              "      <td>37727</td>\n",
              "      <td>198674.84</td>\n",
              "    </tr>\n",
              "    <tr>\n",
              "      <th>28</th>\n",
              "      <td>37768</td>\n",
              "      <td>159173.15</td>\n",
              "    </tr>\n",
              "    <tr>\n",
              "      <th>45</th>\n",
              "      <td>7640</td>\n",
              "      <td>112408.30</td>\n",
              "    </tr>\n",
              "    <tr>\n",
              "      <th>11</th>\n",
              "      <td>1159</td>\n",
              "      <td>97434.00</td>\n",
              "    </tr>\n",
              "    <tr>\n",
              "      <th>14</th>\n",
              "      <td>14254</td>\n",
              "      <td>95263.64</td>\n",
              "    </tr>\n",
              "  </tbody>\n",
              "</table>\n",
              "</div>\n",
              "      <button class=\"colab-df-convert\" onclick=\"convertToInteractive('df-d09f9c9b-a7d3-406e-a7b0-7548eb8c4401')\"\n",
              "              title=\"Convert this dataframe to an interactive table.\"\n",
              "              style=\"display:none;\">\n",
              "        \n",
              "  <svg xmlns=\"http://www.w3.org/2000/svg\" height=\"24px\"viewBox=\"0 0 24 24\"\n",
              "       width=\"24px\">\n",
              "    <path d=\"M0 0h24v24H0V0z\" fill=\"none\"/>\n",
              "    <path d=\"M18.56 5.44l.94 2.06.94-2.06 2.06-.94-2.06-.94-.94-2.06-.94 2.06-2.06.94zm-11 1L8.5 8.5l.94-2.06 2.06-.94-2.06-.94L8.5 2.5l-.94 2.06-2.06.94zm10 10l.94 2.06.94-2.06 2.06-.94-2.06-.94-.94-2.06-.94 2.06-2.06.94z\"/><path d=\"M17.41 7.96l-1.37-1.37c-.4-.4-.92-.59-1.43-.59-.52 0-1.04.2-1.43.59L10.3 9.45l-7.72 7.72c-.78.78-.78 2.05 0 2.83L4 21.41c.39.39.9.59 1.41.59.51 0 1.02-.2 1.41-.59l7.78-7.78 2.81-2.81c.8-.78.8-2.07 0-2.86zM5.41 20L4 18.59l7.72-7.72 1.47 1.35L5.41 20z\"/>\n",
              "  </svg>\n",
              "      </button>\n",
              "      \n",
              "  <style>\n",
              "    .colab-df-container {\n",
              "      display:flex;\n",
              "      flex-wrap:wrap;\n",
              "      gap: 12px;\n",
              "    }\n",
              "\n",
              "    .colab-df-convert {\n",
              "      background-color: #E8F0FE;\n",
              "      border: none;\n",
              "      border-radius: 50%;\n",
              "      cursor: pointer;\n",
              "      display: none;\n",
              "      fill: #1967D2;\n",
              "      height: 32px;\n",
              "      padding: 0 0 0 0;\n",
              "      width: 32px;\n",
              "    }\n",
              "\n",
              "    .colab-df-convert:hover {\n",
              "      background-color: #E2EBFA;\n",
              "      box-shadow: 0px 1px 2px rgba(60, 64, 67, 0.3), 0px 1px 3px 1px rgba(60, 64, 67, 0.15);\n",
              "      fill: #174EA6;\n",
              "    }\n",
              "\n",
              "    [theme=dark] .colab-df-convert {\n",
              "      background-color: #3B4455;\n",
              "      fill: #D2E3FC;\n",
              "    }\n",
              "\n",
              "    [theme=dark] .colab-df-convert:hover {\n",
              "      background-color: #434B5C;\n",
              "      box-shadow: 0px 1px 3px 1px rgba(0, 0, 0, 0.15);\n",
              "      filter: drop-shadow(0px 1px 2px rgba(0, 0, 0, 0.3));\n",
              "      fill: #FFFFFF;\n",
              "    }\n",
              "  </style>\n",
              "\n",
              "      <script>\n",
              "        const buttonEl =\n",
              "          document.querySelector('#df-d09f9c9b-a7d3-406e-a7b0-7548eb8c4401 button.colab-df-convert');\n",
              "        buttonEl.style.display =\n",
              "          google.colab.kernel.accessAllowed ? 'block' : 'none';\n",
              "\n",
              "        async function convertToInteractive(key) {\n",
              "          const element = document.querySelector('#df-d09f9c9b-a7d3-406e-a7b0-7548eb8c4401');\n",
              "          const dataTable =\n",
              "            await google.colab.kernel.invokeFunction('convertToInteractive',\n",
              "                                                     [key], {});\n",
              "          if (!dataTable) return;\n",
              "\n",
              "          const docLinkHtml = 'Like what you see? Visit the ' +\n",
              "            '<a target=\"_blank\" href=https://colab.research.google.com/notebooks/data_table.ipynb>data table notebook</a>'\n",
              "            + ' to learn more about interactive tables.';\n",
              "          element.innerHTML = '';\n",
              "          dataTable['output_type'] = 'display_data';\n",
              "          await google.colab.output.renderOutput(dataTable, element);\n",
              "          const docLink = document.createElement('div');\n",
              "          docLink.innerHTML = docLinkHtml;\n",
              "          element.appendChild(docLink);\n",
              "        }\n",
              "      </script>\n",
              "    </div>\n",
              "  </div>\n",
              "  "
            ]
          },
          "metadata": {},
          "execution_count": 91
        }
      ]
    },
    {
      "cell_type": "markdown",
      "source": [
        "**Variaveis categoricas**"
      ],
      "metadata": {
        "id": "D5vDx_ly4QlV"
      }
    },
    {
      "cell_type": "code",
      "source": [
        "cat_attributes = dados_1.select_dtypes(include = ['object'])"
      ],
      "metadata": {
        "id": "HmLGDMn94QlW"
      },
      "execution_count": 92,
      "outputs": []
    },
    {
      "cell_type": "code",
      "source": [
        "# Dicionario para armazenar os valores\n",
        "unique_values = {}\n",
        "for col in cat_attributes.columns:\n",
        "    unique_values[col] = len(cat_attributes[col].value_counts())\n",
        "\n",
        "# Transforma o dicionário em um DataFrame\n",
        "df_unique_values = pd.DataFrame.from_dict(unique_values, orient='index', columns=['Quantidade de valores únicos'])\n",
        "print(df_unique_values)"
      ],
      "metadata": {
        "colab": {
          "base_uri": "https://localhost:8080/"
        },
        "outputId": "e3884831-77c1-4353-9906-1fd7cf0a8e3b",
        "id": "wDqqPpzF4QlW"
      },
      "execution_count": 93,
      "outputs": [
        {
          "output_type": "stream",
          "name": "stdout",
          "text": [
            "                     Quantidade de valores únicos\n",
            "codigo                                       4937\n",
            "cod_rep                                       315\n",
            "Descrição do Insumo                          4937\n",
            "unidade                                        21\n",
            "coeficiente                                  4374\n",
            "categoria                                       2\n",
            "macro_classe                                    7\n"
          ]
        }
      ]
    },
    {
      "cell_type": "markdown",
      "source": [
        "A quantidade de dados que temos que ter para que os dados estejam completos é:\n",
        "\n",
        "codigo x data"
      ],
      "metadata": {
        "id": "uP1RisO94QlX"
      }
    },
    {
      "cell_type": "code",
      "source": [
        "# Calculo para conferencia dos dados:\n",
        "\n",
        "a = len(dados_1['codigo'].unique())\n",
        "b = len(dados_1['data'].unique())\n",
        "\n",
        "qtd_esperada = a * b\n",
        "qtd_real = dados_1.shape[0]\n",
        "\n",
        "diff = qtd_esperada - qtd_real\n",
        "\n",
        "print('Quantidade esperada de instancias:',qtd_esperada)\n",
        "print('Quantidade real de instancias:',qtd_real)\n",
        "print('Diferença:', diff )"
      ],
      "metadata": {
        "colab": {
          "base_uri": "https://localhost:8080/"
        },
        "outputId": "ae62cf15-d662-4082-f6cd-25d3951f5ab5",
        "id": "9_t-J-dU4QlX"
      },
      "execution_count": 95,
      "outputs": [
        {
          "output_type": "stream",
          "name": "stdout",
          "text": [
            "Quantidade esperada de instancias: 775109\n",
            "Quantidade real de instancias: 577218\n",
            "Diferença: 197891\n"
          ]
        }
      ]
    },
    {
      "cell_type": "markdown",
      "source": [
        "**Valores unicos por categoria**"
      ],
      "metadata": {
        "id": "S0qsx_SF6Par"
      }
    },
    {
      "cell_type": "code",
      "source": [
        "dados_1.categoria.value_counts()\n"
      ],
      "metadata": {
        "colab": {
          "base_uri": "https://localhost:8080/"
        },
        "outputId": "9b3386b2-5a1c-43b9-ba5c-abd246c03c83",
        "id": "8I0tc7tf4QlX"
      },
      "execution_count": 100,
      "outputs": [
        {
          "output_type": "execute_result",
          "data": {
            "text/plain": [
              "REPRESENTADO      539691\n",
              "REPRESENTATIVO     37527\n",
              "Name: categoria, dtype: int64"
            ]
          },
          "metadata": {},
          "execution_count": 100
        }
      ]
    },
    {
      "cell_type": "markdown",
      "source": [
        "**Valores unicos por macro_classe**"
      ],
      "metadata": {
        "id": "yi52_YEx6V8t"
      }
    },
    {
      "cell_type": "code",
      "source": [
        "dados_1.macro_classe.value_counts()"
      ],
      "metadata": {
        "colab": {
          "base_uri": "https://localhost:8080/"
        },
        "id": "EZT2IMsz6Lp7",
        "outputId": "dd163987-2f3e-48af-a2c3-38648b77e207"
      },
      "execution_count": 101,
      "outputs": [
        {
          "output_type": "execute_result",
          "data": {
            "text/plain": [
              "MATERIAL                   508983\n",
              "EQUIPAMENTO (AQUISIÇÃO)     37247\n",
              "MÃO DE OBRA                 23894\n",
              "EQUIPAMENTO (LOCAÇÃO)        3132\n",
              "ESPECIAIS                    1071\n",
              "SERVIÇOS                      715\n",
              "ESTRUTURAS                     16\n",
              "Name: macro_classe, dtype: int64"
            ]
          },
          "metadata": {},
          "execution_count": 101
        }
      ]
    },
    {
      "cell_type": "markdown",
      "source": [
        "**valor x data   para a categoria MATERIAL**"
      ],
      "metadata": {
        "id": "JzHff2mb4QlY"
      }
    },
    {
      "cell_type": "code",
      "source": [
        "# Converte a coluna 'data' para o formato de data com o formato atual\n",
        "dados_1['data'] = pd.to_datetime(dados_1['data'], format='%m/%y')\n",
        "\n",
        "dados_1_material = dados_1[dados_1['macro_classe'] == 'MATERIAL']\n",
        "\n",
        "# Agrupa os valores por mês e calcula a soma\n",
        "agrupado_por_mes = dados_1_material.groupby(pd.Grouper(key='data', freq='M')).mean()\n",
        "\n",
        "# Plota um gráfico de linha com os valores\n",
        "plt.subplots(figsize=(20, 4))\n",
        "plt.plot(agrupado_por_mes.index, agrupado_por_mes['valor'])\n",
        "plt.title('Variação mensal do preços ao longo do tempo(GLOBAL)')\n",
        "plt.xlabel('Data')\n",
        "plt.ylabel('Valor médio')\n",
        "plt.show()"
      ],
      "metadata": {
        "colab": {
          "base_uri": "https://localhost:8080/",
          "height": 410
        },
        "outputId": "4fe6c028-a1a3-46fb-8db8-65590b01379b",
        "id": "DqOHJP1p4QlY"
      },
      "execution_count": 103,
      "outputs": [
        {
          "output_type": "display_data",
          "data": {
            "text/plain": [
              "<Figure size 2000x400 with 1 Axes>"
            ],
            "image/png": "[encoded data removed]"
          },
          "metadata": {}
        }
      ]
    },
    {
      "cell_type": "markdown",
      "source": [
        "CONCLUSÕES TESTE 2:\n",
        "\n",
        "*  Essa junção tem como objetivo pegar todos os dados de insumos que estão sendo atualizados atualmente pelo SINAPI para realizar uma análise em insumos que não foram incluídos nas categorias para predição.\n",
        "\n",
        "*  Algumas variáveis têm valores faltantes, mas são solucionados quando filtrados, por isso manterei.\n",
        "\n",
        "*  No gráfico da média dos valores dos insumos por mês, nota-se aumentos consideráveis em determinados pontos.\n",
        "\n",
        "*  A quantidade esperada para a série histórica está completa não bate com a realidade, o que pode explicar isso é a descontinuação de itens ao longo da série histórica. Portanto, explica o gráfico com aumentos inesperados.\n",
        "\n",
        "*  A diferença de insumos entre a quantidade de insumos pode ser analisada de duas formas: primeiro, a descontinuação de itens e algum problema na extração dos dados.\n",
        "\n",
        "* Mesmo com essas diferenças, podemos filtrar os dados e deixar somente os que têm as séries históricas completas. Além disso, podemos utilizar o cod_rep e o coeficiente para nos ajudar a prever os valores dos insumos, visto que eles categorizam e calculam seu preço de sua forma. Com isso em mente, podemos então seguir por um caminho mais robusto.\n",
        "\n",
        "\n"
      ],
      "metadata": {
        "id": "seCAheFO4QlY"
      }
    },
    {
      "cell_type": "markdown",
      "source": [
        "# **TESTE 3, COMBINAÇÃO E EXPLORAÇÃO SUPERFICIAL DOS DADOS (INDICES E INSUMOS)**"
      ],
      "metadata": {
        "id": "0EuXyKJYNMon"
      }
    },
    {
      "cell_type": "markdown",
      "source": [
        "## PREPARAÇÃO DOS DADOS"
      ],
      "metadata": {
        "id": "he_aFuPUJjP3"
      }
    },
    {
      "cell_type": "markdown",
      "source": [
        "### 2.1 CARREGANDO DOS DADOS"
      ],
      "metadata": {
        "id": "4gaWuMAjRbuD"
      }
    },
    {
      "cell_type": "code",
      "source": [
        "# Caminho dos dados\n",
        "caminho_pasta = '/content/drive/MyDrive/PROJETO APLICADO/indices'\n",
        "\n",
        "\n",
        "cub = pd.read_csv(caminho_pasta+'/cub_es.csv', sep=';')\n",
        "indice = pd.read_csv(caminho_pasta+'/inpc.csv', sep=';')\n",
        "juros = pd.read_csv(caminho_pasta+'/selic.csv', sep=';')\n"
      ],
      "metadata": {
        "id": "gsK0MjJ3NMoo"
      },
      "execution_count": 104,
      "outputs": []
    },
    {
      "cell_type": "markdown",
      "source": [
        "### 2.2 CHECAGEM DAS INFORMAÇÕES DOS DADOS PARA COMBINAÇÃO"
      ],
      "metadata": {
        "id": "zckqkI94NMop"
      }
    },
    {
      "cell_type": "markdown",
      "source": [
        "**CUB**"
      ],
      "metadata": {
        "id": "Tb0iN6cUPbbQ"
      }
    },
    {
      "cell_type": "code",
      "source": [
        "print('Dtypes cub: \\n')\n",
        "print(cub.dtypes)\n",
        "print('\\nDimensão:', cub.shape)\n",
        "print('\\n',cub.head(3))"
      ],
      "metadata": {
        "colab": {
          "base_uri": "https://localhost:8080/"
        },
        "outputId": "af90bee0-d650-43ea-b0df-b274a999bda7",
        "id": "akX1XDbrNMop"
      },
      "execution_count": 105,
      "outputs": [
        {
          "output_type": "stream",
          "name": "stdout",
          "text": [
            "Dtypes cub: \n",
            "\n",
            "data       object\n",
            "cub/m2     object\n",
            "cub_mes    object\n",
            "dtype: object\n",
            "\n",
            "Dimensão: (192, 3)\n",
            "\n",
            "          data  cub/m2 cub_mes\n",
            "0  01/02/2007  376,91     ...\n",
            "1  01/03/2007   381,2    1,14\n",
            "2  01/04/2007  381,52    0,08\n"
          ]
        }
      ]
    },
    {
      "cell_type": "markdown",
      "source": [
        "**INDICE**"
      ],
      "metadata": {
        "id": "UcU_Z8x_Pe20"
      }
    },
    {
      "cell_type": "code",
      "source": [
        "print('Dtypes indice: \\n')\n",
        "print(indice.dtypes)\n",
        "print('\\nDimensão:', indice.shape)\n",
        "print('\\n',indice.head(3))"
      ],
      "metadata": {
        "colab": {
          "base_uri": "https://localhost:8080/"
        },
        "outputId": "c1c251e1-92db-4d7c-8fa3-c3e0bf535738",
        "id": "AsZKyq1JNMoq"
      },
      "execution_count": 106,
      "outputs": [
        {
          "output_type": "stream",
          "name": "stdout",
          "text": [
            "Dtypes indice: \n",
            "\n",
            "data           object\n",
            "inpc_indice    object\n",
            "inpc_mes       object\n",
            "dtype: object\n",
            "\n",
            "Dimensão: (326, 3)\n",
            "\n",
            "          data inpc_indice inpc_mes\n",
            "0  01/01/1996    1.273,92     1,46\n",
            "1  01/02/1996    1.282,96     0,71\n",
            "2  01/03/1996    1.286,68     0,29\n"
          ]
        }
      ]
    },
    {
      "cell_type": "markdown",
      "source": [
        "**JUROS**"
      ],
      "metadata": {
        "id": "nxEDbgmRPn1S"
      }
    },
    {
      "cell_type": "code",
      "source": [
        "print('Dtypes juros: \\n')\n",
        "print(juros.dtypes)\n",
        "print('\\nDimensão:', juros.shape)\n",
        "print('\\n',juros.head(3))"
      ],
      "metadata": {
        "colab": {
          "base_uri": "https://localhost:8080/"
        },
        "id": "AnHypgmQPzfr",
        "outputId": "dc9c4c88-0218-4fa5-cc84-a01d543efca8"
      },
      "execution_count": 107,
      "outputs": [
        {
          "output_type": "stream",
          "name": "stdout",
          "text": [
            "Dtypes juros: \n",
            "\n",
            "data         object\n",
            "selic_mes    object\n",
            "dtype: object\n",
            "\n",
            "Dimensão: (324, 2)\n",
            "\n",
            "          data selic_mes\n",
            "0  01/01/1996      2,58\n",
            "1  01/02/1996      2,35\n",
            "2  01/03/1996      2,22\n"
          ]
        }
      ]
    },
    {
      "cell_type": "markdown",
      "source": [
        "**INSUMOS**"
      ],
      "metadata": {
        "id": "RB7npY56Q9Lz"
      }
    },
    {
      "cell_type": "code",
      "source": [
        "print('Dtypes insumos: \\n')\n",
        "print(insumos.dtypes)\n",
        "print('\\nDimensão:', insumos.shape)\n",
        "print('\\n',insumos.head(3))"
      ],
      "metadata": {
        "colab": {
          "base_uri": "https://localhost:8080/"
        },
        "id": "rOdUVcHqQ8Y7",
        "outputId": "c60669cb-7fa2-4957-fa20-87bb97833cc5"
      },
      "execution_count": 108,
      "outputs": [
        {
          "output_type": "stream",
          "name": "stdout",
          "text": [
            "Dtypes insumos: \n",
            "\n",
            "codigo         int64\n",
            "descricao     object\n",
            "valor        float64\n",
            "data          object\n",
            "dtype: object\n",
            "\n",
            "Dimensão: (812637, 4)\n",
            "\n",
            "    codigo                                          descricao  valor   data\n",
            "0     414  ABRACADEIRA DE NYLON PARA AMARRACAO DE CABOS, ...   0.07  01/10\n",
            "1    4715                      PEDRA ARDOSIA CINZA IRREGULAR   7.28  01/10\n",
            "2    4491  PECA DE MADEIRA 3A/4A QUALIDADE 7,5 X 7,5CM (3...   3.67  01/10\n"
          ]
        }
      ]
    },
    {
      "cell_type": "markdown",
      "source": [
        "### 2.3 TRATAMENTO DOS DADOS"
      ],
      "metadata": {
        "id": "hDc39D9rNMor"
      }
    },
    {
      "cell_type": "code",
      "source": [
        "# Transformando os dados para combinação\n",
        "cub['data'] = pd.to_datetime(cub['data'], format='%d/%m/%Y')\n",
        "cub['data'] = cub['data'].dt.strftime('%m/%y')\n",
        "\n",
        "indice['data'] = pd.to_datetime(indice['data'], format='%d/%m/%Y')\n",
        "indice['data'] = indice['data'].dt.strftime('%m/%y')\n",
        "\n",
        "juros['data'] = pd.to_datetime(juros['data'], format='%d/%m/%Y')\n",
        "juros['data'] = juros['data'].dt.strftime('%m/%y')"
      ],
      "metadata": {
        "id": "tSvhDXdZRmDx"
      },
      "execution_count": 109,
      "outputs": []
    },
    {
      "cell_type": "markdown",
      "source": [
        "### 2.4 COMBINAÇÃO DOS DADOS"
      ],
      "metadata": {
        "id": "A1INfrAKNMor"
      }
    },
    {
      "cell_type": "code",
      "source": [
        "# Realiza o merge usando a coluna \"data\" como chave de junção\n",
        "indice1 = pd.merge(indice, juros, on='data')\n",
        "\n",
        "indices = pd.merge(indice1, cub, on='data')\n",
        "\n",
        "dados_2 = pd.merge(insumos, indices, on='data')"
      ],
      "metadata": {
        "id": "QNxEYFuzNMos"
      },
      "execution_count": 110,
      "outputs": []
    },
    {
      "cell_type": "markdown",
      "source": [
        "### 2.5 DADOS"
      ],
      "metadata": {
        "id": "6AwoLBLbNMos"
      }
    },
    {
      "cell_type": "code",
      "source": [
        "dados_2.sample(5)"
      ],
      "metadata": {
        "colab": {
          "base_uri": "https://localhost:8080/",
          "height": 206
        },
        "outputId": "13827b72-0e9a-4456-b0db-d53115b44f8e",
        "id": "CZcbHnfkNMot"
      },
      "execution_count": 111,
      "outputs": [
        {
          "output_type": "execute_result",
          "data": {
            "text/plain": [
              "        codigo                                          descricao    valor  \\\n",
              "792654   39603  CONECTOR MACHO RJ - 45, CATEGORIA 6           ...     2.83   \n",
              "433772    3620       JUNCAO FOFO 45 GR C/FLANGES PN-25 DN 200X200  1650.32   \n",
              "127478    6086  !EM PROCESSO DE DESATIVACAO! FUNDO SINTETICO N...    97.80   \n",
              "498774    1109            CALHA CHAPA GALVANIZADA NUM 26 L = 35CM    12.27   \n",
              "448793   20204  PRANCHAO DE MADEIRA APARELHADA *7,5 X 23* CM (...    56.48   \n",
              "\n",
              "         data inpc_indice inpc_mes selic_mes  cub/m2 cub_mes  \n",
              "792654  12/20    5.746,71     1,46      0,16  850,56    2,29  \n",
              "433772  07/15    4.475,17     0,58      1,18  548,53    0,45  \n",
              "127478  02/21    5.809,48     0,82      0,13  880,67    1,78  \n",
              "498774  08/14    4.082,90     0,18      0,87   517,7    0,75  \n",
              "448793  07/18    5.185,48     0,25      0,54   670,3    0,29  "
            ],
            "text/html": [
              "\n",
              "  <div id=\"df-45b4e851-e849-403b-9dbe-6b90bce1df76\">\n",
              "    <div class=\"colab-df-container\">\n",
              "      <div>\n",
              "<style scoped>\n",
              "    .dataframe tbody tr th:only-of-type {\n",
              "        vertical-align: middle;\n",
              "    }\n",
              "\n",
              "    .dataframe tbody tr th {\n",
              "        vertical-align: top;\n",
              "    }\n",
              "\n",
              "    .dataframe thead th {\n",
              "        text-align: right;\n",
              "    }\n",
              "</style>\n",
              "<table border=\"1\" class=\"dataframe\">\n",
              "  <thead>\n",
              "    <tr style=\"text-align: right;\">\n",
              "      <th></th>\n",
              "      <th>codigo</th>\n",
              "      <th>descricao</th>\n",
              "      <th>valor</th>\n",
              "      <th>data</th>\n",
              "      <th>inpc_indice</th>\n",
              "      <th>inpc_mes</th>\n",
              "      <th>selic_mes</th>\n",
              "      <th>cub/m2</th>\n",
              "      <th>cub_mes</th>\n",
              "    </tr>\n",
              "  </thead>\n",
              "  <tbody>\n",
              "    <tr>\n",
              "      <th>792654</th>\n",
              "      <td>39603</td>\n",
              "      <td>CONECTOR MACHO RJ - 45, CATEGORIA 6           ...</td>\n",
              "      <td>2.83</td>\n",
              "      <td>12/20</td>\n",
              "      <td>5.746,71</td>\n",
              "      <td>1,46</td>\n",
              "      <td>0,16</td>\n",
              "      <td>850,56</td>\n",
              "      <td>2,29</td>\n",
              "    </tr>\n",
              "    <tr>\n",
              "      <th>433772</th>\n",
              "      <td>3620</td>\n",
              "      <td>JUNCAO FOFO 45 GR C/FLANGES PN-25 DN 200X200</td>\n",
              "      <td>1650.32</td>\n",
              "      <td>07/15</td>\n",
              "      <td>4.475,17</td>\n",
              "      <td>0,58</td>\n",
              "      <td>1,18</td>\n",
              "      <td>548,53</td>\n",
              "      <td>0,45</td>\n",
              "    </tr>\n",
              "    <tr>\n",
              "      <th>127478</th>\n",
              "      <td>6086</td>\n",
              "      <td>!EM PROCESSO DE DESATIVACAO! FUNDO SINTETICO N...</td>\n",
              "      <td>97.80</td>\n",
              "      <td>02/21</td>\n",
              "      <td>5.809,48</td>\n",
              "      <td>0,82</td>\n",
              "      <td>0,13</td>\n",
              "      <td>880,67</td>\n",
              "      <td>1,78</td>\n",
              "    </tr>\n",
              "    <tr>\n",
              "      <th>498774</th>\n",
              "      <td>1109</td>\n",
              "      <td>CALHA CHAPA GALVANIZADA NUM 26 L = 35CM</td>\n",
              "      <td>12.27</td>\n",
              "      <td>08/14</td>\n",
              "      <td>4.082,90</td>\n",
              "      <td>0,18</td>\n",
              "      <td>0,87</td>\n",
              "      <td>517,7</td>\n",
              "      <td>0,75</td>\n",
              "    </tr>\n",
              "    <tr>\n",
              "      <th>448793</th>\n",
              "      <td>20204</td>\n",
              "      <td>PRANCHAO DE MADEIRA APARELHADA *7,5 X 23* CM (...</td>\n",
              "      <td>56.48</td>\n",
              "      <td>07/18</td>\n",
              "      <td>5.185,48</td>\n",
              "      <td>0,25</td>\n",
              "      <td>0,54</td>\n",
              "      <td>670,3</td>\n",
              "      <td>0,29</td>\n",
              "    </tr>\n",
              "  </tbody>\n",
              "</table>\n",
              "</div>\n",
              "      <button class=\"colab-df-convert\" onclick=\"convertToInteractive('df-45b4e851-e849-403b-9dbe-6b90bce1df76')\"\n",
              "              title=\"Convert this dataframe to an interactive table.\"\n",
              "              style=\"display:none;\">\n",
              "        \n",
              "  <svg xmlns=\"http://www.w3.org/2000/svg\" height=\"24px\"viewBox=\"0 0 24 24\"\n",
              "       width=\"24px\">\n",
              "    <path d=\"M0 0h24v24H0V0z\" fill=\"none\"/>\n",
              "    <path d=\"M18.56 5.44l.94 2.06.94-2.06 2.06-.94-2.06-.94-.94-2.06-.94 2.06-2.06.94zm-11 1L8.5 8.5l.94-2.06 2.06-.94-2.06-.94L8.5 2.5l-.94 2.06-2.06.94zm10 10l.94 2.06.94-2.06 2.06-.94-2.06-.94-.94-2.06-.94 2.06-2.06.94z\"/><path d=\"M17.41 7.96l-1.37-1.37c-.4-.4-.92-.59-1.43-.59-.52 0-1.04.2-1.43.59L10.3 9.45l-7.72 7.72c-.78.78-.78 2.05 0 2.83L4 21.41c.39.39.9.59 1.41.59.51 0 1.02-.2 1.41-.59l7.78-7.78 2.81-2.81c.8-.78.8-2.07 0-2.86zM5.41 20L4 18.59l7.72-7.72 1.47 1.35L5.41 20z\"/>\n",
              "  </svg>\n",
              "      </button>\n",
              "      \n",
              "  <style>\n",
              "    .colab-df-container {\n",
              "      display:flex;\n",
              "      flex-wrap:wrap;\n",
              "      gap: 12px;\n",
              "    }\n",
              "\n",
              "    .colab-df-convert {\n",
              "      background-color: #E8F0FE;\n",
              "      border: none;\n",
              "      border-radius: 50%;\n",
              "      cursor: pointer;\n",
              "      display: none;\n",
              "      fill: #1967D2;\n",
              "      height: 32px;\n",
              "      padding: 0 0 0 0;\n",
              "      width: 32px;\n",
              "    }\n",
              "\n",
              "    .colab-df-convert:hover {\n",
              "      background-color: #E2EBFA;\n",
              "      box-shadow: 0px 1px 2px rgba(60, 64, 67, 0.3), 0px 1px 3px 1px rgba(60, 64, 67, 0.15);\n",
              "      fill: #174EA6;\n",
              "    }\n",
              "\n",
              "    [theme=dark] .colab-df-convert {\n",
              "      background-color: #3B4455;\n",
              "      fill: #D2E3FC;\n",
              "    }\n",
              "\n",
              "    [theme=dark] .colab-df-convert:hover {\n",
              "      background-color: #434B5C;\n",
              "      box-shadow: 0px 1px 3px 1px rgba(0, 0, 0, 0.15);\n",
              "      filter: drop-shadow(0px 1px 2px rgba(0, 0, 0, 0.3));\n",
              "      fill: #FFFFFF;\n",
              "    }\n",
              "  </style>\n",
              "\n",
              "      <script>\n",
              "        const buttonEl =\n",
              "          document.querySelector('#df-45b4e851-e849-403b-9dbe-6b90bce1df76 button.colab-df-convert');\n",
              "        buttonEl.style.display =\n",
              "          google.colab.kernel.accessAllowed ? 'block' : 'none';\n",
              "\n",
              "        async function convertToInteractive(key) {\n",
              "          const element = document.querySelector('#df-45b4e851-e849-403b-9dbe-6b90bce1df76');\n",
              "          const dataTable =\n",
              "            await google.colab.kernel.invokeFunction('convertToInteractive',\n",
              "                                                     [key], {});\n",
              "          if (!dataTable) return;\n",
              "\n",
              "          const docLinkHtml = 'Like what you see? Visit the ' +\n",
              "            '<a target=\"_blank\" href=https://colab.research.google.com/notebooks/data_table.ipynb>data table notebook</a>'\n",
              "            + ' to learn more about interactive tables.';\n",
              "          element.innerHTML = '';\n",
              "          dataTable['output_type'] = 'display_data';\n",
              "          await google.colab.output.renderOutput(dataTable, element);\n",
              "          const docLink = document.createElement('div');\n",
              "          docLink.innerHTML = docLinkHtml;\n",
              "          element.appendChild(docLink);\n",
              "        }\n",
              "      </script>\n",
              "    </div>\n",
              "  </div>\n",
              "  "
            ]
          },
          "metadata": {},
          "execution_count": 111
        }
      ]
    },
    {
      "cell_type": "markdown",
      "source": [
        "### 2.6 CHECAGEM DAS INFORMAÇÕES APÓS COMBINAÇÃO"
      ],
      "metadata": {
        "id": "P6PTHl06NMot"
      }
    },
    {
      "cell_type": "markdown",
      "source": [
        "**Dtypes e Dimensão**"
      ],
      "metadata": {
        "id": "lol2-uUUcZOm"
      }
    },
    {
      "cell_type": "code",
      "source": [
        "print('Dtypes insumos: \\n')\n",
        "print(dados_2.dtypes)\n",
        "print('\\nDimensão:', dados_2.shape)"
      ],
      "metadata": {
        "colab": {
          "base_uri": "https://localhost:8080/"
        },
        "outputId": "3121e91f-ee4e-4353-f8cd-d03cca14d293",
        "id": "5tjyhh48NMot"
      },
      "execution_count": 112,
      "outputs": [
        {
          "output_type": "stream",
          "name": "stdout",
          "text": [
            "Dtypes insumos: \n",
            "\n",
            "codigo           int64\n",
            "descricao       object\n",
            "valor          float64\n",
            "data            object\n",
            "inpc_indice     object\n",
            "inpc_mes        object\n",
            "selic_mes       object\n",
            "cub/m2          object\n",
            "cub_mes         object\n",
            "dtype: object\n",
            "\n",
            "Dimensão: (807700, 9)\n"
          ]
        }
      ]
    },
    {
      "cell_type": "markdown",
      "source": [
        "**Checagem de dados faltantes**"
      ],
      "metadata": {
        "id": "0e5hY5b3cf_J"
      }
    },
    {
      "cell_type": "code",
      "source": [
        "\n",
        "dados_2.isnull().sum()"
      ],
      "metadata": {
        "colab": {
          "base_uri": "https://localhost:8080/"
        },
        "id": "IShySZFEcQzM",
        "outputId": "7f2b2215-7f6a-4877-fc8c-6930dc43d21b"
      },
      "execution_count": 113,
      "outputs": [
        {
          "output_type": "execute_result",
          "data": {
            "text/plain": [
              "codigo         0\n",
              "descricao      0\n",
              "valor          0\n",
              "data           0\n",
              "inpc_indice    0\n",
              "inpc_mes       0\n",
              "selic_mes      0\n",
              "cub/m2         0\n",
              "cub_mes        0\n",
              "dtype: int64"
            ]
          },
          "metadata": {},
          "execution_count": 113
        }
      ]
    },
    {
      "cell_type": "markdown",
      "source": [
        "### 2.7 CONVERSÃO DOS DADOS"
      ],
      "metadata": {
        "id": "Rs4qQ2bqNMou"
      }
    },
    {
      "cell_type": "markdown",
      "source": [
        "**Conversão de object para float64 (inpc_indice, inpc_mes, selic_mes, cub/m2, cub_mes)**"
      ],
      "metadata": {
        "id": "ayCl5pJ1c07Q"
      }
    },
    {
      "cell_type": "code",
      "source": [
        "# Colunas para conversão\n",
        "colunas = ['inpc_indice', 'inpc_mes','selic_mes',\n",
        "           'cub/m2', 'cub_mes' ]\n",
        "\n",
        "# Iteração em cada coluna\n",
        "for coluna in colunas:           \n",
        "  dados_2[coluna] = pd.to_numeric(dados_2[coluna].str.replace('.', '').str.replace(',', '.'))  "
      ],
      "metadata": {
        "id": "8sRWyIVOcu4H"
      },
      "execution_count": 114,
      "outputs": []
    },
    {
      "cell_type": "markdown",
      "source": [
        "### 2.8 SELEÇÃO DOS DADOS"
      ],
      "metadata": {
        "id": "O-nHIE-WNMov"
      }
    },
    {
      "cell_type": "markdown",
      "source": [
        "### 2.9 DADOS TESTE 2 COMPLETO"
      ],
      "metadata": {
        "id": "Vjs1HEm2NMov"
      }
    },
    {
      "cell_type": "code",
      "source": [
        "dados_2.head(10)"
      ],
      "metadata": {
        "colab": {
          "base_uri": "https://localhost:8080/",
          "height": 363
        },
        "outputId": "6327b42c-2679-41da-815f-7deb176662fe",
        "id": "MRaXJFpINMow"
      },
      "execution_count": 164,
      "outputs": [
        {
          "output_type": "execute_result",
          "data": {
            "text/plain": [
              "   codigo                                          descricao  valor  \\\n",
              "0     414  ABRACADEIRA DE NYLON PARA AMARRACAO DE CABOS, ...   0.07   \n",
              "1    4715                      PEDRA ARDOSIA CINZA IRREGULAR   7.28   \n",
              "2    4491  PECA DE MADEIRA 3A/4A QUALIDADE 7,5 X 7,5CM (3...   3.67   \n",
              "3    4500  PECA DE MADEIRA 3A/4A QUALIDADE 7,5 X 10CM NAO...   5.68   \n",
              "4    4512  PECA DE MADEIRA 3A/4A QUALIDADE 2,5 X 5CM NAO ...   1.16   \n",
              "5    4505  PECA DE MADEIRA 3A/4A QUALIDADE 1 X 7CM NAO AP...   1.45   \n",
              "6    4509  PECA DE MADEIRA 3A QUALIDADE 2,5 X 10CM NAO AP...   1.88   \n",
              "7    4497  PECA DE MADEIRA 3A QUALIDADE 10 X 10CM NAO APA...   5.09   \n",
              "8    4704              PEDRA ARDOSIA CINZA 20 X 40CM E = 1CM   9.31   \n",
              "9    4510  PECA DE MADEIRA 3A QUALIDADE 1,5 X 4CM NAO APA...   1.01   \n",
              "\n",
              "        data  inpc_indice  inpc_mes  selic_mes  cub/m2  cub_mes  \n",
              "0 2010-01-01      3124.76      0.88       0.66  441.67     0.01  \n",
              "1 2010-01-01      3124.76      0.88       0.66  441.67     0.01  \n",
              "2 2010-01-01      3124.76      0.88       0.66  441.67     0.01  \n",
              "3 2010-01-01      3124.76      0.88       0.66  441.67     0.01  \n",
              "4 2010-01-01      3124.76      0.88       0.66  441.67     0.01  \n",
              "5 2010-01-01      3124.76      0.88       0.66  441.67     0.01  \n",
              "6 2010-01-01      3124.76      0.88       0.66  441.67     0.01  \n",
              "7 2010-01-01      3124.76      0.88       0.66  441.67     0.01  \n",
              "8 2010-01-01      3124.76      0.88       0.66  441.67     0.01  \n",
              "9 2010-01-01      3124.76      0.88       0.66  441.67     0.01  "
            ],
            "text/html": [
              "\n",
              "  <div id=\"df-7955e8d9-640c-4443-9de4-ae3fb218d842\">\n",
              "    <div class=\"colab-df-container\">\n",
              "      <div>\n",
              "<style scoped>\n",
              "    .dataframe tbody tr th:only-of-type {\n",
              "        vertical-align: middle;\n",
              "    }\n",
              "\n",
              "    .dataframe tbody tr th {\n",
              "        vertical-align: top;\n",
              "    }\n",
              "\n",
              "    .dataframe thead th {\n",
              "        text-align: right;\n",
              "    }\n",
              "</style>\n",
              "<table border=\"1\" class=\"dataframe\">\n",
              "  <thead>\n",
              "    <tr style=\"text-align: right;\">\n",
              "      <th></th>\n",
              "      <th>codigo</th>\n",
              "      <th>descricao</th>\n",
              "      <th>valor</th>\n",
              "      <th>data</th>\n",
              "      <th>inpc_indice</th>\n",
              "      <th>inpc_mes</th>\n",
              "      <th>selic_mes</th>\n",
              "      <th>cub/m2</th>\n",
              "      <th>cub_mes</th>\n",
              "    </tr>\n",
              "  </thead>\n",
              "  <tbody>\n",
              "    <tr>\n",
              "      <th>0</th>\n",
              "      <td>414</td>\n",
              "      <td>ABRACADEIRA DE NYLON PARA AMARRACAO DE CABOS, ...</td>\n",
              "      <td>0.07</td>\n",
              "      <td>2010-01-01</td>\n",
              "      <td>3124.76</td>\n",
              "      <td>0.88</td>\n",
              "      <td>0.66</td>\n",
              "      <td>441.67</td>\n",
              "      <td>0.01</td>\n",
              "    </tr>\n",
              "    <tr>\n",
              "      <th>1</th>\n",
              "      <td>4715</td>\n",
              "      <td>PEDRA ARDOSIA CINZA IRREGULAR</td>\n",
              "      <td>7.28</td>\n",
              "      <td>2010-01-01</td>\n",
              "      <td>3124.76</td>\n",
              "      <td>0.88</td>\n",
              "      <td>0.66</td>\n",
              "      <td>441.67</td>\n",
              "      <td>0.01</td>\n",
              "    </tr>\n",
              "    <tr>\n",
              "      <th>2</th>\n",
              "      <td>4491</td>\n",
              "      <td>PECA DE MADEIRA 3A/4A QUALIDADE 7,5 X 7,5CM (3...</td>\n",
              "      <td>3.67</td>\n",
              "      <td>2010-01-01</td>\n",
              "      <td>3124.76</td>\n",
              "      <td>0.88</td>\n",
              "      <td>0.66</td>\n",
              "      <td>441.67</td>\n",
              "      <td>0.01</td>\n",
              "    </tr>\n",
              "    <tr>\n",
              "      <th>3</th>\n",
              "      <td>4500</td>\n",
              "      <td>PECA DE MADEIRA 3A/4A QUALIDADE 7,5 X 10CM NAO...</td>\n",
              "      <td>5.68</td>\n",
              "      <td>2010-01-01</td>\n",
              "      <td>3124.76</td>\n",
              "      <td>0.88</td>\n",
              "      <td>0.66</td>\n",
              "      <td>441.67</td>\n",
              "      <td>0.01</td>\n",
              "    </tr>\n",
              "    <tr>\n",
              "      <th>4</th>\n",
              "      <td>4512</td>\n",
              "      <td>PECA DE MADEIRA 3A/4A QUALIDADE 2,5 X 5CM NAO ...</td>\n",
              "      <td>1.16</td>\n",
              "      <td>2010-01-01</td>\n",
              "      <td>3124.76</td>\n",
              "      <td>0.88</td>\n",
              "      <td>0.66</td>\n",
              "      <td>441.67</td>\n",
              "      <td>0.01</td>\n",
              "    </tr>\n",
              "    <tr>\n",
              "      <th>5</th>\n",
              "      <td>4505</td>\n",
              "      <td>PECA DE MADEIRA 3A/4A QUALIDADE 1 X 7CM NAO AP...</td>\n",
              "      <td>1.45</td>\n",
              "      <td>2010-01-01</td>\n",
              "      <td>3124.76</td>\n",
              "      <td>0.88</td>\n",
              "      <td>0.66</td>\n",
              "      <td>441.67</td>\n",
              "      <td>0.01</td>\n",
              "    </tr>\n",
              "    <tr>\n",
              "      <th>6</th>\n",
              "      <td>4509</td>\n",
              "      <td>PECA DE MADEIRA 3A QUALIDADE 2,5 X 10CM NAO AP...</td>\n",
              "      <td>1.88</td>\n",
              "      <td>2010-01-01</td>\n",
              "      <td>3124.76</td>\n",
              "      <td>0.88</td>\n",
              "      <td>0.66</td>\n",
              "      <td>441.67</td>\n",
              "      <td>0.01</td>\n",
              "    </tr>\n",
              "    <tr>\n",
              "      <th>7</th>\n",
              "      <td>4497</td>\n",
              "      <td>PECA DE MADEIRA 3A QUALIDADE 10 X 10CM NAO APA...</td>\n",
              "      <td>5.09</td>\n",
              "      <td>2010-01-01</td>\n",
              "      <td>3124.76</td>\n",
              "      <td>0.88</td>\n",
              "      <td>0.66</td>\n",
              "      <td>441.67</td>\n",
              "      <td>0.01</td>\n",
              "    </tr>\n",
              "    <tr>\n",
              "      <th>8</th>\n",
              "      <td>4704</td>\n",
              "      <td>PEDRA ARDOSIA CINZA 20 X 40CM E = 1CM</td>\n",
              "      <td>9.31</td>\n",
              "      <td>2010-01-01</td>\n",
              "      <td>3124.76</td>\n",
              "      <td>0.88</td>\n",
              "      <td>0.66</td>\n",
              "      <td>441.67</td>\n",
              "      <td>0.01</td>\n",
              "    </tr>\n",
              "    <tr>\n",
              "      <th>9</th>\n",
              "      <td>4510</td>\n",
              "      <td>PECA DE MADEIRA 3A QUALIDADE 1,5 X 4CM NAO APA...</td>\n",
              "      <td>1.01</td>\n",
              "      <td>2010-01-01</td>\n",
              "      <td>3124.76</td>\n",
              "      <td>0.88</td>\n",
              "      <td>0.66</td>\n",
              "      <td>441.67</td>\n",
              "      <td>0.01</td>\n",
              "    </tr>\n",
              "  </tbody>\n",
              "</table>\n",
              "</div>\n",
              "      <button class=\"colab-df-convert\" onclick=\"convertToInteractive('df-7955e8d9-640c-4443-9de4-ae3fb218d842')\"\n",
              "              title=\"Convert this dataframe to an interactive table.\"\n",
              "              style=\"display:none;\">\n",
              "        \n",
              "  <svg xmlns=\"http://www.w3.org/2000/svg\" height=\"24px\"viewBox=\"0 0 24 24\"\n",
              "       width=\"24px\">\n",
              "    <path d=\"M0 0h24v24H0V0z\" fill=\"none\"/>\n",
              "    <path d=\"M18.56 5.44l.94 2.06.94-2.06 2.06-.94-2.06-.94-.94-2.06-.94 2.06-2.06.94zm-11 1L8.5 8.5l.94-2.06 2.06-.94-2.06-.94L8.5 2.5l-.94 2.06-2.06.94zm10 10l.94 2.06.94-2.06 2.06-.94-2.06-.94-.94-2.06-.94 2.06-2.06.94z\"/><path d=\"M17.41 7.96l-1.37-1.37c-.4-.4-.92-.59-1.43-.59-.52 0-1.04.2-1.43.59L10.3 9.45l-7.72 7.72c-.78.78-.78 2.05 0 2.83L4 21.41c.39.39.9.59 1.41.59.51 0 1.02-.2 1.41-.59l7.78-7.78 2.81-2.81c.8-.78.8-2.07 0-2.86zM5.41 20L4 18.59l7.72-7.72 1.47 1.35L5.41 20z\"/>\n",
              "  </svg>\n",
              "      </button>\n",
              "      \n",
              "  <style>\n",
              "    .colab-df-container {\n",
              "      display:flex;\n",
              "      flex-wrap:wrap;\n",
              "      gap: 12px;\n",
              "    }\n",
              "\n",
              "    .colab-df-convert {\n",
              "      background-color: #E8F0FE;\n",
              "      border: none;\n",
              "      border-radius: 50%;\n",
              "      cursor: pointer;\n",
              "      display: none;\n",
              "      fill: #1967D2;\n",
              "      height: 32px;\n",
              "      padding: 0 0 0 0;\n",
              "      width: 32px;\n",
              "    }\n",
              "\n",
              "    .colab-df-convert:hover {\n",
              "      background-color: #E2EBFA;\n",
              "      box-shadow: 0px 1px 2px rgba(60, 64, 67, 0.3), 0px 1px 3px 1px rgba(60, 64, 67, 0.15);\n",
              "      fill: #174EA6;\n",
              "    }\n",
              "\n",
              "    [theme=dark] .colab-df-convert {\n",
              "      background-color: #3B4455;\n",
              "      fill: #D2E3FC;\n",
              "    }\n",
              "\n",
              "    [theme=dark] .colab-df-convert:hover {\n",
              "      background-color: #434B5C;\n",
              "      box-shadow: 0px 1px 3px 1px rgba(0, 0, 0, 0.15);\n",
              "      filter: drop-shadow(0px 1px 2px rgba(0, 0, 0, 0.3));\n",
              "      fill: #FFFFFF;\n",
              "    }\n",
              "  </style>\n",
              "\n",
              "      <script>\n",
              "        const buttonEl =\n",
              "          document.querySelector('#df-7955e8d9-640c-4443-9de4-ae3fb218d842 button.colab-df-convert');\n",
              "        buttonEl.style.display =\n",
              "          google.colab.kernel.accessAllowed ? 'block' : 'none';\n",
              "\n",
              "        async function convertToInteractive(key) {\n",
              "          const element = document.querySelector('#df-7955e8d9-640c-4443-9de4-ae3fb218d842');\n",
              "          const dataTable =\n",
              "            await google.colab.kernel.invokeFunction('convertToInteractive',\n",
              "                                                     [key], {});\n",
              "          if (!dataTable) return;\n",
              "\n",
              "          const docLinkHtml = 'Like what you see? Visit the ' +\n",
              "            '<a target=\"_blank\" href=https://colab.research.google.com/notebooks/data_table.ipynb>data table notebook</a>'\n",
              "            + ' to learn more about interactive tables.';\n",
              "          element.innerHTML = '';\n",
              "          dataTable['output_type'] = 'display_data';\n",
              "          await google.colab.output.renderOutput(dataTable, element);\n",
              "          const docLink = document.createElement('div');\n",
              "          docLink.innerHTML = docLinkHtml;\n",
              "          element.appendChild(docLink);\n",
              "        }\n",
              "      </script>\n",
              "    </div>\n",
              "  </div>\n",
              "  "
            ]
          },
          "metadata": {},
          "execution_count": 164
        }
      ]
    },
    {
      "cell_type": "markdown",
      "source": [
        "## 2.10 EAD"
      ],
      "metadata": {
        "id": "1gZnFtFTJ-XG"
      }
    },
    {
      "cell_type": "markdown",
      "source": [
        "### NIVEL 1"
      ],
      "metadata": {
        "id": "ndbVg4BpJ-XH"
      }
    },
    {
      "cell_type": "markdown",
      "source": [
        "**Variaveis numéricas**"
      ],
      "metadata": {
        "id": "x-3YFnwAJ-XH"
      }
    },
    {
      "cell_type": "code",
      "source": [
        "num_attributes = dados_2.select_dtypes(include = ['int64', 'float64'])"
      ],
      "metadata": {
        "id": "U7W1UaYDJ-XI"
      },
      "execution_count": 117,
      "outputs": []
    },
    {
      "cell_type": "code",
      "source": [
        "# Estatistica Descritiva da variavel 'valor'\n",
        "descriptive_stats(num_attributes)"
      ],
      "metadata": {
        "colab": {
          "base_uri": "https://localhost:8080/",
          "height": 269
        },
        "outputId": "d7d05ee7-2d1a-40b3-faa5-5d1b96982c0d",
        "id": "sTCHBFmAJ-XI"
      },
      "execution_count": 118,
      "outputs": [
        {
          "output_type": "execute_result",
          "data": {
            "text/plain": [
              "    attributes      min         max       range          mean    median  \\\n",
              "0       codigo     1.00    44945.00    44944.00  14437.663449  10519.00   \n",
              "1        valor     0.00  8958602.97  8958602.97  18153.986031     28.81   \n",
              "2  inpc_indice  3124.76     6706.15     3581.39   4709.609906   4918.12   \n",
              "3     inpc_mes    -0.60        1.71        2.31      0.494964      0.49   \n",
              "4    selic_mes     0.13        1.22        1.09      0.720510      0.76   \n",
              "5       cub/m2   437.51     1214.56      777.05    657.541192    607.76   \n",
              "6      cub_mes    -0.94        4.44        5.38      0.654391      0.40   \n",
              "\n",
              "             std       skew    kurtosis  \n",
              "0   13989.089999   0.904682   -0.703425  \n",
              "1  173205.200311  20.694765  596.551582  \n",
              "2    1002.553372   0.187982   -0.950444  \n",
              "3       0.403467   0.303004    0.327349  \n",
              "4       0.277970  -0.302260   -0.768117  \n",
              "5     212.574322   1.308990    0.761430  \n",
              "6       0.789903   2.237526    6.056365  "
            ],
            "text/html": [
              "\n",
              "  <div id=\"df-09d1e274-cf2e-4630-98d3-dfb8f18fd1ce\">\n",
              "    <div class=\"colab-df-container\">\n",
              "      <div>\n",
              "<style scoped>\n",
              "    .dataframe tbody tr th:only-of-type {\n",
              "        vertical-align: middle;\n",
              "    }\n",
              "\n",
              "    .dataframe tbody tr th {\n",
              "        vertical-align: top;\n",
              "    }\n",
              "\n",
              "    .dataframe thead th {\n",
              "        text-align: right;\n",
              "    }\n",
              "</style>\n",
              "<table border=\"1\" class=\"dataframe\">\n",
              "  <thead>\n",
              "    <tr style=\"text-align: right;\">\n",
              "      <th></th>\n",
              "      <th>attributes</th>\n",
              "      <th>min</th>\n",
              "      <th>max</th>\n",
              "      <th>range</th>\n",
              "      <th>mean</th>\n",
              "      <th>median</th>\n",
              "      <th>std</th>\n",
              "      <th>skew</th>\n",
              "      <th>kurtosis</th>\n",
              "    </tr>\n",
              "  </thead>\n",
              "  <tbody>\n",
              "    <tr>\n",
              "      <th>0</th>\n",
              "      <td>codigo</td>\n",
              "      <td>1.00</td>\n",
              "      <td>44945.00</td>\n",
              "      <td>44944.00</td>\n",
              "      <td>14437.663449</td>\n",
              "      <td>10519.00</td>\n",
              "      <td>13989.089999</td>\n",
              "      <td>0.904682</td>\n",
              "      <td>-0.703425</td>\n",
              "    </tr>\n",
              "    <tr>\n",
              "      <th>1</th>\n",
              "      <td>valor</td>\n",
              "      <td>0.00</td>\n",
              "      <td>8958602.97</td>\n",
              "      <td>8958602.97</td>\n",
              "      <td>18153.986031</td>\n",
              "      <td>28.81</td>\n",
              "      <td>173205.200311</td>\n",
              "      <td>20.694765</td>\n",
              "      <td>596.551582</td>\n",
              "    </tr>\n",
              "    <tr>\n",
              "      <th>2</th>\n",
              "      <td>inpc_indice</td>\n",
              "      <td>3124.76</td>\n",
              "      <td>6706.15</td>\n",
              "      <td>3581.39</td>\n",
              "      <td>4709.609906</td>\n",
              "      <td>4918.12</td>\n",
              "      <td>1002.553372</td>\n",
              "      <td>0.187982</td>\n",
              "      <td>-0.950444</td>\n",
              "    </tr>\n",
              "    <tr>\n",
              "      <th>3</th>\n",
              "      <td>inpc_mes</td>\n",
              "      <td>-0.60</td>\n",
              "      <td>1.71</td>\n",
              "      <td>2.31</td>\n",
              "      <td>0.494964</td>\n",
              "      <td>0.49</td>\n",
              "      <td>0.403467</td>\n",
              "      <td>0.303004</td>\n",
              "      <td>0.327349</td>\n",
              "    </tr>\n",
              "    <tr>\n",
              "      <th>4</th>\n",
              "      <td>selic_mes</td>\n",
              "      <td>0.13</td>\n",
              "      <td>1.22</td>\n",
              "      <td>1.09</td>\n",
              "      <td>0.720510</td>\n",
              "      <td>0.76</td>\n",
              "      <td>0.277970</td>\n",
              "      <td>-0.302260</td>\n",
              "      <td>-0.768117</td>\n",
              "    </tr>\n",
              "    <tr>\n",
              "      <th>5</th>\n",
              "      <td>cub/m2</td>\n",
              "      <td>437.51</td>\n",
              "      <td>1214.56</td>\n",
              "      <td>777.05</td>\n",
              "      <td>657.541192</td>\n",
              "      <td>607.76</td>\n",
              "      <td>212.574322</td>\n",
              "      <td>1.308990</td>\n",
              "      <td>0.761430</td>\n",
              "    </tr>\n",
              "    <tr>\n",
              "      <th>6</th>\n",
              "      <td>cub_mes</td>\n",
              "      <td>-0.94</td>\n",
              "      <td>4.44</td>\n",
              "      <td>5.38</td>\n",
              "      <td>0.654391</td>\n",
              "      <td>0.40</td>\n",
              "      <td>0.789903</td>\n",
              "      <td>2.237526</td>\n",
              "      <td>6.056365</td>\n",
              "    </tr>\n",
              "  </tbody>\n",
              "</table>\n",
              "</div>\n",
              "      <button class=\"colab-df-convert\" onclick=\"convertToInteractive('df-09d1e274-cf2e-4630-98d3-dfb8f18fd1ce')\"\n",
              "              title=\"Convert this dataframe to an interactive table.\"\n",
              "              style=\"display:none;\">\n",
              "        \n",
              "  <svg xmlns=\"http://www.w3.org/2000/svg\" height=\"24px\"viewBox=\"0 0 24 24\"\n",
              "       width=\"24px\">\n",
              "    <path d=\"M0 0h24v24H0V0z\" fill=\"none\"/>\n",
              "    <path d=\"M18.56 5.44l.94 2.06.94-2.06 2.06-.94-2.06-.94-.94-2.06-.94 2.06-2.06.94zm-11 1L8.5 8.5l.94-2.06 2.06-.94-2.06-.94L8.5 2.5l-.94 2.06-2.06.94zm10 10l.94 2.06.94-2.06 2.06-.94-2.06-.94-.94-2.06-.94 2.06-2.06.94z\"/><path d=\"M17.41 7.96l-1.37-1.37c-.4-.4-.92-.59-1.43-.59-.52 0-1.04.2-1.43.59L10.3 9.45l-7.72 7.72c-.78.78-.78 2.05 0 2.83L4 21.41c.39.39.9.59 1.41.59.51 0 1.02-.2 1.41-.59l7.78-7.78 2.81-2.81c.8-.78.8-2.07 0-2.86zM5.41 20L4 18.59l7.72-7.72 1.47 1.35L5.41 20z\"/>\n",
              "  </svg>\n",
              "      </button>\n",
              "      \n",
              "  <style>\n",
              "    .colab-df-container {\n",
              "      display:flex;\n",
              "      flex-wrap:wrap;\n",
              "      gap: 12px;\n",
              "    }\n",
              "\n",
              "    .colab-df-convert {\n",
              "      background-color: #E8F0FE;\n",
              "      border: none;\n",
              "      border-radius: 50%;\n",
              "      cursor: pointer;\n",
              "      display: none;\n",
              "      fill: #1967D2;\n",
              "      height: 32px;\n",
              "      padding: 0 0 0 0;\n",
              "      width: 32px;\n",
              "    }\n",
              "\n",
              "    .colab-df-convert:hover {\n",
              "      background-color: #E2EBFA;\n",
              "      box-shadow: 0px 1px 2px rgba(60, 64, 67, 0.3), 0px 1px 3px 1px rgba(60, 64, 67, 0.15);\n",
              "      fill: #174EA6;\n",
              "    }\n",
              "\n",
              "    [theme=dark] .colab-df-convert {\n",
              "      background-color: #3B4455;\n",
              "      fill: #D2E3FC;\n",
              "    }\n",
              "\n",
              "    [theme=dark] .colab-df-convert:hover {\n",
              "      background-color: #434B5C;\n",
              "      box-shadow: 0px 1px 3px 1px rgba(0, 0, 0, 0.15);\n",
              "      filter: drop-shadow(0px 1px 2px rgba(0, 0, 0, 0.3));\n",
              "      fill: #FFFFFF;\n",
              "    }\n",
              "  </style>\n",
              "\n",
              "      <script>\n",
              "        const buttonEl =\n",
              "          document.querySelector('#df-09d1e274-cf2e-4630-98d3-dfb8f18fd1ce button.colab-df-convert');\n",
              "        buttonEl.style.display =\n",
              "          google.colab.kernel.accessAllowed ? 'block' : 'none';\n",
              "\n",
              "        async function convertToInteractive(key) {\n",
              "          const element = document.querySelector('#df-09d1e274-cf2e-4630-98d3-dfb8f18fd1ce');\n",
              "          const dataTable =\n",
              "            await google.colab.kernel.invokeFunction('convertToInteractive',\n",
              "                                                     [key], {});\n",
              "          if (!dataTable) return;\n",
              "\n",
              "          const docLinkHtml = 'Like what you see? Visit the ' +\n",
              "            '<a target=\"_blank\" href=https://colab.research.google.com/notebooks/data_table.ipynb>data table notebook</a>'\n",
              "            + ' to learn more about interactive tables.';\n",
              "          element.innerHTML = '';\n",
              "          dataTable['output_type'] = 'display_data';\n",
              "          await google.colab.output.renderOutput(dataTable, element);\n",
              "          const docLink = document.createElement('div');\n",
              "          docLink.innerHTML = docLinkHtml;\n",
              "          element.appendChild(docLink);\n",
              "        }\n",
              "      </script>\n",
              "    </div>\n",
              "  </div>\n",
              "  "
            ]
          },
          "metadata": {},
          "execution_count": 118
        }
      ]
    },
    {
      "cell_type": "code",
      "source": [
        "# Quantis\n",
        "\n",
        "round(num_attributes.describe([0.05,0.25,0.50,0.75,0.90,0.95,0.99]).T,2)"
      ],
      "metadata": {
        "colab": {
          "base_uri": "https://localhost:8080/",
          "height": 269
        },
        "outputId": "d1255b2a-4b4f-4682-adae-6a532680dc01",
        "id": "t1Q2dPCZJ-XJ"
      },
      "execution_count": 119,
      "outputs": [
        {
          "output_type": "execute_result",
          "data": {
            "text/plain": [
              "                count      mean        std      min       5%      25%  \\\n",
              "codigo       807700.0  14437.66   13989.10     1.00   581.00  3461.00   \n",
              "valor        807700.0  18153.99  173205.31     0.00     1.24     8.20   \n",
              "inpc_indice  807700.0   4709.61    1002.55  3124.76  3205.83  3813.73   \n",
              "inpc_mes     807700.0      0.49       0.40    -0.60    -0.13     0.21   \n",
              "selic_mes    807700.0      0.72       0.28     0.13     0.19     0.52   \n",
              "cub/m2       807700.0    657.54     212.57   437.51   456.24   490.32   \n",
              "cub_mes      807700.0      0.65       0.79    -0.94     0.07     0.18   \n",
              "\n",
              "                  50%       75%       90%       95%        99%         max  \n",
              "codigo       10519.00  21040.00  39144.00  39879.00   43053.00    44945.00  \n",
              "valor           28.81    148.30   1153.68   8477.33  451508.82  8958602.97  \n",
              "inpc_indice   4918.12   5355.77   6160.89   6614.89    6685.86     6706.15  \n",
              "inpc_mes         0.49      0.73      0.99      1.20       1.51        1.71  \n",
              "selic_mes        0.76      0.94      1.07      1.12       1.18        1.22  \n",
              "cub/m2         607.76    720.29   1075.63   1175.75    1209.77     1214.56  \n",
              "cub_mes          0.40      0.81      1.74      2.39       4.27        4.44  "
            ],
            "text/html": [
              "\n",
              "  <div id=\"df-29714917-c23b-4459-848d-3abd9b1cd1a4\">\n",
              "    <div class=\"colab-df-container\">\n",
              "      <div>\n",
              "<style scoped>\n",
              "    .dataframe tbody tr th:only-of-type {\n",
              "        vertical-align: middle;\n",
              "    }\n",
              "\n",
              "    .dataframe tbody tr th {\n",
              "        vertical-align: top;\n",
              "    }\n",
              "\n",
              "    .dataframe thead th {\n",
              "        text-align: right;\n",
              "    }\n",
              "</style>\n",
              "<table border=\"1\" class=\"dataframe\">\n",
              "  <thead>\n",
              "    <tr style=\"text-align: right;\">\n",
              "      <th></th>\n",
              "      <th>count</th>\n",
              "      <th>mean</th>\n",
              "      <th>std</th>\n",
              "      <th>min</th>\n",
              "      <th>5%</th>\n",
              "      <th>25%</th>\n",
              "      <th>50%</th>\n",
              "      <th>75%</th>\n",
              "      <th>90%</th>\n",
              "      <th>95%</th>\n",
              "      <th>99%</th>\n",
              "      <th>max</th>\n",
              "    </tr>\n",
              "  </thead>\n",
              "  <tbody>\n",
              "    <tr>\n",
              "      <th>codigo</th>\n",
              "      <td>807700.0</td>\n",
              "      <td>14437.66</td>\n",
              "      <td>13989.10</td>\n",
              "      <td>1.00</td>\n",
              "      <td>581.00</td>\n",
              "      <td>3461.00</td>\n",
              "      <td>10519.00</td>\n",
              "      <td>21040.00</td>\n",
              "      <td>39144.00</td>\n",
              "      <td>39879.00</td>\n",
              "      <td>43053.00</td>\n",
              "      <td>44945.00</td>\n",
              "    </tr>\n",
              "    <tr>\n",
              "      <th>valor</th>\n",
              "      <td>807700.0</td>\n",
              "      <td>18153.99</td>\n",
              "      <td>173205.31</td>\n",
              "      <td>0.00</td>\n",
              "      <td>1.24</td>\n",
              "      <td>8.20</td>\n",
              "      <td>28.81</td>\n",
              "      <td>148.30</td>\n",
              "      <td>1153.68</td>\n",
              "      <td>8477.33</td>\n",
              "      <td>451508.82</td>\n",
              "      <td>8958602.97</td>\n",
              "    </tr>\n",
              "    <tr>\n",
              "      <th>inpc_indice</th>\n",
              "      <td>807700.0</td>\n",
              "      <td>4709.61</td>\n",
              "      <td>1002.55</td>\n",
              "      <td>3124.76</td>\n",
              "      <td>3205.83</td>\n",
              "      <td>3813.73</td>\n",
              "      <td>4918.12</td>\n",
              "      <td>5355.77</td>\n",
              "      <td>6160.89</td>\n",
              "      <td>6614.89</td>\n",
              "      <td>6685.86</td>\n",
              "      <td>6706.15</td>\n",
              "    </tr>\n",
              "    <tr>\n",
              "      <th>inpc_mes</th>\n",
              "      <td>807700.0</td>\n",
              "      <td>0.49</td>\n",
              "      <td>0.40</td>\n",
              "      <td>-0.60</td>\n",
              "      <td>-0.13</td>\n",
              "      <td>0.21</td>\n",
              "      <td>0.49</td>\n",
              "      <td>0.73</td>\n",
              "      <td>0.99</td>\n",
              "      <td>1.20</td>\n",
              "      <td>1.51</td>\n",
              "      <td>1.71</td>\n",
              "    </tr>\n",
              "    <tr>\n",
              "      <th>selic_mes</th>\n",
              "      <td>807700.0</td>\n",
              "      <td>0.72</td>\n",
              "      <td>0.28</td>\n",
              "      <td>0.13</td>\n",
              "      <td>0.19</td>\n",
              "      <td>0.52</td>\n",
              "      <td>0.76</td>\n",
              "      <td>0.94</td>\n",
              "      <td>1.07</td>\n",
              "      <td>1.12</td>\n",
              "      <td>1.18</td>\n",
              "      <td>1.22</td>\n",
              "    </tr>\n",
              "    <tr>\n",
              "      <th>cub/m2</th>\n",
              "      <td>807700.0</td>\n",
              "      <td>657.54</td>\n",
              "      <td>212.57</td>\n",
              "      <td>437.51</td>\n",
              "      <td>456.24</td>\n",
              "      <td>490.32</td>\n",
              "      <td>607.76</td>\n",
              "      <td>720.29</td>\n",
              "      <td>1075.63</td>\n",
              "      <td>1175.75</td>\n",
              "      <td>1209.77</td>\n",
              "      <td>1214.56</td>\n",
              "    </tr>\n",
              "    <tr>\n",
              "      <th>cub_mes</th>\n",
              "      <td>807700.0</td>\n",
              "      <td>0.65</td>\n",
              "      <td>0.79</td>\n",
              "      <td>-0.94</td>\n",
              "      <td>0.07</td>\n",
              "      <td>0.18</td>\n",
              "      <td>0.40</td>\n",
              "      <td>0.81</td>\n",
              "      <td>1.74</td>\n",
              "      <td>2.39</td>\n",
              "      <td>4.27</td>\n",
              "      <td>4.44</td>\n",
              "    </tr>\n",
              "  </tbody>\n",
              "</table>\n",
              "</div>\n",
              "      <button class=\"colab-df-convert\" onclick=\"convertToInteractive('df-29714917-c23b-4459-848d-3abd9b1cd1a4')\"\n",
              "              title=\"Convert this dataframe to an interactive table.\"\n",
              "              style=\"display:none;\">\n",
              "        \n",
              "  <svg xmlns=\"http://www.w3.org/2000/svg\" height=\"24px\"viewBox=\"0 0 24 24\"\n",
              "       width=\"24px\">\n",
              "    <path d=\"M0 0h24v24H0V0z\" fill=\"none\"/>\n",
              "    <path d=\"M18.56 5.44l.94 2.06.94-2.06 2.06-.94-2.06-.94-.94-2.06-.94 2.06-2.06.94zm-11 1L8.5 8.5l.94-2.06 2.06-.94-2.06-.94L8.5 2.5l-.94 2.06-2.06.94zm10 10l.94 2.06.94-2.06 2.06-.94-2.06-.94-.94-2.06-.94 2.06-2.06.94z\"/><path d=\"M17.41 7.96l-1.37-1.37c-.4-.4-.92-.59-1.43-.59-.52 0-1.04.2-1.43.59L10.3 9.45l-7.72 7.72c-.78.78-.78 2.05 0 2.83L4 21.41c.39.39.9.59 1.41.59.51 0 1.02-.2 1.41-.59l7.78-7.78 2.81-2.81c.8-.78.8-2.07 0-2.86zM5.41 20L4 18.59l7.72-7.72 1.47 1.35L5.41 20z\"/>\n",
              "  </svg>\n",
              "      </button>\n",
              "      \n",
              "  <style>\n",
              "    .colab-df-container {\n",
              "      display:flex;\n",
              "      flex-wrap:wrap;\n",
              "      gap: 12px;\n",
              "    }\n",
              "\n",
              "    .colab-df-convert {\n",
              "      background-color: #E8F0FE;\n",
              "      border: none;\n",
              "      border-radius: 50%;\n",
              "      cursor: pointer;\n",
              "      display: none;\n",
              "      fill: #1967D2;\n",
              "      height: 32px;\n",
              "      padding: 0 0 0 0;\n",
              "      width: 32px;\n",
              "    }\n",
              "\n",
              "    .colab-df-convert:hover {\n",
              "      background-color: #E2EBFA;\n",
              "      box-shadow: 0px 1px 2px rgba(60, 64, 67, 0.3), 0px 1px 3px 1px rgba(60, 64, 67, 0.15);\n",
              "      fill: #174EA6;\n",
              "    }\n",
              "\n",
              "    [theme=dark] .colab-df-convert {\n",
              "      background-color: #3B4455;\n",
              "      fill: #D2E3FC;\n",
              "    }\n",
              "\n",
              "    [theme=dark] .colab-df-convert:hover {\n",
              "      background-color: #434B5C;\n",
              "      box-shadow: 0px 1px 3px 1px rgba(0, 0, 0, 0.15);\n",
              "      filter: drop-shadow(0px 1px 2px rgba(0, 0, 0, 0.3));\n",
              "      fill: #FFFFFF;\n",
              "    }\n",
              "  </style>\n",
              "\n",
              "      <script>\n",
              "        const buttonEl =\n",
              "          document.querySelector('#df-29714917-c23b-4459-848d-3abd9b1cd1a4 button.colab-df-convert');\n",
              "        buttonEl.style.display =\n",
              "          google.colab.kernel.accessAllowed ? 'block' : 'none';\n",
              "\n",
              "        async function convertToInteractive(key) {\n",
              "          const element = document.querySelector('#df-29714917-c23b-4459-848d-3abd9b1cd1a4');\n",
              "          const dataTable =\n",
              "            await google.colab.kernel.invokeFunction('convertToInteractive',\n",
              "                                                     [key], {});\n",
              "          if (!dataTable) return;\n",
              "\n",
              "          const docLinkHtml = 'Like what you see? Visit the ' +\n",
              "            '<a target=\"_blank\" href=https://colab.research.google.com/notebooks/data_table.ipynb>data table notebook</a>'\n",
              "            + ' to learn more about interactive tables.';\n",
              "          element.innerHTML = '';\n",
              "          dataTable['output_type'] = 'display_data';\n",
              "          await google.colab.output.renderOutput(dataTable, element);\n",
              "          const docLink = document.createElement('div');\n",
              "          docLink.innerHTML = docLinkHtml;\n",
              "          element.appendChild(docLink);\n",
              "        }\n",
              "      </script>\n",
              "    </div>\n",
              "  </div>\n",
              "  "
            ]
          },
          "metadata": {},
          "execution_count": 119
        }
      ]
    },
    {
      "cell_type": "code",
      "source": [
        "# Visualização da distribuição dos dados\n",
        "dados_2.hist(figsize=(14,6), bins=20);"
      ],
      "metadata": {
        "colab": {
          "base_uri": "https://localhost:8080/",
          "height": 545
        },
        "outputId": "b9fdeb5d-38a6-4409-c3ff-2b1e94fb7b56",
        "id": "Ld6eXM6aJ-XJ"
      },
      "execution_count": 123,
      "outputs": [
        {
          "output_type": "display_data",
          "data": {
            "text/plain": [
              "<Figure size 1400x600 with 9 Axes>"
            ],
            "image/png": "[encoded data removed]"
          },
          "metadata": {}
        }
      ]
    },
    {
      "cell_type": "markdown",
      "source": [
        "**Variaveis categoricas**"
      ],
      "metadata": {
        "id": "_wMIPRKAJ-XK"
      }
    },
    {
      "cell_type": "code",
      "source": [
        "cat_attributes = dados_2.select_dtypes(include = ['object'])"
      ],
      "metadata": {
        "id": "4FQQrwOHJ-XK"
      },
      "execution_count": 128,
      "outputs": []
    },
    {
      "cell_type": "code",
      "source": [
        "# Dicionario para armazenar os valores\n",
        "unique_values = {}\n",
        "for col in cat_attributes.columns:\n",
        "    unique_values[col] = len(cat_attributes[col].value_counts())\n",
        "\n",
        "# Transforma o dicionário em um DataFrame\n",
        "df_unique_values = pd.DataFrame.from_dict(unique_values, orient='index', columns=['Quantidade de valores únicos'])\n",
        "print(df_unique_values)"
      ],
      "metadata": {
        "colab": {
          "base_uri": "https://localhost:8080/"
        },
        "outputId": "2c623bbb-7932-41bb-862d-986491fe5676",
        "id": "ZLY_nOY7J-XL"
      },
      "execution_count": 129,
      "outputs": [
        {
          "output_type": "stream",
          "name": "stdout",
          "text": [
            "           Quantidade de valores únicos\n",
            "descricao                         26284\n",
            "data                                156\n"
          ]
        }
      ]
    },
    {
      "cell_type": "markdown",
      "source": [
        "A quantidade de dados que temos que ter para que os dados estejam completos é:\n",
        "\n",
        "codigo x data"
      ],
      "metadata": {
        "id": "5NUrqI_vJ-XL"
      }
    },
    {
      "cell_type": "code",
      "source": [
        "# Calculo para conferencia dos dados:\n",
        "\n",
        "a = len(dados_2['codigo'].unique())\n",
        "b = len(dados_2['data'].unique())\n",
        "\n",
        "qtd_esperada = a * b\n",
        "qtd_real = dados_2.shape[0]\n",
        "\n",
        "diff = qtd_esperada - qtd_real\n",
        "\n",
        "print('Quantidade esperada de instancias:',qtd_esperada)\n",
        "print('Quantidade real de instancias:',qtd_real)\n",
        "print('Diferença:', diff )"
      ],
      "metadata": {
        "colab": {
          "base_uri": "https://localhost:8080/"
        },
        "outputId": "2a055a0c-16f4-4ba3-f144-1a3c35b985d6",
        "id": "22kpx_zvJ-XL"
      },
      "execution_count": 131,
      "outputs": [
        {
          "output_type": "stream",
          "name": "stdout",
          "text": [
            "Quantidade esperada de instancias: 1256580\n",
            "Quantidade real de instancias: 807700\n",
            "Diferença: 448880\n"
          ]
        }
      ]
    },
    {
      "cell_type": "markdown",
      "source": [
        "**Adicionar variação mensal para valor**"
      ],
      "metadata": {
        "id": "EQGV4ZEMLPQo"
      }
    },
    {
      "cell_type": "markdown",
      "source": [
        "**Correlação entre as variaveis**"
      ],
      "metadata": {
        "id": "ob-SQXKvJ-XN"
      }
    },
    {
      "cell_type": "code",
      "source": [
        "df1 = dados_2.copy()"
      ],
      "metadata": {
        "id": "fCykH5-OLhVv"
      },
      "execution_count": 145,
      "outputs": []
    },
    {
      "cell_type": "code",
      "source": [
        "var_global = df1.groupby('data', as_index=False).mean()"
      ],
      "metadata": {
        "id": "5Gnpz5t9NN25"
      },
      "execution_count": 147,
      "outputs": []
    },
    {
      "cell_type": "code",
      "source": [
        "var_global['data_1'] = pd.to_datetime(var_global['data'], format='%m/%y')\n",
        "var_global['ano'] = var_global['data_1'].dt.year\n",
        "var_global['mes'] = var_global['data_1'].dt.month"
      ],
      "metadata": {
        "id": "kz7AJ33RNnAz"
      },
      "execution_count": 148,
      "outputs": []
    },
    {
      "cell_type": "code",
      "source": [
        "# Calcula a variação percentual mensal\n",
        "var_global['variacao_mensal'] = var_global['valor'].pct_change() * 100\n",
        "var_global['variacao_mensal'] = var_global['variacao_mensal'].fillna(0)\n",
        "\n",
        "# Calcula o acumulado percentual\n",
        "var_global['acumulado_percentual'] = (1 + var_global['variacao_mensal'] / 100).cumprod() * 100 - 100\n",
        "var_global['acumulado_percentual'] = var_global['acumulado_percentual'].fillna(0)"
      ],
      "metadata": {
        "id": "oZteJtX5LHGr"
      },
      "execution_count": 149,
      "outputs": []
    },
    {
      "cell_type": "code",
      "source": [
        "var_global.head()"
      ],
      "metadata": {
        "colab": {
          "base_uri": "https://localhost:8080/",
          "height": 206
        },
        "id": "wFbRbk3wM8wx",
        "outputId": "b3afecef-5081-44e2-9689-ae2cc3fcdc4c"
      },
      "execution_count": 152,
      "outputs": [
        {
          "output_type": "execute_result",
          "data": {
            "text/plain": [
              "    data       codigo         valor  inpc_indice  inpc_mes  selic_mes  cub/m2  \\\n",
              "0  01/10  7954.998279  15547.337219      3124.76      0.88       0.66  441.67   \n",
              "1  01/11  7959.719372  16275.261032      3328.76      0.94       0.86  464.18   \n",
              "2  01/12  7972.261144  16499.769131      3516.11      0.51       0.89  475.01   \n",
              "3  01/13  7971.251818  16518.511579      3749.25      0.92       0.60  484.65   \n",
              "4  01/14  7953.551570  17703.071375      3946.44      0.63       0.85  502.98   \n",
              "\n",
              "   cub_mes     data_1   ano  mes  variacao_mensal  acumulado_percentual  \n",
              "0     0.01 2010-01-01  2010    1         0.000000              0.000000  \n",
              "1     0.53 2011-01-01  2011    1         4.681984              4.681984  \n",
              "2     0.10 2012-01-01  2012    1         1.379444              6.126013  \n",
              "3     0.11 2013-01-01  2013    1         0.113592              6.246564  \n",
              "4     0.74 2014-01-01  2014    1         7.171105             13.865617  "
            ],
            "text/html": [
              "\n",
              "  <div id=\"df-3c4094fb-a619-4fbf-a376-3e6d8f8750f3\">\n",
              "    <div class=\"colab-df-container\">\n",
              "      <div>\n",
              "<style scoped>\n",
              "    .dataframe tbody tr th:only-of-type {\n",
              "        vertical-align: middle;\n",
              "    }\n",
              "\n",
              "    .dataframe tbody tr th {\n",
              "        vertical-align: top;\n",
              "    }\n",
              "\n",
              "    .dataframe thead th {\n",
              "        text-align: right;\n",
              "    }\n",
              "</style>\n",
              "<table border=\"1\" class=\"dataframe\">\n",
              "  <thead>\n",
              "    <tr style=\"text-align: right;\">\n",
              "      <th></th>\n",
              "      <th>data</th>\n",
              "      <th>codigo</th>\n",
              "      <th>valor</th>\n",
              "      <th>inpc_indice</th>\n",
              "      <th>inpc_mes</th>\n",
              "      <th>selic_mes</th>\n",
              "      <th>cub/m2</th>\n",
              "      <th>cub_mes</th>\n",
              "      <th>data_1</th>\n",
              "      <th>ano</th>\n",
              "      <th>mes</th>\n",
              "      <th>variacao_mensal</th>\n",
              "      <th>acumulado_percentual</th>\n",
              "    </tr>\n",
              "  </thead>\n",
              "  <tbody>\n",
              "    <tr>\n",
              "      <th>0</th>\n",
              "      <td>01/10</td>\n",
              "      <td>7954.998279</td>\n",
              "      <td>15547.337219</td>\n",
              "      <td>3124.76</td>\n",
              "      <td>0.88</td>\n",
              "      <td>0.66</td>\n",
              "      <td>441.67</td>\n",
              "      <td>0.01</td>\n",
              "      <td>2010-01-01</td>\n",
              "      <td>2010</td>\n",
              "      <td>1</td>\n",
              "      <td>0.000000</td>\n",
              "      <td>0.000000</td>\n",
              "    </tr>\n",
              "    <tr>\n",
              "      <th>1</th>\n",
              "      <td>01/11</td>\n",
              "      <td>7959.719372</td>\n",
              "      <td>16275.261032</td>\n",
              "      <td>3328.76</td>\n",
              "      <td>0.94</td>\n",
              "      <td>0.86</td>\n",
              "      <td>464.18</td>\n",
              "      <td>0.53</td>\n",
              "      <td>2011-01-01</td>\n",
              "      <td>2011</td>\n",
              "      <td>1</td>\n",
              "      <td>4.681984</td>\n",
              "      <td>4.681984</td>\n",
              "    </tr>\n",
              "    <tr>\n",
              "      <th>2</th>\n",
              "      <td>01/12</td>\n",
              "      <td>7972.261144</td>\n",
              "      <td>16499.769131</td>\n",
              "      <td>3516.11</td>\n",
              "      <td>0.51</td>\n",
              "      <td>0.89</td>\n",
              "      <td>475.01</td>\n",
              "      <td>0.10</td>\n",
              "      <td>2012-01-01</td>\n",
              "      <td>2012</td>\n",
              "      <td>1</td>\n",
              "      <td>1.379444</td>\n",
              "      <td>6.126013</td>\n",
              "    </tr>\n",
              "    <tr>\n",
              "      <th>3</th>\n",
              "      <td>01/13</td>\n",
              "      <td>7971.251818</td>\n",
              "      <td>16518.511579</td>\n",
              "      <td>3749.25</td>\n",
              "      <td>0.92</td>\n",
              "      <td>0.60</td>\n",
              "      <td>484.65</td>\n",
              "      <td>0.11</td>\n",
              "      <td>2013-01-01</td>\n",
              "      <td>2013</td>\n",
              "      <td>1</td>\n",
              "      <td>0.113592</td>\n",
              "      <td>6.246564</td>\n",
              "    </tr>\n",
              "    <tr>\n",
              "      <th>4</th>\n",
              "      <td>01/14</td>\n",
              "      <td>7953.551570</td>\n",
              "      <td>17703.071375</td>\n",
              "      <td>3946.44</td>\n",
              "      <td>0.63</td>\n",
              "      <td>0.85</td>\n",
              "      <td>502.98</td>\n",
              "      <td>0.74</td>\n",
              "      <td>2014-01-01</td>\n",
              "      <td>2014</td>\n",
              "      <td>1</td>\n",
              "      <td>7.171105</td>\n",
              "      <td>13.865617</td>\n",
              "    </tr>\n",
              "  </tbody>\n",
              "</table>\n",
              "</div>\n",
              "      <button class=\"colab-df-convert\" onclick=\"convertToInteractive('df-3c4094fb-a619-4fbf-a376-3e6d8f8750f3')\"\n",
              "              title=\"Convert this dataframe to an interactive table.\"\n",
              "              style=\"display:none;\">\n",
              "        \n",
              "  <svg xmlns=\"http://www.w3.org/2000/svg\" height=\"24px\"viewBox=\"0 0 24 24\"\n",
              "       width=\"24px\">\n",
              "    <path d=\"M0 0h24v24H0V0z\" fill=\"none\"/>\n",
              "    <path d=\"M18.56 5.44l.94 2.06.94-2.06 2.06-.94-2.06-.94-.94-2.06-.94 2.06-2.06.94zm-11 1L8.5 8.5l.94-2.06 2.06-.94-2.06-.94L8.5 2.5l-.94 2.06-2.06.94zm10 10l.94 2.06.94-2.06 2.06-.94-2.06-.94-.94-2.06-.94 2.06-2.06.94z\"/><path d=\"M17.41 7.96l-1.37-1.37c-.4-.4-.92-.59-1.43-.59-.52 0-1.04.2-1.43.59L10.3 9.45l-7.72 7.72c-.78.78-.78 2.05 0 2.83L4 21.41c.39.39.9.59 1.41.59.51 0 1.02-.2 1.41-.59l7.78-7.78 2.81-2.81c.8-.78.8-2.07 0-2.86zM5.41 20L4 18.59l7.72-7.72 1.47 1.35L5.41 20z\"/>\n",
              "  </svg>\n",
              "      </button>\n",
              "      \n",
              "  <style>\n",
              "    .colab-df-container {\n",
              "      display:flex;\n",
              "      flex-wrap:wrap;\n",
              "      gap: 12px;\n",
              "    }\n",
              "\n",
              "    .colab-df-convert {\n",
              "      background-color: #E8F0FE;\n",
              "      border: none;\n",
              "      border-radius: 50%;\n",
              "      cursor: pointer;\n",
              "      display: none;\n",
              "      fill: #1967D2;\n",
              "      height: 32px;\n",
              "      padding: 0 0 0 0;\n",
              "      width: 32px;\n",
              "    }\n",
              "\n",
              "    .colab-df-convert:hover {\n",
              "      background-color: #E2EBFA;\n",
              "      box-shadow: 0px 1px 2px rgba(60, 64, 67, 0.3), 0px 1px 3px 1px rgba(60, 64, 67, 0.15);\n",
              "      fill: #174EA6;\n",
              "    }\n",
              "\n",
              "    [theme=dark] .colab-df-convert {\n",
              "      background-color: #3B4455;\n",
              "      fill: #D2E3FC;\n",
              "    }\n",
              "\n",
              "    [theme=dark] .colab-df-convert:hover {\n",
              "      background-color: #434B5C;\n",
              "      box-shadow: 0px 1px 3px 1px rgba(0, 0, 0, 0.15);\n",
              "      filter: drop-shadow(0px 1px 2px rgba(0, 0, 0, 0.3));\n",
              "      fill: #FFFFFF;\n",
              "    }\n",
              "  </style>\n",
              "\n",
              "      <script>\n",
              "        const buttonEl =\n",
              "          document.querySelector('#df-3c4094fb-a619-4fbf-a376-3e6d8f8750f3 button.colab-df-convert');\n",
              "        buttonEl.style.display =\n",
              "          google.colab.kernel.accessAllowed ? 'block' : 'none';\n",
              "\n",
              "        async function convertToInteractive(key) {\n",
              "          const element = document.querySelector('#df-3c4094fb-a619-4fbf-a376-3e6d8f8750f3');\n",
              "          const dataTable =\n",
              "            await google.colab.kernel.invokeFunction('convertToInteractive',\n",
              "                                                     [key], {});\n",
              "          if (!dataTable) return;\n",
              "\n",
              "          const docLinkHtml = 'Like what you see? Visit the ' +\n",
              "            '<a target=\"_blank\" href=https://colab.research.google.com/notebooks/data_table.ipynb>data table notebook</a>'\n",
              "            + ' to learn more about interactive tables.';\n",
              "          element.innerHTML = '';\n",
              "          dataTable['output_type'] = 'display_data';\n",
              "          await google.colab.output.renderOutput(dataTable, element);\n",
              "          const docLink = document.createElement('div');\n",
              "          docLink.innerHTML = docLinkHtml;\n",
              "          element.appendChild(docLink);\n",
              "        }\n",
              "      </script>\n",
              "    </div>\n",
              "  </div>\n",
              "  "
            ]
          },
          "metadata": {},
          "execution_count": 152
        }
      ]
    },
    {
      "cell_type": "code",
      "source": [
        "plt.figure(figsize=(16, 10))\n",
        "sns.heatmap(var_global.corr(method='pearson'), annot=True);"
      ],
      "metadata": {
        "colab": {
          "base_uri": "https://localhost:8080/",
          "height": 980
        },
        "id": "QgGa1sCQM-jR",
        "outputId": "7800ca8b-dd6f-4c49-da9d-983e32414c99"
      },
      "execution_count": 153,
      "outputs": [
        {
          "output_type": "display_data",
          "data": {
            "text/plain": [
              "<Figure size 1600x1000 with 2 Axes>"
            ],
            "image/png": "[encoded data removed]"
          },
          "metadata": {}
        }
      ]
    },
    {
      "cell_type": "code",
      "source": [
        "var_global.head()"
      ],
      "metadata": {
        "colab": {
          "base_uri": "https://localhost:8080/",
          "height": 206
        },
        "id": "JYtL1UP8PHr6",
        "outputId": "e6d0eb57-c6d7-4c34-a6c1-0b026599eade"
      },
      "execution_count": 154,
      "outputs": [
        {
          "output_type": "execute_result",
          "data": {
            "text/plain": [
              "    data       codigo         valor  inpc_indice  inpc_mes  selic_mes  cub/m2  \\\n",
              "0  01/10  7954.998279  15547.337219      3124.76      0.88       0.66  441.67   \n",
              "1  01/11  7959.719372  16275.261032      3328.76      0.94       0.86  464.18   \n",
              "2  01/12  7972.261144  16499.769131      3516.11      0.51       0.89  475.01   \n",
              "3  01/13  7971.251818  16518.511579      3749.25      0.92       0.60  484.65   \n",
              "4  01/14  7953.551570  17703.071375      3946.44      0.63       0.85  502.98   \n",
              "\n",
              "   cub_mes     data_1   ano  mes  variacao_mensal  acumulado_percentual  \n",
              "0     0.01 2010-01-01  2010    1         0.000000              0.000000  \n",
              "1     0.53 2011-01-01  2011    1         4.681984              4.681984  \n",
              "2     0.10 2012-01-01  2012    1         1.379444              6.126013  \n",
              "3     0.11 2013-01-01  2013    1         0.113592              6.246564  \n",
              "4     0.74 2014-01-01  2014    1         7.171105             13.865617  "
            ],
            "text/html": [
              "\n",
              "  <div id=\"df-eed5accb-9b1d-4afe-8bde-d2d9ecb2573d\">\n",
              "    <div class=\"colab-df-container\">\n",
              "      <div>\n",
              "<style scoped>\n",
              "    .dataframe tbody tr th:only-of-type {\n",
              "        vertical-align: middle;\n",
              "    }\n",
              "\n",
              "    .dataframe tbody tr th {\n",
              "        vertical-align: top;\n",
              "    }\n",
              "\n",
              "    .dataframe thead th {\n",
              "        text-align: right;\n",
              "    }\n",
              "</style>\n",
              "<table border=\"1\" class=\"dataframe\">\n",
              "  <thead>\n",
              "    <tr style=\"text-align: right;\">\n",
              "      <th></th>\n",
              "      <th>data</th>\n",
              "      <th>codigo</th>\n",
              "      <th>valor</th>\n",
              "      <th>inpc_indice</th>\n",
              "      <th>inpc_mes</th>\n",
              "      <th>selic_mes</th>\n",
              "      <th>cub/m2</th>\n",
              "      <th>cub_mes</th>\n",
              "      <th>data_1</th>\n",
              "      <th>ano</th>\n",
              "      <th>mes</th>\n",
              "      <th>variacao_mensal</th>\n",
              "      <th>acumulado_percentual</th>\n",
              "    </tr>\n",
              "  </thead>\n",
              "  <tbody>\n",
              "    <tr>\n",
              "      <th>0</th>\n",
              "      <td>01/10</td>\n",
              "      <td>7954.998279</td>\n",
              "      <td>15547.337219</td>\n",
              "      <td>3124.76</td>\n",
              "      <td>0.88</td>\n",
              "      <td>0.66</td>\n",
              "      <td>441.67</td>\n",
              "      <td>0.01</td>\n",
              "      <td>2010-01-01</td>\n",
              "      <td>2010</td>\n",
              "      <td>1</td>\n",
              "      <td>0.000000</td>\n",
              "      <td>0.000000</td>\n",
              "    </tr>\n",
              "    <tr>\n",
              "      <th>1</th>\n",
              "      <td>01/11</td>\n",
              "      <td>7959.719372</td>\n",
              "      <td>16275.261032</td>\n",
              "      <td>3328.76</td>\n",
              "      <td>0.94</td>\n",
              "      <td>0.86</td>\n",
              "      <td>464.18</td>\n",
              "      <td>0.53</td>\n",
              "      <td>2011-01-01</td>\n",
              "      <td>2011</td>\n",
              "      <td>1</td>\n",
              "      <td>4.681984</td>\n",
              "      <td>4.681984</td>\n",
              "    </tr>\n",
              "    <tr>\n",
              "      <th>2</th>\n",
              "      <td>01/12</td>\n",
              "      <td>7972.261144</td>\n",
              "      <td>16499.769131</td>\n",
              "      <td>3516.11</td>\n",
              "      <td>0.51</td>\n",
              "      <td>0.89</td>\n",
              "      <td>475.01</td>\n",
              "      <td>0.10</td>\n",
              "      <td>2012-01-01</td>\n",
              "      <td>2012</td>\n",
              "      <td>1</td>\n",
              "      <td>1.379444</td>\n",
              "      <td>6.126013</td>\n",
              "    </tr>\n",
              "    <tr>\n",
              "      <th>3</th>\n",
              "      <td>01/13</td>\n",
              "      <td>7971.251818</td>\n",
              "      <td>16518.511579</td>\n",
              "      <td>3749.25</td>\n",
              "      <td>0.92</td>\n",
              "      <td>0.60</td>\n",
              "      <td>484.65</td>\n",
              "      <td>0.11</td>\n",
              "      <td>2013-01-01</td>\n",
              "      <td>2013</td>\n",
              "      <td>1</td>\n",
              "      <td>0.113592</td>\n",
              "      <td>6.246564</td>\n",
              "    </tr>\n",
              "    <tr>\n",
              "      <th>4</th>\n",
              "      <td>01/14</td>\n",
              "      <td>7953.551570</td>\n",
              "      <td>17703.071375</td>\n",
              "      <td>3946.44</td>\n",
              "      <td>0.63</td>\n",
              "      <td>0.85</td>\n",
              "      <td>502.98</td>\n",
              "      <td>0.74</td>\n",
              "      <td>2014-01-01</td>\n",
              "      <td>2014</td>\n",
              "      <td>1</td>\n",
              "      <td>7.171105</td>\n",
              "      <td>13.865617</td>\n",
              "    </tr>\n",
              "  </tbody>\n",
              "</table>\n",
              "</div>\n",
              "      <button class=\"colab-df-convert\" onclick=\"convertToInteractive('df-eed5accb-9b1d-4afe-8bde-d2d9ecb2573d')\"\n",
              "              title=\"Convert this dataframe to an interactive table.\"\n",
              "              style=\"display:none;\">\n",
              "        \n",
              "  <svg xmlns=\"http://www.w3.org/2000/svg\" height=\"24px\"viewBox=\"0 0 24 24\"\n",
              "       width=\"24px\">\n",
              "    <path d=\"M0 0h24v24H0V0z\" fill=\"none\"/>\n",
              "    <path d=\"M18.56 5.44l.94 2.06.94-2.06 2.06-.94-2.06-.94-.94-2.06-.94 2.06-2.06.94zm-11 1L8.5 8.5l.94-2.06 2.06-.94-2.06-.94L8.5 2.5l-.94 2.06-2.06.94zm10 10l.94 2.06.94-2.06 2.06-.94-2.06-.94-.94-2.06-.94 2.06-2.06.94z\"/><path d=\"M17.41 7.96l-1.37-1.37c-.4-.4-.92-.59-1.43-.59-.52 0-1.04.2-1.43.59L10.3 9.45l-7.72 7.72c-.78.78-.78 2.05 0 2.83L4 21.41c.39.39.9.59 1.41.59.51 0 1.02-.2 1.41-.59l7.78-7.78 2.81-2.81c.8-.78.8-2.07 0-2.86zM5.41 20L4 18.59l7.72-7.72 1.47 1.35L5.41 20z\"/>\n",
              "  </svg>\n",
              "      </button>\n",
              "      \n",
              "  <style>\n",
              "    .colab-df-container {\n",
              "      display:flex;\n",
              "      flex-wrap:wrap;\n",
              "      gap: 12px;\n",
              "    }\n",
              "\n",
              "    .colab-df-convert {\n",
              "      background-color: #E8F0FE;\n",
              "      border: none;\n",
              "      border-radius: 50%;\n",
              "      cursor: pointer;\n",
              "      display: none;\n",
              "      fill: #1967D2;\n",
              "      height: 32px;\n",
              "      padding: 0 0 0 0;\n",
              "      width: 32px;\n",
              "    }\n",
              "\n",
              "    .colab-df-convert:hover {\n",
              "      background-color: #E2EBFA;\n",
              "      box-shadow: 0px 1px 2px rgba(60, 64, 67, 0.3), 0px 1px 3px 1px rgba(60, 64, 67, 0.15);\n",
              "      fill: #174EA6;\n",
              "    }\n",
              "\n",
              "    [theme=dark] .colab-df-convert {\n",
              "      background-color: #3B4455;\n",
              "      fill: #D2E3FC;\n",
              "    }\n",
              "\n",
              "    [theme=dark] .colab-df-convert:hover {\n",
              "      background-color: #434B5C;\n",
              "      box-shadow: 0px 1px 3px 1px rgba(0, 0, 0, 0.15);\n",
              "      filter: drop-shadow(0px 1px 2px rgba(0, 0, 0, 0.3));\n",
              "      fill: #FFFFFF;\n",
              "    }\n",
              "  </style>\n",
              "\n",
              "      <script>\n",
              "        const buttonEl =\n",
              "          document.querySelector('#df-eed5accb-9b1d-4afe-8bde-d2d9ecb2573d button.colab-df-convert');\n",
              "        buttonEl.style.display =\n",
              "          google.colab.kernel.accessAllowed ? 'block' : 'none';\n",
              "\n",
              "        async function convertToInteractive(key) {\n",
              "          const element = document.querySelector('#df-eed5accb-9b1d-4afe-8bde-d2d9ecb2573d');\n",
              "          const dataTable =\n",
              "            await google.colab.kernel.invokeFunction('convertToInteractive',\n",
              "                                                     [key], {});\n",
              "          if (!dataTable) return;\n",
              "\n",
              "          const docLinkHtml = 'Like what you see? Visit the ' +\n",
              "            '<a target=\"_blank\" href=https://colab.research.google.com/notebooks/data_table.ipynb>data table notebook</a>'\n",
              "            + ' to learn more about interactive tables.';\n",
              "          element.innerHTML = '';\n",
              "          dataTable['output_type'] = 'display_data';\n",
              "          await google.colab.output.renderOutput(dataTable, element);\n",
              "          const docLink = document.createElement('div');\n",
              "          docLink.innerHTML = docLinkHtml;\n",
              "          element.appendChild(docLink);\n",
              "        }\n",
              "      </script>\n",
              "    </div>\n",
              "  </div>\n",
              "  "
            ]
          },
          "metadata": {},
          "execution_count": 154
        }
      ]
    },
    {
      "cell_type": "code",
      "source": [
        "# Converte a coluna 'data' para o formato de data com o formato atual\n",
        "dados_2['data'] = pd.to_datetime(dados_2['data'], format='%m/%y')\n",
        "\n",
        "# Agrupa os valores por mês e calcula a soma\n",
        "agrupado_por_mes = dados_1_material.groupby(pd.Grouper(key='data', freq='M')).mean()\n",
        "\n",
        "# Plota um gráfico de linha com os valores\n",
        "plt.subplots(figsize=(20, 4))\n",
        "plt.plot(agrupado_por_mes.index, agrupado_por_mes['valor'])\n",
        "plt.title('Variação mensal do preços ao longo do tempo(GLOBAL)')\n",
        "plt.xlabel('Data')\n",
        "plt.ylabel('Valor médio')\n",
        "plt.show()"
      ],
      "metadata": {
        "colab": {
          "base_uri": "https://localhost:8080/",
          "height": 410
        },
        "id": "DjwIpMKMN-U5",
        "outputId": "47154688-60ff-4b76-874e-2e9a213860d0"
      },
      "execution_count": 159,
      "outputs": [
        {
          "output_type": "display_data",
          "data": {
            "text/plain": [
              "<Figure size 2000x400 with 1 Axes>"
            ],
            "image/png": "[encoded data removed]"
          },
          "metadata": {}
        }
      ]
    },
    {
      "cell_type": "code",
      "source": [
        "# Converte a coluna 'data' para o formato de data com o formato atual\n",
        "dados_2['data'] = pd.to_datetime(dados_2['data'], format='%m/%y')\n",
        "\n",
        "# Agrupa os valores por mês e calcula a soma\n",
        "agrupado_por_mes = dados_1_material.groupby(pd.Grouper(key='data', freq='M')).mean()\n",
        "\n",
        "# Plota um gráfico de linha com os valores\n",
        "plt.subplots(figsize=(20, 4))\n",
        "plt.plot(agrupado_por_mes.index, agrupado_por_mes['valor'])\n",
        "plt.title('Variação mensal do preços ao longo do tempo(GLOBAL)')\n",
        "plt.xlabel('Data')\n",
        "plt.ylabel('Valor médio')\n",
        "plt.show()"
      ],
      "metadata": {
        "id": "HszSjbsfPkC5"
      },
      "execution_count": null,
      "outputs": []
    },
    {
      "cell_type": "code",
      "source": [],
      "metadata": {
        "id": "z_yCZppCTqwb"
      },
      "execution_count": null,
      "outputs": []
    }
  ]
}